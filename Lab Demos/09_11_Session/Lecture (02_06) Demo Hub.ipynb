{
 "cells": [
  {
   "cell_type": "markdown",
   "id": "ad2e12c1",
   "metadata": {},
   "source": [
    "# [Python Reference Link](http://www.data8.org/sp20/python-reference.html)\n",
    "*Run the cell below so that we can set our modules up*"
   ]
  },
  {
   "cell_type": "code",
   "execution_count": 1,
   "id": "ed49d269",
   "metadata": {},
   "outputs": [],
   "source": [
    "import numpy as np\n",
    "from datascience import *\n",
    "\n",
    "# These lines set up graphing capabilities.\n",
    "import matplotlib\n",
    "%matplotlib inline\n",
    "import matplotlib.pyplot as plt\n",
    "plt.style.use('fivethirtyeight')\n",
    "import warnings\n",
    "warnings.simplefilter('ignore', FutureWarning)\n",
    "\n",
    "from ipywidgets import interact, interactive, fixed, interact_manual\n",
    "import ipywidgets as widgets"
   ]
  },
  {
   "cell_type": "markdown",
   "id": "5b6a4570",
   "metadata": {},
   "source": [
    "# Creating Functions"
   ]
  },
  {
   "cell_type": "code",
   "execution_count": 3,
   "id": "2569931d",
   "metadata": {},
   "outputs": [],
   "source": [
    "def triple(sample_input):\n",
    "    #\n",
    "    output = sample_input * 3\n",
    "    return output"
   ]
  },
  {
   "cell_type": "code",
   "execution_count": 4,
   "id": "dd84ce87",
   "metadata": {},
   "outputs": [
    {
     "ename": "TypeError",
     "evalue": "triple() missing 1 required positional argument: 'sample_input'",
     "output_type": "error",
     "traceback": [
      "\u001b[0;31m---------------------------------------------------------------------------\u001b[0m",
      "\u001b[0;31mTypeError\u001b[0m                                 Traceback (most recent call last)",
      "Cell \u001b[0;32mIn[4], line 1\u001b[0m\n\u001b[0;32m----> 1\u001b[0m \u001b[43mtriple\u001b[49m\u001b[43m(\u001b[49m\u001b[43m)\u001b[49m\n",
      "\u001b[0;31mTypeError\u001b[0m: triple() missing 1 required positional argument: 'sample_input'"
     ]
    }
   ],
   "source": [
    "triple()"
   ]
  },
  {
   "cell_type": "code",
   "execution_count": 5,
   "id": "b3b217d0",
   "metadata": {},
   "outputs": [
    {
     "data": {
      "text/plain": [
       "24"
      ]
     },
     "execution_count": 5,
     "metadata": {},
     "output_type": "execute_result"
    }
   ],
   "source": [
    "triple(8)"
   ]
  },
  {
   "cell_type": "code",
   "execution_count": 6,
   "id": "3f1728b1",
   "metadata": {},
   "outputs": [
    {
     "data": {
      "text/plain": [
       "'HahaHahaHaha'"
      ]
     },
     "execution_count": 6,
     "metadata": {},
     "output_type": "execute_result"
    }
   ],
   "source": [
    "triple('Haha')"
   ]
  },
  {
   "cell_type": "code",
   "execution_count": 11,
   "id": "e5b520f7",
   "metadata": {},
   "outputs": [],
   "source": [
    "def convert_fahrenheit_to_celsius(degree_f):\n",
    "    degree_c = (degree_f - 32)*(5/9)\n",
    "    return degree_c\n",
    "    "
   ]
  },
  {
   "cell_type": "code",
   "execution_count": 10,
   "id": "cb0c708a",
   "metadata": {},
   "outputs": [
    {
     "data": {
      "text/plain": [
       "37.77777777777778"
      ]
     },
     "execution_count": 10,
     "metadata": {},
     "output_type": "execute_result"
    }
   ],
   "source": [
    "convert_fahrenheit_to_celsius(100)"
   ]
  },
  {
   "cell_type": "markdown",
   "id": "c5f4467f",
   "metadata": {},
   "source": [
    "# Applying Functions\n",
    "We will use Spring 2024's survey data to practice applying our functions"
   ]
  },
  {
   "cell_type": "code",
   "execution_count": 12,
   "id": "783b5878",
   "metadata": {},
   "outputs": [
    {
     "data": {
      "text/html": [
       "<table border=\"1\" class=\"dataframe\">\n",
       "    <thead>\n",
       "        <tr>\n",
       "            <th>Timestamp</th> <th>Surveyor</th> <th>GPA</th> <th>Introversion/Extroversion</th> <th>Pets</th> <th>Hand</th> <th>Sleep</th> <th>Chicken</th> <th>School</th> <th>Travel</th> <th>Day of Week</th> <th>School Subject</th> <th>Season</th> <th>Languages</th> <th>TV Show</th>\n",
       "        </tr>\n",
       "    </thead>\n",
       "    <tbody>\n",
       "        <tr>\n",
       "            <td>1/22/2024 14:27</td> <td>(Redacted)</td> <td>3.95</td> <td>9                        </td> <td>Cats, Dogs                                  </td> <td>Left-handed </td> <td>On my side                    </td> <td>Meat Alternative</td> <td>10    </td> <td>Hungary           </td> <td>Friday     </td> <td>Political Science                         </td> <td>Fall  </td> <td>English                                </td> <td>Designated Survivor                                         </td>\n",
       "        </tr>\n",
       "        <tr>\n",
       "            <td>1/22/2024 14:28</td> <td>(Redacted)</td> <td>3.87</td> <td>4                        </td> <td>Dogs                                        </td> <td>Right-handed</td> <td>On my side                    </td> <td>Boneless        </td> <td>7     </td> <td>Japan             </td> <td>Friday     </td> <td>Math                                      </td> <td>Winter</td> <td>English and Japanese (not really)      </td> <td>Avatar                                                      </td>\n",
       "        </tr>\n",
       "        <tr>\n",
       "            <td>1/22/2024 14:32</td> <td>(Redacted)</td> <td>3.5 </td> <td>6                        </td> <td>Cats                                        </td> <td>Right-handed</td> <td>On my side                    </td> <td>Boneless        </td> <td>7     </td> <td>New York          </td> <td>Wednesday  </td> <td>Mathematics                               </td> <td>Summer</td> <td>Burmese, English                       </td> <td>Vampire diaries                                             </td>\n",
       "        </tr>\n",
       "        <tr>\n",
       "            <td>1/22/2024 14:33</td> <td>(Redacted)</td> <td>3.4 </td> <td>8                        </td> <td>nan                                         </td> <td>Right-handed</td> <td>On my side                    </td> <td>Bone-in         </td> <td>7     </td> <td>Spain             </td> <td>Friday     </td> <td>Math                                      </td> <td>Summer</td> <td>Thai, Burmese, English                 </td> <td>Stranger Things                                             </td>\n",
       "        </tr>\n",
       "        <tr>\n",
       "            <td>1/22/2024 14:36</td> <td>(Redacted)</td> <td>3.97</td> <td>6                        </td> <td>Cats, Dogs                                  </td> <td>Right-handed</td> <td>On my side                    </td> <td>Boneless        </td> <td>9     </td> <td>Hawaii            </td> <td>Saturday   </td> <td>Physics                                   </td> <td>Summer</td> <td>English Spanish                        </td> <td>Mushoku Tensei                                              </td>\n",
       "        </tr>\n",
       "        <tr>\n",
       "            <td>1/22/2024 14:38</td> <td>(Redacted)</td> <td>3.4 </td> <td>6                        </td> <td>Dogs                                        </td> <td>Right-handed</td> <td>On my side                    </td> <td>Bone-in         </td> <td>3     </td> <td>Japan             </td> <td>Friday     </td> <td>Math                                      </td> <td>Summer</td> <td>English                                </td> <td>Shameless                                                   </td>\n",
       "        </tr>\n",
       "        <tr>\n",
       "            <td>1/22/2024 14:40</td> <td>(Redacted)</td> <td>3.75</td> <td>6                        </td> <td>nan                                         </td> <td>Left-handed </td> <td>On my side                    </td> <td>Bone-in         </td> <td>5     </td> <td>Europe            </td> <td>Friday     </td> <td>Science                                   </td> <td>Fall  </td> <td>Burmese, English                       </td> <td>Mandalorian                                                 </td>\n",
       "        </tr>\n",
       "        <tr>\n",
       "            <td>1/22/2024 14:40</td> <td>(Redacted)</td> <td>3.62</td> <td>3                        </td> <td>Dogs                                        </td> <td>Right-handed</td> <td>On my back                    </td> <td>Bone-in         </td> <td>7     </td> <td>No Response       </td> <td>Saturday   </td> <td>Physics                                   </td> <td>Spring</td> <td>English                                </td> <td>Jujutsu Kaisen                                              </td>\n",
       "        </tr>\n",
       "        <tr>\n",
       "            <td>1/22/2024 14:42</td> <td>(Redacted)</td> <td>3.98</td> <td>8                        </td> <td>Dogs                                        </td> <td>Right-handed</td> <td>On my back                    </td> <td>Bone-in         </td> <td>8     </td> <td>Japan             </td> <td>Friday     </td> <td>Economics                                 </td> <td>Summer</td> <td>English                                </td> <td>Suits                                                       </td>\n",
       "        </tr>\n",
       "        <tr>\n",
       "            <td>1/22/2024 14:43</td> <td>(Redacted)</td> <td>3.97</td> <td>4                        </td> <td>Cats                                        </td> <td>Left-handed </td> <td>On my side                    </td> <td>Bone-in         </td> <td>8     </td> <td>Japan             </td> <td>Friday     </td> <td>Math                                      </td> <td>Winter</td> <td>English                                </td> <td>Teen Titans                                                 </td>\n",
       "        </tr>\n",
       "        <tr>\n",
       "            <td>1/22/2024 14:47</td> <td>(Redacted)</td> <td>4   </td> <td>7                        </td> <td>nan                                         </td> <td>Right-handed</td> <td>On my side                    </td> <td>Bone-in         </td> <td>8     </td> <td>San Jose          </td> <td>Friday     </td> <td>Math                                      </td> <td>Winter</td> <td>English and Tagalog                    </td> <td>Neon Genesis Evangelion                                     </td>\n",
       "        </tr>\n",
       "        <tr>\n",
       "            <td>1/22/2024 14:47</td> <td>(Redacted)</td> <td>3.98</td> <td>8                        </td> <td>Cats, Dogs                                  </td> <td>Left-handed </td> <td>On my back                    </td> <td>Boneless        </td> <td>8     </td> <td>Philippines       </td> <td>Saturday   </td> <td>Political Science/Environmental Science   </td> <td>Summer</td> <td>Tagalog and English                    </td> <td>The Office                                                  </td>\n",
       "        </tr>\n",
       "        <tr>\n",
       "            <td>1/22/2024 14:54</td> <td>(Redacted)</td> <td>2.9 </td> <td>6                        </td> <td>nan                                         </td> <td>Right-handed</td> <td>On my side                    </td> <td>Boneless        </td> <td>7     </td> <td>No Response       </td> <td>Friday     </td> <td>nan                                       </td> <td>Winter</td> <td>English and Spanish                    </td> <td>Strawberry Shortcake                                        </td>\n",
       "        </tr>\n",
       "        <tr>\n",
       "            <td>1/22/2024 14:54</td> <td>(Redacted)</td> <td>4.2 </td> <td>4                        </td> <td>Cats                                        </td> <td>Right-handed</td> <td>on my side but i hug a pillow </td> <td>Bone-in         </td> <td>2     </td> <td>Greece            </td> <td>Saturday   </td> <td>AP art/art history or english for academic</td> <td>Fall  </td> <td>english                                </td> <td>arcane                                                      </td>\n",
       "        </tr>\n",
       "        <tr>\n",
       "            <td>1/22/2024 14:56</td> <td>(Redacted)</td> <td>3.7 </td> <td>4                        </td> <td>nan                                         </td> <td>Right-handed</td> <td>On my side                    </td> <td>Boneless        </td> <td>8     </td> <td>Italy             </td> <td>Sunday     </td> <td>Law                                       </td> <td>Spring</td> <td>Spanish and English                    </td> <td>Gilmore Girls                                               </td>\n",
       "        </tr>\n",
       "        <tr>\n",
       "            <td>1/22/2024 15:05</td> <td>(Redacted)</td> <td>3.7 </td> <td>8                        </td> <td>nan                                         </td> <td>Right-handed</td> <td>All of the above              </td> <td>Bone-in         </td> <td>7     </td> <td>Netherlands       </td> <td>Monday     </td> <td>Math                                      </td> <td>Fall  </td> <td>English                                </td> <td>Criminal Minds                                              </td>\n",
       "        </tr>\n",
       "        <tr>\n",
       "            <td>1/22/2024 15:07</td> <td>(Redacted)</td> <td>4   </td> <td>7                        </td> <td>Dogs                                        </td> <td>Right-handed</td> <td>On my back                    </td> <td>Boneless        </td> <td>6     </td> <td>Las Vegas         </td> <td>Friday     </td> <td>Music production                          </td> <td>Summer</td> <td>English and spanish                    </td> <td>Breaking bad                                                </td>\n",
       "        </tr>\n",
       "        <tr>\n",
       "            <td>1/22/2024 15:11</td> <td>(Redacted)</td> <td>2   </td> <td>3                        </td> <td>Cats                                        </td> <td>Left-handed </td> <td>On my side                    </td> <td>Boneless        </td> <td>8     </td> <td>Palestine         </td> <td>Saturday   </td> <td>History                                   </td> <td>Spring</td> <td>English, arabic, little bit of Spanish </td> <td>Run Bts                                                     </td>\n",
       "        </tr>\n",
       "        <tr>\n",
       "            <td>1/22/2024 15:12</td> <td>(Redacted)</td> <td>3.2 </td> <td>3                        </td> <td>Dogs                                        </td> <td>Right-handed</td> <td>On my side                    </td> <td>Bone-in         </td> <td>2     </td> <td>South Korea       </td> <td>Friday     </td> <td>History                                   </td> <td>Fall  </td> <td>3                                      </td> <td>South Park                                                  </td>\n",
       "        </tr>\n",
       "        <tr>\n",
       "            <td>1/22/2024 15:22</td> <td>(Redacted)</td> <td>3.5 </td> <td>7                        </td> <td>None, Have dogs and cats back in my country.</td> <td>Right-handed</td> <td>On my side                    </td> <td>Bone-in         </td> <td>9     </td> <td>Hawaii            </td> <td>Sunday     </td> <td>Biology                                   </td> <td>Fall  </td> <td>English, Burmese, Korean               </td> <td>Big Bang Theory                                             </td>\n",
       "        </tr>\n",
       "        <tr>\n",
       "            <td>1/22/2024 15:25</td> <td>(Redacted)</td> <td>4   </td> <td>8                        </td> <td>nan                                         </td> <td>Right-handed</td> <td>On my side                    </td> <td>Bone-in         </td> <td>7     </td> <td>Japan             </td> <td>Friday     </td> <td>Biology                                   </td> <td>Fall  </td> <td>English & Tagalog                      </td> <td>Better Call Saul                                            </td>\n",
       "        </tr>\n",
       "        <tr>\n",
       "            <td>1/22/2024 15:27</td> <td>(Redacted)</td> <td>4   </td> <td>6                        </td> <td>nan                                         </td> <td>Left-handed </td> <td>On my side                    </td> <td>Bone-in         </td> <td>5     </td> <td>Philippines       </td> <td>Friday     </td> <td>Math                                      </td> <td>Winter</td> <td>English                                </td> <td>My Demon                                                    </td>\n",
       "        </tr>\n",
       "        <tr>\n",
       "            <td>1/22/2024 15:27</td> <td>(Redacted)</td> <td>3.9 </td> <td>6                        </td> <td>Dogs                                        </td> <td>Right-handed</td> <td>On my side                    </td> <td>Boneless        </td> <td>9     </td> <td>Thailand          </td> <td>Sunday     </td> <td>Math                                      </td> <td>Spring</td> <td>Burmese, English, Mandarin             </td> <td>Breaking Bad                                                </td>\n",
       "        </tr>\n",
       "        <tr>\n",
       "            <td>1/22/2024 15:27</td> <td>(Redacted)</td> <td>3.77</td> <td>5                        </td> <td>nan                                         </td> <td>Right-handed</td> <td>On my side                    </td> <td>Bone-in         </td> <td>1     </td> <td>Japan             </td> <td>Saturday   </td> <td>Physics                                   </td> <td>Spring</td> <td>Tagalog, English                       </td> <td>Big Bang Theory                                             </td>\n",
       "        </tr>\n",
       "        <tr>\n",
       "            <td>1/22/2024 15:28</td> <td>(Redacted)</td> <td>3.94</td> <td>9                        </td> <td>nan                                         </td> <td>Right-handed</td> <td>On my side                    </td> <td>Bone-in         </td> <td>8     </td> <td>Japan             </td> <td>Friday     </td> <td>Human Anatomy                             </td> <td>Winter</td> <td>English and Filipino                   </td> <td>Fullmetal Alchemist: Brotherhood (anime) or His Dark Mat ...</td>\n",
       "        </tr>\n",
       "        <tr>\n",
       "            <td>1/22/2024 15:28</td> <td>(Redacted)</td> <td>3.62</td> <td>8                        </td> <td>nan                                         </td> <td>Right-handed</td> <td>On my side                    </td> <td>Bone-in         </td> <td>8     </td> <td>Hawaii            </td> <td>Friday     </td> <td>English                                   </td> <td>Summer</td> <td>english                                </td> <td>peaky blinders                                              </td>\n",
       "        </tr>\n",
       "        <tr>\n",
       "            <td>1/22/2024 15:28</td> <td>(Redacted)</td> <td>4   </td> <td>2                        </td> <td>Cats                                        </td> <td>Right-handed</td> <td>On my side                    </td> <td>Meat Alternative</td> <td>10    </td> <td>United Kingdom    </td> <td>Friday     </td> <td>Biology                                   </td> <td>Winter</td> <td>English                                </td> <td>Star Wars: The Clone Wars                                   </td>\n",
       "        </tr>\n",
       "        <tr>\n",
       "            <td>1/22/2024 15:29</td> <td>(Redacted)</td> <td>4   </td> <td>3                        </td> <td>Dogs                                        </td> <td>Right-handed</td> <td>On my stomach                 </td> <td>Boneless        </td> <td>7     </td> <td>Europe            </td> <td>Saturday   </td> <td>Science                                   </td> <td>Winter</td> <td>English                                </td> <td>Taskmaster                                                  </td>\n",
       "        </tr>\n",
       "        <tr>\n",
       "            <td>1/22/2024 15:31</td> <td>(Redacted)</td> <td>2.8 </td> <td>6                        </td> <td>Dogs                                        </td> <td>Right-handed</td> <td>On my side                    </td> <td>Boneless        </td> <td>6     </td> <td>Dominican Republic</td> <td>Friday     </td> <td>English                                   </td> <td>Summer</td> <td>English                                </td> <td>Daria                                                       </td>\n",
       "        </tr>\n",
       "        <tr>\n",
       "            <td>1/22/2024 15:32</td> <td>(Redacted)</td> <td>3.94</td> <td>8                        </td> <td>nan                                         </td> <td>Right-handed</td> <td>On my back                    </td> <td>Bone-in         </td> <td>8     </td> <td>France            </td> <td>Friday     </td> <td>Biology                                   </td> <td>Summer</td> <td>Tagalog, English                       </td> <td>Gilmore Girls                                               </td>\n",
       "        </tr>\n",
       "        <tr>\n",
       "            <td>1/22/2024 15:32</td> <td>(Redacted)</td> <td>3.76</td> <td>7                        </td> <td>Dogs                                        </td> <td>Left-handed </td> <td>On my side                    </td> <td>Bone-in         </td> <td>6     </td> <td>Asia              </td> <td>Saturday   </td> <td>nan                                       </td> <td>Spring</td> <td>Burmese, English, Mandarin             </td> <td>nan                                                         </td>\n",
       "        </tr>\n",
       "        <tr>\n",
       "            <td>1/22/2024 15:33</td> <td>(Redacted)</td> <td>3.9 </td> <td>3                        </td> <td>Cats                                        </td> <td>Right-handed</td> <td>On my back                    </td> <td>Boneless        </td> <td>8     </td> <td>No Response       </td> <td>Saturday   </td> <td>Physics                                   </td> <td>Spring</td> <td>Burmese , English                      </td> <td>I like everything don’t have favorites                      </td>\n",
       "        </tr>\n",
       "        <tr>\n",
       "            <td>1/22/2024 15:34</td> <td>(Redacted)</td> <td>3.55</td> <td>7                        </td> <td>Dogs, Reptiles                              </td> <td>Right-handed</td> <td>On my stomach                 </td> <td>Bone-in         </td> <td>5     </td> <td>Philippines       </td> <td>Saturday   </td> <td>Biology                                   </td> <td>Spring</td> <td>Chinese, indonesian, english           </td> <td>Marry my husband                                            </td>\n",
       "        </tr>\n",
       "        <tr>\n",
       "            <td>1/22/2024 15:50</td> <td>(Redacted)</td> <td>3.9 </td> <td>4                        </td> <td>Cats                                        </td> <td>Right-handed</td> <td>On my stomach                 </td> <td>Boneless        </td> <td>8     </td> <td>United Kingdom    </td> <td>Monday     </td> <td>Art                                       </td> <td>Fall  </td> <td>English                                </td> <td>Vampire Diaries                                             </td>\n",
       "        </tr>\n",
       "        <tr>\n",
       "            <td>1/22/2024 16:00</td> <td>(Redacted)</td> <td>3.5 </td> <td>7                        </td> <td>Cats, Dogs                                  </td> <td>Right-handed</td> <td>On my side                    </td> <td>Boneless        </td> <td>5     </td> <td>Japan             </td> <td>Wednesday  </td> <td>Science                                   </td> <td>Spring</td> <td>English                                </td> <td>Arrow                                                       </td>\n",
       "        </tr>\n",
       "        <tr>\n",
       "            <td>1/22/2024 16:02</td> <td>(Redacted)</td> <td>3.45</td> <td>3                        </td> <td>Cats                                        </td> <td>Right-handed</td> <td>On my side                    </td> <td>Bone-in         </td> <td>7     </td> <td>Los Angeles       </td> <td>Friday     </td> <td>Chemistry                                 </td> <td>Winter</td> <td>English & Tagalog                      </td> <td>Modern Family                                               </td>\n",
       "        </tr>\n",
       "        <tr>\n",
       "            <td>1/22/2024 16:15</td> <td>(Redacted)</td> <td>4   </td> <td>4                        </td> <td>nan                                         </td> <td>Left-handed </td> <td>On my side                    </td> <td>Bone-in         </td> <td>7     </td> <td>Japan             </td> <td>Saturday   </td> <td>Biology                                   </td> <td>Summer</td> <td>English, Chinese, Spanish              </td> <td>The Office                                                  </td>\n",
       "        </tr>\n",
       "        <tr>\n",
       "            <td>1/22/2024 16:20</td> <td>(Redacted)</td> <td>3.5 </td> <td>7                        </td> <td>Cats                                        </td> <td>Right-handed</td> <td>On my back                    </td> <td>Bone-in         </td> <td>10    </td> <td>South Korea       </td> <td>Saturday   </td> <td>Astronomy                                 </td> <td>Summer</td> <td>English, Spanish                       </td> <td>Jujitsu Kaisen                                              </td>\n",
       "        </tr>\n",
       "        <tr>\n",
       "            <td>1/22/2024 16:24</td> <td>(Redacted)</td> <td>3.58</td> <td>2                        </td> <td>nan                                         </td> <td>Right-handed</td> <td>depend how cold is the night  </td> <td>Bone-in         </td> <td>3     </td> <td>Ecuador           </td> <td>Monday     </td> <td>CS                                        </td> <td>Spring</td> <td>Spanish, English                       </td> <td>nan                                                         </td>\n",
       "        </tr>\n",
       "        <tr>\n",
       "            <td>1/22/2024 16:25</td> <td>(Redacted)</td> <td>2   </td> <td>10                       </td> <td>Rodents                                     </td> <td>Right-handed</td> <td>On my stomach                 </td> <td>Boneless        </td> <td>1     </td> <td>No Response       </td> <td>Monday     </td> <td>English                                   </td> <td>Summer</td> <td>English                                </td> <td>StarWars                                                    </td>\n",
       "        </tr>\n",
       "        <tr>\n",
       "            <td>1/22/2024 16:26</td> <td>(Redacted)</td> <td>4   </td> <td>5                        </td> <td>Cats, Dogs                                  </td> <td>Right-handed</td> <td>On my side                    </td> <td>Bone-in         </td> <td>7     </td> <td>New York          </td> <td>Friday     </td> <td>Math                                      </td> <td>Winter</td> <td>English                                </td> <td>Nothing                                                     </td>\n",
       "        </tr>\n",
       "        <tr>\n",
       "            <td>1/22/2024 16:28</td> <td>(Redacted)</td> <td>20  </td> <td>3                        </td> <td>Cats, Dogs, Reptiles, Rodents, Alligator    </td> <td>Both        </td> <td>On my stomach                 </td> <td>Meat Alternative</td> <td>10    </td> <td>No Response       </td> <td>Thursday   </td> <td>English                                   </td> <td>Fall  </td> <td>English                                </td> <td>Spongebob                                                   </td>\n",
       "        </tr>\n",
       "        <tr>\n",
       "            <td>1/22/2024 16:37</td> <td>(Redacted)</td> <td>3.95</td> <td>5                        </td> <td>nan                                         </td> <td>Right-handed</td> <td>On my side                    </td> <td>Boneless        </td> <td>5     </td> <td>No Response       </td> <td>Friday     </td> <td>nan                                       </td> <td>Spring</td> <td>English, Burmese, Chinese              </td> <td>Alchemy of souls                                            </td>\n",
       "        </tr>\n",
       "        <tr>\n",
       "            <td>1/22/2024 16:58</td> <td>(Redacted)</td> <td>4.2 </td> <td>8                        </td> <td>Dogs                                        </td> <td>Right-handed</td> <td>On my side                    </td> <td>Meat Alternative</td> <td>3     </td> <td>Armenia           </td> <td>Saturday   </td> <td>Biology                                   </td> <td>Winter</td> <td>English, Armenian, Farsi               </td> <td>2 Broke Girls                                               </td>\n",
       "        </tr>\n",
       "        <tr>\n",
       "            <td>1/22/2024 17:01</td> <td>(Redacted)</td> <td>2.99</td> <td>9                        </td> <td>Dogs                                        </td> <td>Right-handed</td> <td>On my stomach                 </td> <td>Bone-in         </td> <td>8     </td> <td>Philippines       </td> <td>Friday     </td> <td>Psychology                                </td> <td>Summer</td> <td>English, Spanish, andTagalog           </td> <td>Mandalorian                                                 </td>\n",
       "        </tr>\n",
       "        <tr>\n",
       "            <td>1/22/2024 17:03</td> <td>(Redacted)</td> <td>3.4 </td> <td>5                        </td> <td>nan                                         </td> <td>Right-handed</td> <td>On my side                    </td> <td>Bone-in         </td> <td>5     </td> <td>United Kingdom    </td> <td>Friday     </td> <td>Psychology                                </td> <td>Fall  </td> <td>English                                </td> <td>Singles Inferno                                             </td>\n",
       "        </tr>\n",
       "        <tr>\n",
       "            <td>1/22/2024 17:04</td> <td>(Redacted)</td> <td>3.38</td> <td>7                        </td> <td>Dogs                                        </td> <td>Left-handed </td> <td>On my side                    </td> <td>Bone-in         </td> <td>6     </td> <td>Fiji              </td> <td>Friday     </td> <td>History                                   </td> <td>Fall  </td> <td>Hindi and English                      </td> <td>That 70's Show                                              </td>\n",
       "        </tr>\n",
       "        <tr>\n",
       "            <td>1/22/2024 17:09</td> <td>(Redacted)</td> <td>3.18</td> <td>8                        </td> <td>Dogs                                        </td> <td>Right-handed</td> <td>On my side                    </td> <td>Bone-in         </td> <td>10    </td> <td>Yosemite          </td> <td>Saturday   </td> <td>Math                                      </td> <td>Spring</td> <td>English                                </td> <td>Star Trek                                                   </td>\n",
       "        </tr>\n",
       "        <tr>\n",
       "            <td>1/22/2024 17:09</td> <td>(Redacted)</td> <td>3.98</td> <td>8                        </td> <td>nan                                         </td> <td>Right-handed</td> <td>On my back                    </td> <td>Boneless        </td> <td>8     </td> <td>Japan             </td> <td>Friday     </td> <td>Computer Science                          </td> <td>Spring</td> <td>English, Japanese, Tagalog             </td> <td>Demon Slayer                                                </td>\n",
       "        </tr>\n",
       "        <tr>\n",
       "            <td>1/22/2024 17:10</td> <td>(Redacted)</td> <td>3.49</td> <td>3                        </td> <td>nan                                         </td> <td>Right-handed</td> <td>On my stomach                 </td> <td>Bone-in         </td> <td>3     </td> <td>Los Angeles       </td> <td>Saturday   </td> <td>Math                                      </td> <td>Summer</td> <td>English                                </td> <td>Sherlock                                                    </td>\n",
       "        </tr>\n",
       "    </tbody>\n",
       "</table>\n",
       "<p>... (344 rows omitted)</p>"
      ],
      "text/plain": [
       "<IPython.core.display.HTML object>"
      ]
     },
     "metadata": {},
     "output_type": "display_data"
    }
   ],
   "source": [
    "math211_survey = Table.read_table('Sp24_Math_211_Survey_cleaned.csv')\n",
    "math211_survey.show(50)"
   ]
  },
  {
   "cell_type": "markdown",
   "id": "182c554c",
   "metadata": {},
   "source": [
    "### Inquiry: \n",
    "Although the survey lists our responses about desired travel destination, **by name**, I want to capture a sense of **how far** they are from our campus. So, I used a website (called [\"distance.to\"](https://www.distance.to/San-Bruno,CA,USA) to find the distance to each mentioned travel destination and I got the following table: "
   ]
  },
  {
   "cell_type": "code",
   "execution_count": 13,
   "id": "2f00f240",
   "metadata": {
    "scrolled": true
   },
   "outputs": [
    {
     "data": {
      "text/html": [
       "<table border=\"1\" class=\"dataframe\">\n",
       "    <thead>\n",
       "        <tr>\n",
       "            <th>Place</th> <th>Distance (mi)</th> <th>Primary Language</th>\n",
       "        </tr>\n",
       "    </thead>\n",
       "    <tbody>\n",
       "        <tr>\n",
       "            <td>Colombia          </td> <td>3869.09      </td> <td>Spanish         </td>\n",
       "        </tr>\n",
       "        <tr>\n",
       "            <td>Greece            </td> <td>6679.73      </td> <td>Greek           </td>\n",
       "        </tr>\n",
       "        <tr>\n",
       "            <td>Austria           </td> <td>5962.79      </td> <td>German          </td>\n",
       "        </tr>\n",
       "        <tr>\n",
       "            <td>Croatia           </td> <td>6144.69      </td> <td>Croatian        </td>\n",
       "        </tr>\n",
       "        <tr>\n",
       "            <td>Anaheim           </td> <td>363.72       </td> <td>English         </td>\n",
       "        </tr>\n",
       "        <tr>\n",
       "            <td>Hungary           </td> <td>6144.98      </td> <td>Hungarian       </td>\n",
       "        </tr>\n",
       "        <tr>\n",
       "            <td>Japan             </td> <td>5142.42      </td> <td>Japanese        </td>\n",
       "        </tr>\n",
       "        <tr>\n",
       "            <td>New York          </td> <td>2570.48      </td> <td>English         </td>\n",
       "        </tr>\n",
       "        <tr>\n",
       "            <td>Spain             </td> <td>5806.71      </td> <td>Spanish         </td>\n",
       "        </tr>\n",
       "        <tr>\n",
       "            <td>Hawaii            </td> <td>2344.8       </td> <td>English         </td>\n",
       "        </tr>\n",
       "        <tr>\n",
       "            <td>Europe            </td> <td>5592.38      </td> <td>Poly            </td>\n",
       "        </tr>\n",
       "        <tr>\n",
       "            <td>No Response       </td> <td>0            </td> <td>none            </td>\n",
       "        </tr>\n",
       "        <tr>\n",
       "            <td>San Jose          </td> <td>35.04        </td> <td>English         </td>\n",
       "        </tr>\n",
       "        <tr>\n",
       "            <td>Philippines       </td> <td>6999.15      </td> <td>Tagalog         </td>\n",
       "        </tr>\n",
       "        <tr>\n",
       "            <td>Italy             </td> <td>6207.77      </td> <td>Italian         </td>\n",
       "        </tr>\n",
       "        <tr>\n",
       "            <td>Netherlands       </td> <td>5489.08      </td> <td>Dutch           </td>\n",
       "        </tr>\n",
       "        <tr>\n",
       "            <td>Las Vegas         </td> <td>414.16       </td> <td>English         </td>\n",
       "        </tr>\n",
       "        <tr>\n",
       "            <td>Palestine         </td> <td>7419.22      </td> <td>Arabic          </td>\n",
       "        </tr>\n",
       "        <tr>\n",
       "            <td>South Korea       </td> <td>5660.08      </td> <td>Korean          </td>\n",
       "        </tr>\n",
       "        <tr>\n",
       "            <td>Thailand          </td> <td>7809.68      </td> <td>Thai            </td>\n",
       "        </tr>\n",
       "        <tr>\n",
       "            <td>United Kingdom    </td> <td>5076.48      </td> <td>English         </td>\n",
       "        </tr>\n",
       "        <tr>\n",
       "            <td>Dominican Republic</td> <td>3389.59      </td> <td>Spanish         </td>\n",
       "        </tr>\n",
       "        <tr>\n",
       "            <td>France            </td> <td>5709.08      </td> <td>French          </td>\n",
       "        </tr>\n",
       "        <tr>\n",
       "            <td>Asia              </td> <td>6765.77      </td> <td>Poly            </td>\n",
       "        </tr>\n",
       "        <tr>\n",
       "            <td>Los Angeles       </td> <td>339.93       </td> <td>English         </td>\n",
       "        </tr>\n",
       "        <tr>\n",
       "            <td>Ecuador           </td> <td>3890.7       </td> <td>Spanish         </td>\n",
       "        </tr>\n",
       "        <tr>\n",
       "            <td>Armenia           </td> <td>6997.04      </td> <td>Armenian        </td>\n",
       "        </tr>\n",
       "        <tr>\n",
       "            <td>Fiji              </td> <td>5451.17      </td> <td>Fijian          </td>\n",
       "        </tr>\n",
       "        <tr>\n",
       "            <td>Yosemite          </td> <td>156.67       </td> <td>English         </td>\n",
       "        </tr>\n",
       "        <tr>\n",
       "            <td>China             </td> <td>6570.48      </td> <td>Poly            </td>\n",
       "        </tr>\n",
       "        <tr>\n",
       "            <td>Belgium           </td> <td>5534.57      </td> <td>Poly            </td>\n",
       "        </tr>\n",
       "        <tr>\n",
       "            <td>Mexico            </td> <td>1575.94      </td> <td>Spanish         </td>\n",
       "        </tr>\n",
       "        <tr>\n",
       "            <td>Taiwan            </td> <td>6517.52      </td> <td>Mandarin        </td>\n",
       "        </tr>\n",
       "        <tr>\n",
       "            <td>Switzerland       </td> <td>5836.59      </td> <td>Poly            </td>\n",
       "        </tr>\n",
       "        <tr>\n",
       "            <td>Singapore         </td> <td>8446.89      </td> <td>Poly            </td>\n",
       "        </tr>\n",
       "        <tr>\n",
       "            <td>Brazil            </td> <td>5447.27      </td> <td>Portugese       </td>\n",
       "        </tr>\n",
       "        <tr>\n",
       "            <td>Myanmar           </td> <td>7678.57      </td> <td>Burmese         </td>\n",
       "        </tr>\n",
       "        <tr>\n",
       "            <td>Seattle           </td> <td>689.27       </td> <td>English         </td>\n",
       "        </tr>\n",
       "        <tr>\n",
       "            <td>Florida           </td> <td>2368.74      </td> <td>English         </td>\n",
       "        </tr>\n",
       "        <tr>\n",
       "            <td>New York          </td> <td>2570.48      </td> <td>English         </td>\n",
       "        </tr>\n",
       "        <tr>\n",
       "            <td>Lake Tahoe        </td> <td>159.44       </td> <td>English         </td>\n",
       "        </tr>\n",
       "        <tr>\n",
       "            <td>Canada            </td> <td>1600.18      </td> <td>Poly            </td>\n",
       "        </tr>\n",
       "        <tr>\n",
       "            <td>Peru              </td> <td>4483.79      </td> <td>Spanish         </td>\n",
       "        </tr>\n",
       "        <tr>\n",
       "            <td>New Orleans       </td> <td>1920.37      </td> <td>English         </td>\n",
       "        </tr>\n",
       "        <tr>\n",
       "            <td>India             </td> <td>8087.96      </td> <td>Hindi           </td>\n",
       "        </tr>\n",
       "        <tr>\n",
       "            <td>Morocco           </td> <td>6120.19      </td> <td>Arabic          </td>\n",
       "        </tr>\n",
       "        <tr>\n",
       "            <td>San Diego         </td> <td>450.88       </td> <td>English         </td>\n",
       "        </tr>\n",
       "        <tr>\n",
       "            <td>Orlando           </td> <td>2436.35      </td> <td>English         </td>\n",
       "        </tr>\n",
       "        <tr>\n",
       "            <td>Catalina Island   </td> <td>1337.74      </td> <td>English         </td>\n",
       "        </tr>\n",
       "        <tr>\n",
       "            <td>Miami             </td> <td>2580.84      </td> <td>English         </td>\n",
       "        </tr>\n",
       "        <tr>\n",
       "            <td>Indonesia         </td> <td>7928.19      </td> <td>Indonesian      </td>\n",
       "        </tr>\n",
       "        <tr>\n",
       "            <td>Maldives          </td> <td>9447.63      </td> <td>Dhivehi         </td>\n",
       "        </tr>\n",
       "        <tr>\n",
       "            <td>Santa Cruz        </td> <td>49.95        </td> <td>English         </td>\n",
       "        </tr>\n",
       "        <tr>\n",
       "            <td>Mill Valley       </td> <td>20.39        </td> <td>English         </td>\n",
       "        </tr>\n",
       "        <tr>\n",
       "            <td>Egypt             </td> <td>7626.41      </td> <td>Arabic          </td>\n",
       "        </tr>\n",
       "        <tr>\n",
       "            <td>Kenya             </td> <td>9489.11      </td> <td>Swahili         </td>\n",
       "        </tr>\n",
       "        <tr>\n",
       "            <td>Oregon            </td> <td>451.25       </td> <td>English         </td>\n",
       "        </tr>\n",
       "        <tr>\n",
       "            <td>Jamaica           </td> <td>3030.89      </td> <td>English         </td>\n",
       "        </tr>\n",
       "        <tr>\n",
       "            <td>Slovenia          </td> <td>6078.24      </td> <td>Slovenian       </td>\n",
       "        </tr>\n",
       "        <tr>\n",
       "            <td>Utah              </td> <td>1712.66      </td> <td>English         </td>\n",
       "        </tr>\n",
       "        <tr>\n",
       "            <td>Santa Barbara     </td> <td>286.6        </td> <td>English         </td>\n",
       "        </tr>\n",
       "        <tr>\n",
       "            <td>Vietnam           </td> <td>7493.04      </td> <td>Vietnamese      </td>\n",
       "        </tr>\n",
       "        <tr>\n",
       "            <td>Argentina         </td> <td>6208.51      </td> <td>Spanish         </td>\n",
       "        </tr>\n",
       "        <tr>\n",
       "            <td>Sardinia          </td> <td>6253.35      </td> <td>Italian         </td>\n",
       "        </tr>\n",
       "        <tr>\n",
       "            <td>Africa            </td> <td>9978.17      </td> <td>Poly            </td>\n",
       "        </tr>\n",
       "        <tr>\n",
       "            <td>Irvine            </td> <td>375.73       </td> <td>English         </td>\n",
       "        </tr>\n",
       "        <tr>\n",
       "            <td>Bahamas           </td> <td>2767.43      </td> <td>English         </td>\n",
       "        </tr>\n",
       "        <tr>\n",
       "            <td>Turkey            </td> <td>6951.05      </td> <td>Turkish         </td>\n",
       "        </tr>\n",
       "        <tr>\n",
       "            <td>Haiti             </td> <td>3257.29      </td> <td>French          </td>\n",
       "        </tr>\n",
       "        <tr>\n",
       "            <td>Germany           </td> <td>5653.7       </td> <td>German          </td>\n",
       "        </tr>\n",
       "        <tr>\n",
       "            <td>Ireland           </td> <td>5057.74      </td> <td>English         </td>\n",
       "        </tr>\n",
       "        <tr>\n",
       "            <td>Austin TX         </td> <td>1497.19      </td> <td>English         </td>\n",
       "        </tr>\n",
       "        <tr>\n",
       "            <td>El Salvador       </td> <td>2633.11      </td> <td>Spanish         </td>\n",
       "        </tr>\n",
       "        <tr>\n",
       "            <td>Costa Rica        </td> <td>3076.66      </td> <td>Spanish         </td>\n",
       "        </tr>\n",
       "    </tbody>\n",
       "</table>"
      ],
      "text/plain": [
       "<IPython.core.display.HTML object>"
      ]
     },
     "metadata": {},
     "output_type": "display_data"
    }
   ],
   "source": [
    "travel_distances = Table.read_table('Travel_Destination_Distance_and_PrimaryLanguage.csv')\n",
    "travel_distances.show()"
   ]
  },
  {
   "cell_type": "markdown",
   "id": "1047e23b",
   "metadata": {},
   "source": [
    "### Practice Exercises:"
   ]
  },
  {
   "cell_type": "markdown",
   "id": "f0e58801",
   "metadata": {},
   "source": [
    "##### Question: How far away is Japan?"
   ]
  },
  {
   "cell_type": "code",
   "execution_count": 17,
   "id": "60180554",
   "metadata": {},
   "outputs": [
    {
     "data": {
      "text/plain": [
       "5142.42"
      ]
     },
     "execution_count": 17,
     "metadata": {},
     "output_type": "execute_result"
    }
   ],
   "source": [
    "travel_distances.where('Place','Japan').column('Distance (mi)').item(0)"
   ]
  },
  {
   "cell_type": "markdown",
   "id": "be4c33ac",
   "metadata": {},
   "source": [
    "##### Question: How far away is Thailand?"
   ]
  },
  {
   "cell_type": "code",
   "execution_count": 18,
   "id": "a02c7325",
   "metadata": {},
   "outputs": [
    {
     "data": {
      "text/plain": [
       "7809.68"
      ]
     },
     "execution_count": 18,
     "metadata": {},
     "output_type": "execute_result"
    }
   ],
   "source": [
    "travel_distances.where('Place','Thailand').column('Distance (mi)').item(0)"
   ]
  },
  {
   "cell_type": "markdown",
   "id": "c6c658ab",
   "metadata": {},
   "source": [
    "##### Question: How far away is Lake Tahoe?"
   ]
  },
  {
   "cell_type": "code",
   "execution_count": 19,
   "id": "59cba005",
   "metadata": {},
   "outputs": [
    {
     "data": {
      "text/plain": [
       "159.44"
      ]
     },
     "execution_count": 19,
     "metadata": {},
     "output_type": "execute_result"
    }
   ],
   "source": [
    "travel_distances.where('Place','Lake Tahoe').column('Distance (mi)').item(0)"
   ]
  },
  {
   "cell_type": "markdown",
   "id": "4d382131",
   "metadata": {},
   "source": [
    "##### Question: How far away is India?"
   ]
  },
  {
   "cell_type": "code",
   "execution_count": 20,
   "id": "2d1540ce",
   "metadata": {},
   "outputs": [
    {
     "data": {
      "text/plain": [
       "8087.96"
      ]
     },
     "execution_count": 20,
     "metadata": {},
     "output_type": "execute_result"
    }
   ],
   "source": [
    "travel_distances.where('Place','India').column('Distance (mi)').item(0)"
   ]
  },
  {
   "cell_type": "markdown",
   "id": "d4a14e4d",
   "metadata": {},
   "source": [
    "##### Question: How far away is Oregon?"
   ]
  },
  {
   "cell_type": "code",
   "execution_count": 21,
   "id": "74b4bf51",
   "metadata": {},
   "outputs": [
    {
     "data": {
      "text/plain": [
       "451.25"
      ]
     },
     "execution_count": 21,
     "metadata": {},
     "output_type": "execute_result"
    }
   ],
   "source": [
    "travel_distances.where('Place','Oregon').column('Distance (mi)').item(0)"
   ]
  },
  {
   "cell_type": "markdown",
   "id": "189c5427",
   "metadata": {},
   "source": [
    "##### Question: What primary language is spoken Brazil?"
   ]
  },
  {
   "cell_type": "code",
   "execution_count": 25,
   "id": "38a59f4d",
   "metadata": {},
   "outputs": [
    {
     "data": {
      "text/plain": [
       "'Portugese'"
      ]
     },
     "execution_count": 25,
     "metadata": {},
     "output_type": "execute_result"
    }
   ],
   "source": [
    "travel_distances.where('Place','Brazil ').column('Primary Language').item(0)"
   ]
  },
  {
   "cell_type": "markdown",
   "id": "2bfc15e7",
   "metadata": {},
   "source": [
    "### Converting the process as a function"
   ]
  },
  {
   "cell_type": "code",
   "execution_count": 26,
   "id": "efe9a521",
   "metadata": {},
   "outputs": [],
   "source": [
    "def find_distance(travel_destination):\n",
    "    distance = travel_distances.where('Place',travel_destination).column('Distance (mi)').item(0)\n",
    "    return distance"
   ]
  },
  {
   "cell_type": "code",
   "execution_count": 28,
   "id": "64746dec",
   "metadata": {},
   "outputs": [
    {
     "ename": "NameError",
     "evalue": "name 'distance' is not defined",
     "output_type": "error",
     "traceback": [
      "\u001b[0;31m---------------------------------------------------------------------------\u001b[0m",
      "\u001b[0;31mNameError\u001b[0m                                 Traceback (most recent call last)",
      "Cell \u001b[0;32mIn[28], line 1\u001b[0m\n\u001b[0;32m----> 1\u001b[0m \u001b[43mdistance\u001b[49m\n",
      "\u001b[0;31mNameError\u001b[0m: name 'distance' is not defined"
     ]
    }
   ],
   "source": [
    "distance"
   ]
  },
  {
   "cell_type": "code",
   "execution_count": 31,
   "id": "95eb8c75",
   "metadata": {},
   "outputs": [
    {
     "data": {
      "text/plain": [
       "7678.57"
      ]
     },
     "execution_count": 31,
     "metadata": {},
     "output_type": "execute_result"
    }
   ],
   "source": [
    "find_distance('Myanmar')"
   ]
  },
  {
   "cell_type": "markdown",
   "id": "136ccaa1",
   "metadata": {},
   "source": [
    "### Applying our function to the table\n",
    "First, we will start with looking at how to import our data into the notebook:\n",
    "<img src=\"apply_function.png\" alt=\"drawing\" width=\"1200\"/>\n",
    "*From the [Python reference](http://www.data8.org/sp20/python-reference.html) page"
   ]
  },
  {
   "cell_type": "code",
   "execution_count": 36,
   "id": "571303f3",
   "metadata": {},
   "outputs": [
    {
     "data": {
      "text/html": [
       "<table border=\"1\" class=\"dataframe\">\n",
       "    <thead>\n",
       "        <tr>\n",
       "            <th>Timestamp</th> <th>Surveyor</th> <th>GPA</th> <th>Introversion/Extroversion</th> <th>Travel</th>\n",
       "        </tr>\n",
       "    </thead>\n",
       "    <tbody>\n",
       "        <tr>\n",
       "            <td>1/22/2024 14:27</td> <td>(Redacted)</td> <td>3.95</td> <td>9                        </td> <td>Hungary    </td>\n",
       "        </tr>\n",
       "        <tr>\n",
       "            <td>1/22/2024 14:28</td> <td>(Redacted)</td> <td>3.87</td> <td>4                        </td> <td>Japan      </td>\n",
       "        </tr>\n",
       "        <tr>\n",
       "            <td>1/22/2024 14:32</td> <td>(Redacted)</td> <td>3.5 </td> <td>6                        </td> <td>New York   </td>\n",
       "        </tr>\n",
       "        <tr>\n",
       "            <td>1/22/2024 14:33</td> <td>(Redacted)</td> <td>3.4 </td> <td>8                        </td> <td>Spain      </td>\n",
       "        </tr>\n",
       "        <tr>\n",
       "            <td>1/22/2024 14:36</td> <td>(Redacted)</td> <td>3.97</td> <td>6                        </td> <td>Hawaii     </td>\n",
       "        </tr>\n",
       "        <tr>\n",
       "            <td>1/22/2024 14:38</td> <td>(Redacted)</td> <td>3.4 </td> <td>6                        </td> <td>Japan      </td>\n",
       "        </tr>\n",
       "        <tr>\n",
       "            <td>1/22/2024 14:40</td> <td>(Redacted)</td> <td>3.75</td> <td>6                        </td> <td>Europe     </td>\n",
       "        </tr>\n",
       "        <tr>\n",
       "            <td>1/22/2024 14:40</td> <td>(Redacted)</td> <td>3.62</td> <td>3                        </td> <td>No Response</td>\n",
       "        </tr>\n",
       "        <tr>\n",
       "            <td>1/22/2024 14:42</td> <td>(Redacted)</td> <td>3.98</td> <td>8                        </td> <td>Japan      </td>\n",
       "        </tr>\n",
       "        <tr>\n",
       "            <td>1/22/2024 14:43</td> <td>(Redacted)</td> <td>3.97</td> <td>4                        </td> <td>Japan      </td>\n",
       "        </tr>\n",
       "    </tbody>\n",
       "</table>\n",
       "<p>... (384 rows omitted)</p>"
      ],
      "text/plain": [
       "Timestamp       | Surveyor   | GPA  | Introversion/Extroversion | Travel\n",
       "1/22/2024 14:27 | (Redacted) | 3.95 | 9                         | Hungary\n",
       "1/22/2024 14:28 | (Redacted) | 3.87 | 4                         | Japan\n",
       "1/22/2024 14:32 | (Redacted) | 3.5  | 6                         | New York\n",
       "1/22/2024 14:33 | (Redacted) | 3.4  | 8                         | Spain\n",
       "1/22/2024 14:36 | (Redacted) | 3.97 | 6                         | Hawaii\n",
       "1/22/2024 14:38 | (Redacted) | 3.4  | 6                         | Japan\n",
       "1/22/2024 14:40 | (Redacted) | 3.75 | 6                         | Europe\n",
       "1/22/2024 14:40 | (Redacted) | 3.62 | 3                         | No Response\n",
       "1/22/2024 14:42 | (Redacted) | 3.98 | 8                         | Japan\n",
       "1/22/2024 14:43 | (Redacted) | 3.97 | 4                         | Japan\n",
       "... (384 rows omitted)"
      ]
     },
     "execution_count": 36,
     "metadata": {},
     "output_type": "execute_result"
    }
   ],
   "source": [
    "# Selecting a narrower set of columns (for easier viewing)\n",
    "math211_survey.select('Timestamp','Surveyor','GPA','Introversion/Extroversion','Travel')"
   ]
  },
  {
   "cell_type": "code",
   "execution_count": 39,
   "id": "be9903dc",
   "metadata": {},
   "outputs": [
    {
     "data": {
      "text/html": [
       "<table border=\"1\" class=\"dataframe\">\n",
       "    <thead>\n",
       "        <tr>\n",
       "            <th>Timestamp</th> <th>Surveyor</th> <th>GPA</th> <th>Introversion/Extroversion</th> <th>Travel</th> <th>Travel Distance</th>\n",
       "        </tr>\n",
       "    </thead>\n",
       "    <tbody>\n",
       "        <tr>\n",
       "            <td>1/22/2024 14:27</td> <td>(Redacted)</td> <td>3.95</td> <td>9                        </td> <td>Hungary    </td> <td>6144.98        </td>\n",
       "        </tr>\n",
       "        <tr>\n",
       "            <td>1/22/2024 14:28</td> <td>(Redacted)</td> <td>3.87</td> <td>4                        </td> <td>Japan      </td> <td>5142.42        </td>\n",
       "        </tr>\n",
       "        <tr>\n",
       "            <td>1/22/2024 14:32</td> <td>(Redacted)</td> <td>3.5 </td> <td>6                        </td> <td>New York   </td> <td>2570.48        </td>\n",
       "        </tr>\n",
       "        <tr>\n",
       "            <td>1/22/2024 14:33</td> <td>(Redacted)</td> <td>3.4 </td> <td>8                        </td> <td>Spain      </td> <td>5806.71        </td>\n",
       "        </tr>\n",
       "        <tr>\n",
       "            <td>1/22/2024 14:36</td> <td>(Redacted)</td> <td>3.97</td> <td>6                        </td> <td>Hawaii     </td> <td>2344.8         </td>\n",
       "        </tr>\n",
       "        <tr>\n",
       "            <td>1/22/2024 14:38</td> <td>(Redacted)</td> <td>3.4 </td> <td>6                        </td> <td>Japan      </td> <td>5142.42        </td>\n",
       "        </tr>\n",
       "        <tr>\n",
       "            <td>1/22/2024 14:40</td> <td>(Redacted)</td> <td>3.75</td> <td>6                        </td> <td>Europe     </td> <td>5592.38        </td>\n",
       "        </tr>\n",
       "        <tr>\n",
       "            <td>1/22/2024 14:40</td> <td>(Redacted)</td> <td>3.62</td> <td>3                        </td> <td>No Response</td> <td>0              </td>\n",
       "        </tr>\n",
       "        <tr>\n",
       "            <td>1/22/2024 14:42</td> <td>(Redacted)</td> <td>3.98</td> <td>8                        </td> <td>Japan      </td> <td>5142.42        </td>\n",
       "        </tr>\n",
       "        <tr>\n",
       "            <td>1/22/2024 14:43</td> <td>(Redacted)</td> <td>3.97</td> <td>4                        </td> <td>Japan      </td> <td>5142.42        </td>\n",
       "        </tr>\n",
       "    </tbody>\n",
       "</table>\n",
       "<p>... (384 rows omitted)</p>"
      ],
      "text/plain": [
       "Timestamp       | Surveyor   | GPA  | Introversion/Extroversion | Travel      | Travel Distance\n",
       "1/22/2024 14:27 | (Redacted) | 3.95 | 9                         | Hungary     | 6144.98\n",
       "1/22/2024 14:28 | (Redacted) | 3.87 | 4                         | Japan       | 5142.42\n",
       "1/22/2024 14:32 | (Redacted) | 3.5  | 6                         | New York    | 2570.48\n",
       "1/22/2024 14:33 | (Redacted) | 3.4  | 8                         | Spain       | 5806.71\n",
       "1/22/2024 14:36 | (Redacted) | 3.97 | 6                         | Hawaii      | 2344.8\n",
       "1/22/2024 14:38 | (Redacted) | 3.4  | 6                         | Japan       | 5142.42\n",
       "1/22/2024 14:40 | (Redacted) | 3.75 | 6                         | Europe      | 5592.38\n",
       "1/22/2024 14:40 | (Redacted) | 3.62 | 3                         | No Response | 0\n",
       "1/22/2024 14:42 | (Redacted) | 3.98 | 8                         | Japan       | 5142.42\n",
       "1/22/2024 14:43 | (Redacted) | 3.97 | 4                         | Japan       | 5142.42\n",
       "... (384 rows omitted)"
      ]
     },
     "execution_count": 39,
     "metadata": {},
     "output_type": "execute_result"
    }
   ],
   "source": [
    "distance_array = math211_survey.apply(find_distance,'Travel')\n",
    "math211_survey.with_column('Travel Distance',distance_array).select('Timestamp','Surveyor','GPA','Introversion/Extroversion','Travel','Travel Distance')"
   ]
  },
  {
   "cell_type": "code",
   "execution_count": null,
   "id": "f7acb023",
   "metadata": {},
   "outputs": [],
   "source": [
    "..."
   ]
  },
  {
   "cell_type": "markdown",
   "id": "63a196ca",
   "metadata": {},
   "source": [
    "## Side Note: Benford's Law"
   ]
  },
  {
   "cell_type": "code",
   "execution_count": 2,
   "id": "7d3cac26",
   "metadata": {},
   "outputs": [
    {
     "data": {
      "text/html": [
       "<table border=\"1\" class=\"dataframe\">\n",
       "    <thead>\n",
       "        <tr>\n",
       "            <th>country</th> <th>country_area_km2</th> <th>MSD_area</th>\n",
       "        </tr>\n",
       "    </thead>\n",
       "    <tbody>\n",
       "        <tr>\n",
       "            <td>Russia        </td> <td>1.70982e+07     </td> <td>1       </td>\n",
       "        </tr>\n",
       "        <tr>\n",
       "            <td>Antarctica    </td> <td>1.42e+07        </td> <td>1       </td>\n",
       "        </tr>\n",
       "        <tr>\n",
       "            <td>Canada[Note 3]</td> <td>9.98467e+06     </td> <td>9       </td>\n",
       "        </tr>\n",
       "        <tr>\n",
       "            <td>China         </td> <td>9.59696e+06     </td> <td>9       </td>\n",
       "        </tr>\n",
       "        <tr>\n",
       "            <td>United State  </td> <td>9.52507e+06     </td> <td>9       </td>\n",
       "        </tr>\n",
       "        <tr>\n",
       "            <td>Brazil        </td> <td>8.51577e+06     </td> <td>8       </td>\n",
       "        </tr>\n",
       "        <tr>\n",
       "            <td>Australia     </td> <td>7.69202e+06     </td> <td>7       </td>\n",
       "        </tr>\n",
       "        <tr>\n",
       "            <td>India         </td> <td>3.28726e+06     </td> <td>3       </td>\n",
       "        </tr>\n",
       "        <tr>\n",
       "            <td>Argentina     </td> <td>2.7804e+06      </td> <td>2       </td>\n",
       "        </tr>\n",
       "        <tr>\n",
       "            <td>Kazakhstan    </td> <td>2.7249e+06      </td> <td>2       </td>\n",
       "        </tr>\n",
       "    </tbody>\n",
       "</table>\n",
       "<p>... (253 rows omitted)</p>"
      ],
      "text/plain": [
       "country        | country_area_km2 | MSD_area\n",
       "Russia         | 1.70982e+07      | 1\n",
       "Antarctica     | 1.42e+07         | 1\n",
       "Canada[Note 3] | 9.98467e+06      | 9\n",
       "China          | 9.59696e+06      | 9\n",
       "United State   | 9.52507e+06      | 9\n",
       "Brazil         | 8.51577e+06      | 8\n",
       "Australia      | 7.69202e+06      | 7\n",
       "India          | 3.28726e+06      | 3\n",
       "Argentina      | 2.7804e+06       | 2\n",
       "Kazakhstan     | 2.7249e+06       | 2\n",
       "... (253 rows omitted)"
      ]
     },
     "execution_count": 2,
     "metadata": {},
     "output_type": "execute_result"
    }
   ],
   "source": [
    "country_area = Table().read_table('country_area.csv')\n",
    "country_area"
   ]
  },
  {
   "cell_type": "code",
   "execution_count": 50,
   "id": "d1baff69",
   "metadata": {},
   "outputs": [],
   "source": [
    "def extract_first_digit(this_number):\n",
    "    this_number_as_a_string = str(this_number)\n",
    "    first_number = this_number_as_a_string[0]\n",
    "    return int(first_number)"
   ]
  },
  {
   "cell_type": "code",
   "execution_count": 51,
   "id": "16754f8a",
   "metadata": {},
   "outputs": [
    {
     "data": {
      "text/plain": [
       "9"
      ]
     },
     "execution_count": 51,
     "metadata": {},
     "output_type": "execute_result"
    }
   ],
   "source": [
    "extract_first_digit(9345)"
   ]
  },
  {
   "cell_type": "code",
   "execution_count": 55,
   "id": "6ee3e31d",
   "metadata": {},
   "outputs": [
    {
     "data": {
      "text/html": [
       "<table border=\"1\" class=\"dataframe\">\n",
       "    <thead>\n",
       "        <tr>\n",
       "            <th>country</th> <th>country_area_km2</th> <th>MSD_area</th> <th>First Digit</th>\n",
       "        </tr>\n",
       "    </thead>\n",
       "    <tbody>\n",
       "        <tr>\n",
       "            <td>Russia        </td> <td>1.70982e+07     </td> <td>1       </td> <td>1          </td>\n",
       "        </tr>\n",
       "        <tr>\n",
       "            <td>Antarctica    </td> <td>1.42e+07        </td> <td>1       </td> <td>1          </td>\n",
       "        </tr>\n",
       "        <tr>\n",
       "            <td>Canada[Note 3]</td> <td>9.98467e+06     </td> <td>9       </td> <td>9          </td>\n",
       "        </tr>\n",
       "        <tr>\n",
       "            <td>China         </td> <td>9.59696e+06     </td> <td>9       </td> <td>9          </td>\n",
       "        </tr>\n",
       "        <tr>\n",
       "            <td>United State  </td> <td>9.52507e+06     </td> <td>9       </td> <td>9          </td>\n",
       "        </tr>\n",
       "        <tr>\n",
       "            <td>Brazil        </td> <td>8.51577e+06     </td> <td>8       </td> <td>8          </td>\n",
       "        </tr>\n",
       "        <tr>\n",
       "            <td>Australia     </td> <td>7.69202e+06     </td> <td>7       </td> <td>7          </td>\n",
       "        </tr>\n",
       "        <tr>\n",
       "            <td>India         </td> <td>3.28726e+06     </td> <td>3       </td> <td>3          </td>\n",
       "        </tr>\n",
       "        <tr>\n",
       "            <td>Argentina     </td> <td>2.7804e+06      </td> <td>2       </td> <td>2          </td>\n",
       "        </tr>\n",
       "        <tr>\n",
       "            <td>Kazakhstan    </td> <td>2.7249e+06      </td> <td>2       </td> <td>2          </td>\n",
       "        </tr>\n",
       "    </tbody>\n",
       "</table>\n",
       "<p>... (253 rows omitted)</p>"
      ],
      "text/plain": [
       "country        | country_area_km2 | MSD_area | First Digit\n",
       "Russia         | 1.70982e+07      | 1        | 1\n",
       "Antarctica     | 1.42e+07         | 1        | 1\n",
       "Canada[Note 3] | 9.98467e+06      | 9        | 9\n",
       "China          | 9.59696e+06      | 9        | 9\n",
       "United State   | 9.52507e+06      | 9        | 9\n",
       "Brazil         | 8.51577e+06      | 8        | 8\n",
       "Australia      | 7.69202e+06      | 7        | 7\n",
       "India          | 3.28726e+06      | 3        | 3\n",
       "Argentina      | 2.7804e+06       | 2        | 2\n",
       "Kazakhstan     | 2.7249e+06       | 2        | 2\n",
       "... (253 rows omitted)"
      ]
     },
     "execution_count": 55,
     "metadata": {},
     "output_type": "execute_result"
    }
   ],
   "source": [
    "area_array = country_area.apply(extract_first_digit,'country_area_km2')\n",
    "country_area = country_area.with_column('First Digit',area_array)\n",
    "country_area#.where('First Digit',0)"
   ]
  },
  {
   "cell_type": "code",
   "execution_count": 53,
   "id": "fbce165d",
   "metadata": {},
   "outputs": [
    {
     "data": {
      "image/png": "[encoded data removed]",
      "text/plain": [
       "<Figure size 600x400 with 1 Axes>"
      ]
     },
     "metadata": {},
     "output_type": "display_data"
    }
   ],
   "source": [
    "country_area.hist('First Digit')"
   ]
  },
  {
   "cell_type": "code",
   "execution_count": null,
   "id": "887a8cb0",
   "metadata": {},
   "outputs": [],
   "source": []
  },
  {
   "cell_type": "code",
   "execution_count": null,
   "id": "91b0f461",
   "metadata": {},
   "outputs": [],
   "source": []
  },
  {
   "cell_type": "code",
   "execution_count": null,
   "id": "44402044",
   "metadata": {},
   "outputs": [],
   "source": []
  },
  {
   "cell_type": "code",
   "execution_count": null,
   "id": "3c712725",
   "metadata": {},
   "outputs": [],
   "source": []
  },
  {
   "cell_type": "code",
   "execution_count": null,
   "id": "4bdf97a9",
   "metadata": {},
   "outputs": [],
   "source": []
  }
 ],
 "metadata": {
  "kernelspec": {
   "display_name": "Python 3 (ipykernel)",
   "language": "python",
   "name": "python3"
  },
  "language_info": {
   "codemirror_mode": {
    "name": "ipython",
    "version": 3
   },
   "file_extension": ".py",
   "mimetype": "text/x-python",
   "name": "python",
   "nbconvert_exporter": "python",
   "pygments_lexer": "ipython3",
   "version": "3.11.13"
  }
 },
 "nbformat": 4,
 "nbformat_minor": 5
}
