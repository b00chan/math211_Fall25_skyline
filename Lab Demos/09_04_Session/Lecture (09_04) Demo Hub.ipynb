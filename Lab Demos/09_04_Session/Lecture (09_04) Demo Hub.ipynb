{
 "cells": [
  {
   "cell_type": "markdown",
   "id": "7f85cd2c",
   "metadata": {},
   "source": [
    "# [Python Reference Link](http://www.data8.org/sp20/python-reference.html)\n",
    "*Run the cell below so that we can set our modules up*"
   ]
  },
  {
   "cell_type": "code",
   "execution_count": 1,
   "id": "3b5e82ac",
   "metadata": {},
   "outputs": [],
   "source": [
    "import numpy as np\n",
    "from datascience import *\n",
    "import math"
   ]
  },
  {
   "cell_type": "markdown",
   "id": "16e10c1f",
   "metadata": {},
   "source": [
    "# Order of Operations with tables"
   ]
  },
  {
   "cell_type": "markdown",
   "id": "858866ea",
   "metadata": {},
   "source": [
    "Let's run the cell below and take a look at the following movie dataset:"
   ]
  },
  {
   "cell_type": "code",
   "execution_count": 9,
   "id": "bdd939fa",
   "metadata": {},
   "outputs": [
    {
     "data": {
      "text/html": [
       "<table border=\"1\" class=\"dataframe\">\n",
       "    <thead>\n",
       "        <tr>\n",
       "            <th>index</th> <th>Title</th> <th>Release Date</th> <th>Year</th> <th>Description</th> <th>URL</th> <th>IMDb Rating</th> <th>Runtime (mins)</th> <th>Genres</th> <th>Num Votes</th> <th>Directors</th> <th>Movie Series</th> <th>Order</th>\n",
       "        </tr>\n",
       "    </thead>\n",
       "    <tbody>\n",
       "        <tr>\n",
       "            <td>0    </td> <td>101 Dalmatians       </td> <td>18-11-1996  </td> <td>1996</td> <td>nan        </td> <td>https://www.imdb.com/title/tt0115433/</td> <td>5.7        </td> <td>103           </td> <td>Adventure, Comedy, Crime, Family      </td> <td>98439    </td> <td>Stephen Herek                </td> <td>101 Dalmatians  </td> <td>1    </td>\n",
       "        </tr>\n",
       "        <tr>\n",
       "            <td>1    </td> <td>102 Dalmatians       </td> <td>22-11-2000  </td> <td>2000</td> <td>nan        </td> <td>https://www.imdb.com/title/tt0211181/</td> <td>4.9        </td> <td>100           </td> <td>Adventure, Comedy, Family             </td> <td>33823    </td> <td>Kevin Lima                   </td> <td>101 Dalmatians  </td> <td>2    </td>\n",
       "        </tr>\n",
       "        <tr>\n",
       "            <td>2    </td> <td>12 Rounds            </td> <td>19-03-2009  </td> <td>2009</td> <td>nan        </td> <td>https://www.imdb.com/title/tt1160368/</td> <td>5.6        </td> <td>108           </td> <td>Action, Crime, Thriller               </td> <td>26828    </td> <td>Renny Harlin                 </td> <td>12 Rounds       </td> <td>1    </td>\n",
       "        </tr>\n",
       "        <tr>\n",
       "            <td>3    </td> <td>12 Rounds 2: Reloaded</td> <td>04-06-2013  </td> <td>2013</td> <td>nan        </td> <td>https://www.imdb.com/title/tt2317524/</td> <td>5.3        </td> <td>95            </td> <td>Action, Adventure, Thriller           </td> <td>5141     </td> <td>Roel Reiné                   </td> <td>12 Rounds       </td> <td>2    </td>\n",
       "        </tr>\n",
       "        <tr>\n",
       "            <td>4    </td> <td>21 Jump Street       </td> <td>12-03-2012  </td> <td>2012</td> <td>nan        </td> <td>https://www.imdb.com/title/tt1232829/</td> <td>7.2        </td> <td>109           </td> <td>Action, Comedy, Crime                 </td> <td>498876   </td> <td>Christopher Miller, Phil Lord</td> <td>21 Jump Street  </td> <td>1    </td>\n",
       "        </tr>\n",
       "        <tr>\n",
       "            <td>5    </td> <td>22 Jump Street       </td> <td>04-06-2014  </td> <td>2014</td> <td>nan        </td> <td>https://www.imdb.com/title/tt2294449/</td> <td>7          </td> <td>112           </td> <td>Action, Comedy, Crime                 </td> <td>336672   </td> <td>Christopher Miller, Phil Lord</td> <td>21 Jump Street  </td> <td>2    </td>\n",
       "        </tr>\n",
       "        <tr>\n",
       "            <td>6    </td> <td>28 Days Later...     </td> <td>01-11-2002  </td> <td>2002</td> <td>nan        </td> <td>https://www.imdb.com/title/tt0289043/</td> <td>7.6        </td> <td>113           </td> <td>Drama, Horror, Sci-Fi, Thriller       </td> <td>366735   </td> <td>Danny Boyle                  </td> <td>28 Days Later...</td> <td>1    </td>\n",
       "        </tr>\n",
       "        <tr>\n",
       "            <td>7    </td> <td>28 Weeks Later       </td> <td>26-04-2007  </td> <td>2007</td> <td>nan        </td> <td>https://www.imdb.com/title/tt0463854/</td> <td>7          </td> <td>100           </td> <td>Horror, Sci-Fi                        </td> <td>253260   </td> <td>Juan Carlos Fresnadillo      </td> <td>28 Days Later...</td> <td>2    </td>\n",
       "        </tr>\n",
       "        <tr>\n",
       "            <td>8    </td> <td>30 Days of Night     </td> <td>16-10-2007  </td> <td>2007</td> <td>nan        </td> <td>https://www.imdb.com/title/tt0389722/</td> <td>6.6        </td> <td>113           </td> <td>Action, Horror, Thriller              </td> <td>160930   </td> <td>David Slade                  </td> <td>30 Days of Night</td> <td>1    </td>\n",
       "        </tr>\n",
       "        <tr>\n",
       "            <td>9    </td> <td>48 Hrs.              </td> <td>08-12-1982  </td> <td>1982</td> <td>nan        </td> <td>https://www.imdb.com/title/tt0083511/</td> <td>6.9        </td> <td>96            </td> <td>Action, Comedy, Crime, Drama, Thriller</td> <td>66889    </td> <td>Walter Hill                  </td> <td>48 Hrs.         </td> <td>1    </td>\n",
       "        </tr>\n",
       "    </tbody>\n",
       "</table>\n",
       "<p>... (856 rows omitted)</p>"
      ],
      "text/plain": [
       "<IPython.core.display.HTML object>"
      ]
     },
     "metadata": {},
     "output_type": "display_data"
    }
   ],
   "source": [
    "movies = Table.read_table('Movies - Cleaned.csv')\n",
    "movies.show(10)"
   ]
  },
  {
   "cell_type": "markdown",
   "id": "a5727d2d",
   "metadata": {},
   "source": [
    "## Question: How many movies in this data set were sequels?"
   ]
  },
  {
   "cell_type": "code",
   "execution_count": null,
   "id": "b3f532a9",
   "metadata": {},
   "outputs": [],
   "source": []
  },
  {
   "cell_type": "markdown",
   "id": "6f2aede5",
   "metadata": {},
   "source": [
    "## How many movies had sequels that were rated higher than the original? On average, do they perform better, or worse? "
   ]
  },
  {
   "cell_type": "code",
   "execution_count": null,
   "id": "61e23a2f",
   "metadata": {},
   "outputs": [],
   "source": []
  },
  {
   "cell_type": "markdown",
   "id": "ec47c936",
   "metadata": {},
   "source": [
    "## Challenge!"
   ]
  },
  {
   "cell_type": "markdown",
   "id": "be6a86a3",
   "metadata": {},
   "source": [
    "Let's suppose that you had the movies data stored in a USB Drive. You know how computers almost always scream at you for yanking out the USB Drive before you 'eject' it? Usually, nothing happens...\n",
    "\n",
    "But in this situation, let's say it does and you get the following table below: "
   ]
  },
  {
   "cell_type": "code",
   "execution_count": null,
   "id": "ab3a4c50",
   "metadata": {},
   "outputs": [],
   "source": []
  },
  {
   "cell_type": "code",
   "execution_count": null,
   "id": "18eda3d3",
   "metadata": {},
   "outputs": [],
   "source": []
  },
  {
   "cell_type": "markdown",
   "id": "e0ef3e7c",
   "metadata": {},
   "source": [
    "### Question: How can we use our methods to re-order our rows back to their original state? We unfortunately lost the columns for good... :("
   ]
  },
  {
   "cell_type": "code",
   "execution_count": null,
   "id": "68c03b39",
   "metadata": {},
   "outputs": [],
   "source": [
    "..."
   ]
  }
 ],
 "metadata": {
  "kernelspec": {
   "display_name": "Python 3 (ipykernel)",
   "language": "python",
   "name": "python3"
  },
  "language_info": {
   "codemirror_mode": {
    "name": "ipython",
    "version": 3
   },
   "file_extension": ".py",
   "mimetype": "text/x-python",
   "name": "python",
   "nbconvert_exporter": "python",
   "pygments_lexer": "ipython3",
   "version": "3.10.11"
  }
 },
 "nbformat": 4,
 "nbformat_minor": 5
}
