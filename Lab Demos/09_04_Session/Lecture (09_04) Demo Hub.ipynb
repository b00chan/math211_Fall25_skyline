{
 "cells": [
  {
   "cell_type": "markdown",
   "id": "7f85cd2c",
   "metadata": {},
   "source": [
    "# [Python Reference Link](http://www.data8.org/sp20/python-reference.html)\n",
    "*Run the cell below so that we can set our modules up*"
   ]
  },
  {
   "cell_type": "markdown",
   "id": "d56c5e64",
   "metadata": {},
   "source": [
    "1: All of it was new, and alot\n",
    "\n",
    "10: all of it was familiar"
   ]
  },
  {
   "cell_type": "code",
   "execution_count": 1,
   "id": "3b5e82ac",
   "metadata": {},
   "outputs": [],
   "source": [
    "import numpy as np\n",
    "from datascience import *\n",
    "import math"
   ]
  },
  {
   "cell_type": "markdown",
   "id": "16e10c1f",
   "metadata": {},
   "source": [
    "# Order of Operations with tables"
   ]
  },
  {
   "cell_type": "markdown",
   "id": "858866ea",
   "metadata": {},
   "source": [
    "Let's run the cell below and take a look at the following movie dataset:"
   ]
  },
  {
   "cell_type": "code",
   "execution_count": 9,
   "id": "bdd939fa",
   "metadata": {},
   "outputs": [
    {
     "data": {
      "text/html": [
       "<table border=\"1\" class=\"dataframe\">\n",
       "    <thead>\n",
       "        <tr>\n",
       "            <th>index</th> <th>Title</th> <th>Release Date</th> <th>Year</th> <th>Description</th> <th>URL</th> <th>IMDb Rating</th> <th>Runtime (mins)</th> <th>Genres</th> <th>Num Votes</th> <th>Directors</th> <th>Movie Series</th> <th>Order</th>\n",
       "        </tr>\n",
       "    </thead>\n",
       "    <tbody>\n",
       "        <tr>\n",
       "            <td>0    </td> <td>101 Dalmatians       </td> <td>18-11-1996  </td> <td>1996</td> <td>nan        </td> <td>https://www.imdb.com/title/tt0115433/</td> <td>5.7        </td> <td>103           </td> <td>Adventure, Comedy, Crime, Family      </td> <td>98439    </td> <td>Stephen Herek                </td> <td>101 Dalmatians  </td> <td>1    </td>\n",
       "        </tr>\n",
       "        <tr>\n",
       "            <td>1    </td> <td>102 Dalmatians       </td> <td>22-11-2000  </td> <td>2000</td> <td>nan        </td> <td>https://www.imdb.com/title/tt0211181/</td> <td>4.9        </td> <td>100           </td> <td>Adventure, Comedy, Family             </td> <td>33823    </td> <td>Kevin Lima                   </td> <td>101 Dalmatians  </td> <td>2    </td>\n",
       "        </tr>\n",
       "        <tr>\n",
       "            <td>2    </td> <td>12 Rounds            </td> <td>19-03-2009  </td> <td>2009</td> <td>nan        </td> <td>https://www.imdb.com/title/tt1160368/</td> <td>5.6        </td> <td>108           </td> <td>Action, Crime, Thriller               </td> <td>26828    </td> <td>Renny Harlin                 </td> <td>12 Rounds       </td> <td>1    </td>\n",
       "        </tr>\n",
       "        <tr>\n",
       "            <td>3    </td> <td>12 Rounds 2: Reloaded</td> <td>04-06-2013  </td> <td>2013</td> <td>nan        </td> <td>https://www.imdb.com/title/tt2317524/</td> <td>5.3        </td> <td>95            </td> <td>Action, Adventure, Thriller           </td> <td>5141     </td> <td>Roel Reiné                   </td> <td>12 Rounds       </td> <td>2    </td>\n",
       "        </tr>\n",
       "        <tr>\n",
       "            <td>4    </td> <td>21 Jump Street       </td> <td>12-03-2012  </td> <td>2012</td> <td>nan        </td> <td>https://www.imdb.com/title/tt1232829/</td> <td>7.2        </td> <td>109           </td> <td>Action, Comedy, Crime                 </td> <td>498876   </td> <td>Christopher Miller, Phil Lord</td> <td>21 Jump Street  </td> <td>1    </td>\n",
       "        </tr>\n",
       "        <tr>\n",
       "            <td>5    </td> <td>22 Jump Street       </td> <td>04-06-2014  </td> <td>2014</td> <td>nan        </td> <td>https://www.imdb.com/title/tt2294449/</td> <td>7          </td> <td>112           </td> <td>Action, Comedy, Crime                 </td> <td>336672   </td> <td>Christopher Miller, Phil Lord</td> <td>21 Jump Street  </td> <td>2    </td>\n",
       "        </tr>\n",
       "        <tr>\n",
       "            <td>6    </td> <td>28 Days Later...     </td> <td>01-11-2002  </td> <td>2002</td> <td>nan        </td> <td>https://www.imdb.com/title/tt0289043/</td> <td>7.6        </td> <td>113           </td> <td>Drama, Horror, Sci-Fi, Thriller       </td> <td>366735   </td> <td>Danny Boyle                  </td> <td>28 Days Later...</td> <td>1    </td>\n",
       "        </tr>\n",
       "        <tr>\n",
       "            <td>7    </td> <td>28 Weeks Later       </td> <td>26-04-2007  </td> <td>2007</td> <td>nan        </td> <td>https://www.imdb.com/title/tt0463854/</td> <td>7          </td> <td>100           </td> <td>Horror, Sci-Fi                        </td> <td>253260   </td> <td>Juan Carlos Fresnadillo      </td> <td>28 Days Later...</td> <td>2    </td>\n",
       "        </tr>\n",
       "        <tr>\n",
       "            <td>8    </td> <td>30 Days of Night     </td> <td>16-10-2007  </td> <td>2007</td> <td>nan        </td> <td>https://www.imdb.com/title/tt0389722/</td> <td>6.6        </td> <td>113           </td> <td>Action, Horror, Thriller              </td> <td>160930   </td> <td>David Slade                  </td> <td>30 Days of Night</td> <td>1    </td>\n",
       "        </tr>\n",
       "        <tr>\n",
       "            <td>9    </td> <td>48 Hrs.              </td> <td>08-12-1982  </td> <td>1982</td> <td>nan        </td> <td>https://www.imdb.com/title/tt0083511/</td> <td>6.9        </td> <td>96            </td> <td>Action, Comedy, Crime, Drama, Thriller</td> <td>66889    </td> <td>Walter Hill                  </td> <td>48 Hrs.         </td> <td>1    </td>\n",
       "        </tr>\n",
       "    </tbody>\n",
       "</table>\n",
       "<p>... (856 rows omitted)</p>"
      ],
      "text/plain": [
       "<IPython.core.display.HTML object>"
      ]
     },
     "metadata": {},
     "output_type": "display_data"
    }
   ],
   "source": [
    "movies = Table.read_table('Movies - Cleaned.csv')\n",
    "movies.show(10)"
   ]
  },
  {
   "cell_type": "markdown",
   "id": "a5727d2d",
   "metadata": {},
   "source": [
    "## Question: How many movies in this data set were sequels?"
   ]
  },
  {
   "cell_type": "code",
   "execution_count": 12,
   "id": "2a58a3f6",
   "metadata": {
    "scrolled": true
   },
   "outputs": [
    {
     "data": {
      "text/plain": [
       "866"
      ]
     },
     "execution_count": 12,
     "metadata": {},
     "output_type": "execute_result"
    }
   ],
   "source": [
    "movies.select('Title','Year','Movie Series','Order')"
   ]
  },
  {
   "cell_type": "code",
   "execution_count": 18,
   "id": "3d67c70b",
   "metadata": {},
   "outputs": [
    {
     "data": {
      "text/plain": [
       "490"
      ]
     },
     "execution_count": 18,
     "metadata": {},
     "output_type": "execute_result"
    }
   ],
   "source": [
    "sequel_movies_only = movies.where('Order',are.above(1))\n",
    "sequel_movies_only.num_rows"
   ]
  },
  {
   "cell_type": "code",
   "execution_count": 19,
   "id": "effa7aa4",
   "metadata": {},
   "outputs": [
    {
     "data": {
      "text/plain": [
       "490"
      ]
     },
     "execution_count": 19,
     "metadata": {},
     "output_type": "execute_result"
    }
   ],
   "source": [
    "movies.where('Order',are.above(1)).num_rows"
   ]
  },
  {
   "cell_type": "markdown",
   "id": "6f2aede5",
   "metadata": {},
   "source": [
    "## How many movies had sequels that were rated higher than the original? On average, do they perform better, or worse? "
   ]
  },
  {
   "cell_type": "code",
   "execution_count": 30,
   "id": "4555454d",
   "metadata": {
    "collapsed": true
   },
   "outputs": [
    {
     "data": {
      "text/plain": [
       "array(['101 Dalmatians', '12 Rounds', '21 Jump Street', '28 Days Later...',\n",
       "       '30 Days of Night', '48 Hrs.', '8MM', \"A Dog's Purpose\",\n",
       "       'A Good Day to Die Hard', 'A Haunted House',\n",
       "       'A Nightmare on Elm Street', 'AVP', 'Ace Ventura',\n",
       "       'Addams Family alues', 'Agent Cody Banks', 'Alice in Wonderland',\n",
       "       'Alien', 'Alone in the Dark', 'Alvin and the Chipmunks',\n",
       "       'American Pie', 'American Psycho', 'American Wedding', 'Anaconda',\n",
       "       'Analyze This', 'Anchorman', 'Angry Birds', 'Annabelle',\n",
       "       'Army of Darkness', 'Atlas Shrugged', 'Austin Powers',\n",
       "       'Back to the Future', 'Bad Ass', 'Bad Boys', 'Bad Lieutenant',\n",
       "       'Bad Santa', 'Balto', 'Bambi', 'Banlieue', 'Basic Instinct',\n",
       "       'Batman', 'Batman v Superman', 'Battle for the Planet of the Apes',\n",
       "       'Beauty and the Beast', 'Before Sunrise', 'Behind Enemy Lines',\n",
       "       'Beneath the Planet of the Apes', 'Beverly Hills Chihuahua',\n",
       "       'Beverly Hills Cop', 'Big Mommas', 'Biohazard', 'Blade',\n",
       "       'Blade Runner', 'BloodRayne', 'Blue Crush', 'Boogeyman', 'Brat',\n",
       "       'Bridget Jones', 'Brother Bear', 'Candyman', 'Captain America',\n",
       "       'Cars', 'Cat People', \"Charlie's Angels\", 'Cheaper by the Dozen',\n",
       "       \"Child's Play\", 'Cidade de Deus', 'Clash of the Titans',\n",
       "       'Class of 1999', 'Clerks', 'Cloverfield', 'Cocoon',\n",
       "       'Conquest of the Planet of the Apes', 'Crank', 'Critters',\n",
       "       'Cruel Intentions', 'Cube', 'Damien', 'Daredevil', 'Darkman',\n",
       "       'Dawn of the Planet of the Apes', 'Deadpool', 'Death Race',\n",
       "       'Despicable Me', 'Deuce Bigalow', 'Die Hard', 'Dirty Dancing',\n",
       "       'Dirty Harry', 'Divergent', 'Doctor Dolittle', 'Dolphin Tale',\n",
       "       'Dominion', 'Dumb and Dumber', 'Elektra', 'Elizabeth',\n",
       "       'Escape from the Planet of the Apes', 'Fantastic Four',\n",
       "       'Fast & Furious', 'Father of the Bride', 'Final Destination',\n",
       "       'Finding Nemo', 'First Blood', 'Fletch', 'Fortress',\n",
       "       'Freddy vs. Jason', \"Freddy's Dead\", 'Friday the 13th',\n",
       "       'Fright Night', 'From Dusk Till Dawn', 'G.I. Joe', 'Garfield',\n",
       "       'Get Smart', 'Ghost Rider', 'Ghostbusters', 'Glass', 'Goon',\n",
       "       'Grave Encounters', 'Gremlins', 'Guardians of the Galaxy',\n",
       "       'Halloween', 'Hannibal', 'Happy Death Day', 'Happy Feet',\n",
       "       'Harold & Kumar', 'Harry Potter', 'Hellbound', 'Hellboy',\n",
       "       'Hellraiser', 'Hollow Man', 'Home Alone', 'Honey',\n",
       "       'Honey,  Shrunk the Kids', 'Horrible Bosses', 'Hostel',\n",
       "       'Hot Shots!', 'Hot Tub Time Machine', 'Hotel Transylvania',\n",
       "       'How to Train Your Dragon', 'I Know What You Did Last Summer',\n",
       "       'I Spit on Your Grave', 'I, Robot', 'Ice Age',\n",
       "       'In the Name of the King', 'Independence Day', 'Indiana Jones',\n",
       "       'Insidious', 'Into the Blue', 'Iron Man', 'It', 'Jarhead',\n",
       "       'Jason Goes to Hell', 'Jeepers Creepers', 'John Wick',\n",
       "       'Johnny English', 'Joy Ride', 'Jumper', 'Jurassic Park',\n",
       "       'Justice League', 'Kick-Ass', 'Kill Bill', 'Kingsman',\n",
       "       'Kung Fu Panda', 'Land of the Dead', 'Lara Croft', 'Lawnmower Man',\n",
       "       'Leatherface', 'Legally Blonde', 'Lethal Weapon', 'Lilo & Stitch',\n",
       "       'Live Free or Die Hard', \"Look Who's Talking\", 'Machete', 'Mad Max',\n",
       "       'Madagascar', 'Magic Mike', 'Magnum Force', 'Major League',\n",
       "       'Mamma Mia!', 'Man of Steel', 'Manhunter', 'Marley & Me',\n",
       "       'Maze Runner', 'Megiddo', 'Men in Black', 'Mimic', 'Mirrors',\n",
       "       'Miss Congeniality', 'Mission', 'Monsters', 'Mulan',\n",
       "       'My Big Fat Greek Wedding', 'Nanny McPhee', 'National Treasure',\n",
       "       'Night at the Museum', 'Nymphomaniac', \"Ocean's Eleven\",\n",
       "       'Olympus Has Fallen', 'Open Season', 'Paddington',\n",
       "       'Paranormal Activity', 'Paul Blart', 'Pet Sematary', 'Piranha 3D',\n",
       "       'Pirates of the Caribbean', 'Pitch Black', 'Planet of the Apes',\n",
       "       'Police Academy', 'Poltergeist', 'Predator', 'Prometheus', 'Psycho',\n",
       "       'Quarantine', 'RED', 'Raiders of the Lost Ark', 'Rambo',\n",
       "       'Red Dragon', 'Resident Evil', 'Ride Along', 'Rio', \"Ripley's Game\",\n",
       "       'Rise of the Planet of the Apes', 'RoboCop', 'Rocky',\n",
       "       'Romancing the Stone', 'Rush Hour', 'S.W.A.T.',\n",
       "       'Save the Last Dance', 'Saw', 'Scary Movie', 'Scooby-Doo', 'Scream',\n",
       "       'Screamers', 'Secret of the Wings', 'Serbuan maut',\n",
       "       'Sex and the City', 'Shanghai Noon', 'Sherlock Holmes',\n",
       "       'Short Circuit', 'Shrek', 'Sin City', \"Smokin' Aces\", 'Sniper',\n",
       "       'Species', 'Speed', 'Spider-Man', 'Split', 'Spy Kids', 'Star Trek',\n",
       "       'Star Wars', 'Starship Troopers', 'Step Up', 'Street Kings',\n",
       "       'Sudden mpact', 'Superman', 'Superman Returns', 'Taken', 'Taxi',\n",
       "       'Ted', 'Teenage Mutant Ninja Turtles', 'Terminator',\n",
       "       'Terms of Endearment', 'The Addams Family',\n",
       "       'The Amazing Spider-Man', 'The Arrival', 'The Avengers',\n",
       "       'The Best Exotic Marigold Hotel', 'The Best Man',\n",
       "       'The Boondock Saints', 'The Bourne Identity',\n",
       "       'The Butterfly Effect', 'The Chronicles of Riddick',\n",
       "       'The Collector', 'The Color of Money', 'The Conjuring', 'The Crow',\n",
       "       'The Da Vinci Code', 'The Dead', 'The Dead Pool', 'The Descent',\n",
       "       'The Enforcer', 'The Equalizer', 'The Evening Star',\n",
       "       'The Evil Dead', 'The Exorcist', 'The Expendables',\n",
       "       'The Fast and the Furious', 'The Final Conflict', 'The Fly',\n",
       "       'The Fox and the Hound', 'The French Connection', 'The Fugitive',\n",
       "       'The Godfather', 'The Grudge', 'The Hangover',\n",
       "       'The Hills Have Eyes', 'The Hobbit', 'The Hunger Games',\n",
       "       'The Hustler', 'The Incredible Hulk', 'The Incredibles',\n",
       "       'The Jewel of the Nile', 'The Karate Kid', \"The King's Man\",\n",
       "       'The Lego Movie', 'The Lion King', 'The Little Mermaid',\n",
       "       'The Lord of the Rings', 'The Marine', 'The Mask',\n",
       "       'The Mask of Zorro', 'The Matrix', 'The Mechanic', 'The Mummy',\n",
       "       'The Muppets', 'The Naked Gun', 'The Next Karate Kid',\n",
       "       'The Nutty Professor', 'The Omega Code', 'The Omen',\n",
       "       'The Pink Panther', 'The Prince & Me', 'The Princess Diaries',\n",
       "       'The Prophecy', 'The Punisher', 'The Purge', 'The Ring',\n",
       "       'The Santa Clause', 'The Scorpion King',\n",
       "       'The Second Best Exotic Marigold Hotel', 'The Secret Life of Pets',\n",
       "       'The Shining', 'The Silence of the Lambs',\n",
       "       'The Sisterhood of the Traveling Pants', 'The Talented Mr. Ripley',\n",
       "       'The Texas Chainsaw Massacre', 'The Transporter', 'The Trip',\n",
       "       'The Twilight Saga', 'The War of the Roses', 'The Whole Nine Yards',\n",
       "       'The Whole Ten Yards', 'The Woman in Black', 'The X Files',\n",
       "       'Think Like a Man', 'Thor', 'Toy Story', 'Trainspotting',\n",
       "       'Transformers', 'Tremors', 'Trois couleurs', 'Tropa de Elite',\n",
       "       'Turbulence', 'U.S. Marshals', 'Unbreakable', 'Under Siege',\n",
       "       'Underworld', 'Undisputed', 'Universal Soldier', 'Urban Legend',\n",
       "       'Vacancy', 'Walking Tall', 'Wall Street',\n",
       "       'War for the Planet of the Apes', \"Wayne's World\",\n",
       "       \"Wes Craven's New Nightmare\", 'White Noise', 'Wild Things',\n",
       "       'Wishmaster', 'Wrath of the Titans', 'Wreck-It Ralph', 'Wrong Turn',\n",
       "       'X-Men', 'Young Guns', 'Zombieland', 'Zoolander', '[Rec]', 'xXx'],\n",
       "      dtype='<U37')"
      ]
     },
     "execution_count": 30,
     "metadata": {},
     "output_type": "execute_result"
    }
   ],
   "source": [
    "movies.where('Order',are.equal_to(1)).column('Movie Series')"
   ]
  },
  {
   "cell_type": "code",
   "execution_count": 31,
   "id": "56963fa6",
   "metadata": {},
   "outputs": [],
   "source": [
    "movie_series_with_sequels_array = movies.where('Order',are.above(1)).column('Movie Series')\n",
    "movie_series_without_sequels_array = movies.where('Order',are.equal_to(1)).column('Movie Series')"
   ]
  },
  {
   "cell_type": "code",
   "execution_count": 33,
   "id": "e072ad6b",
   "metadata": {},
   "outputs": [
    {
     "data": {
      "text/plain": [
       "376"
      ]
     },
     "execution_count": 33,
     "metadata": {},
     "output_type": "execute_result"
    }
   ],
   "source": [
    "len(movie_series_without_sequels_array)"
   ]
  },
  {
   "cell_type": "code",
   "execution_count": 37,
   "id": "2b5f24dd",
   "metadata": {},
   "outputs": [
    {
     "data": {
      "text/html": [
       "<table border=\"1\" class=\"dataframe\">\n",
       "    <thead>\n",
       "        <tr>\n",
       "            <th>index</th> <th>Title</th> <th>Release Date</th> <th>Year</th> <th>Description</th> <th>URL</th> <th>IMDb Rating</th> <th>Runtime (mins)</th> <th>Genres</th> <th>Num Votes</th> <th>Directors</th> <th>Movie Series</th> <th>Order</th>\n",
       "        </tr>\n",
       "    </thead>\n",
       "    <tbody>\n",
       "        <tr>\n",
       "            <td>0    </td> <td>101 Dalmatians       </td> <td>18-11-1996  </td> <td>1996</td> <td>nan        </td> <td>https://www.imdb.com/title/tt0115433/</td> <td>5.7        </td> <td>103           </td> <td>Adventure, Comedy, Crime, Family               </td> <td>98439    </td> <td>Stephen Herek                </td> <td>101 Dalmatians  </td> <td>1    </td>\n",
       "        </tr>\n",
       "        <tr>\n",
       "            <td>1    </td> <td>102 Dalmatians       </td> <td>22-11-2000  </td> <td>2000</td> <td>nan        </td> <td>https://www.imdb.com/title/tt0211181/</td> <td>4.9        </td> <td>100           </td> <td>Adventure, Comedy, Family                      </td> <td>33823    </td> <td>Kevin Lima                   </td> <td>101 Dalmatians  </td> <td>2    </td>\n",
       "        </tr>\n",
       "        <tr>\n",
       "            <td>2    </td> <td>12 Rounds            </td> <td>19-03-2009  </td> <td>2009</td> <td>nan        </td> <td>https://www.imdb.com/title/tt1160368/</td> <td>5.6        </td> <td>108           </td> <td>Action, Crime, Thriller                        </td> <td>26828    </td> <td>Renny Harlin                 </td> <td>12 Rounds       </td> <td>1    </td>\n",
       "        </tr>\n",
       "        <tr>\n",
       "            <td>3    </td> <td>12 Rounds 2: Reloaded</td> <td>04-06-2013  </td> <td>2013</td> <td>nan        </td> <td>https://www.imdb.com/title/tt2317524/</td> <td>5.3        </td> <td>95            </td> <td>Action, Adventure, Thriller                    </td> <td>5141     </td> <td>Roel Reiné                   </td> <td>12 Rounds       </td> <td>2    </td>\n",
       "        </tr>\n",
       "        <tr>\n",
       "            <td>4    </td> <td>21 Jump Street       </td> <td>12-03-2012  </td> <td>2012</td> <td>nan        </td> <td>https://www.imdb.com/title/tt1232829/</td> <td>7.2        </td> <td>109           </td> <td>Action, Comedy, Crime                          </td> <td>498876   </td> <td>Christopher Miller, Phil Lord</td> <td>21 Jump Street  </td> <td>1    </td>\n",
       "        </tr>\n",
       "        <tr>\n",
       "            <td>5    </td> <td>22 Jump Street       </td> <td>04-06-2014  </td> <td>2014</td> <td>nan        </td> <td>https://www.imdb.com/title/tt2294449/</td> <td>7          </td> <td>112           </td> <td>Action, Comedy, Crime                          </td> <td>336672   </td> <td>Christopher Miller, Phil Lord</td> <td>21 Jump Street  </td> <td>2    </td>\n",
       "        </tr>\n",
       "        <tr>\n",
       "            <td>6    </td> <td>28 Days Later...     </td> <td>01-11-2002  </td> <td>2002</td> <td>nan        </td> <td>https://www.imdb.com/title/tt0289043/</td> <td>7.6        </td> <td>113           </td> <td>Drama, Horror, Sci-Fi, Thriller                </td> <td>366735   </td> <td>Danny Boyle                  </td> <td>28 Days Later...</td> <td>1    </td>\n",
       "        </tr>\n",
       "        <tr>\n",
       "            <td>7    </td> <td>28 Weeks Later       </td> <td>26-04-2007  </td> <td>2007</td> <td>nan        </td> <td>https://www.imdb.com/title/tt0463854/</td> <td>7          </td> <td>100           </td> <td>Horror, Sci-Fi                                 </td> <td>253260   </td> <td>Juan Carlos Fresnadillo      </td> <td>28 Days Later...</td> <td>2    </td>\n",
       "        </tr>\n",
       "        <tr>\n",
       "            <td>9    </td> <td>48 Hrs.              </td> <td>08-12-1982  </td> <td>1982</td> <td>nan        </td> <td>https://www.imdb.com/title/tt0083511/</td> <td>6.9        </td> <td>96            </td> <td>Action, Comedy, Crime, Drama, Thriller         </td> <td>66889    </td> <td>Walter Hill                  </td> <td>48 Hrs.         </td> <td>1    </td>\n",
       "        </tr>\n",
       "        <tr>\n",
       "            <td>10   </td> <td>Another 48 Hrs.      </td> <td>08-06-1990  </td> <td>1990</td> <td>nan        </td> <td>https://www.imdb.com/title/tt0099044/</td> <td>5.9        </td> <td>93            </td> <td>Action, Comedy, Crime, Drama, Mystery, Thriller</td> <td>37294    </td> <td>Walter Hill                  </td> <td>48 Hrs.         </td> <td>2    </td>\n",
       "        </tr>\n",
       "    </tbody>\n",
       "</table>\n",
       "<p>... (742 rows omitted)</p>"
      ],
      "text/plain": [
       "index | Title                 | Release Date | Year | Description | URL                                   | IMDb Rating | Runtime (mins) | Genres                                          | Num Votes | Directors                     | Movie Series     | Order\n",
       "0     | 101 Dalmatians        | 18-11-1996   | 1996 | nan         | https://www.imdb.com/title/tt0115433/ | 5.7         | 103            | Adventure, Comedy, Crime, Family                | 98439     | Stephen Herek                 | 101 Dalmatians   | 1\n",
       "1     | 102 Dalmatians        | 22-11-2000   | 2000 | nan         | https://www.imdb.com/title/tt0211181/ | 4.9         | 100            | Adventure, Comedy, Family                       | 33823     | Kevin Lima                    | 101 Dalmatians   | 2\n",
       "2     | 12 Rounds             | 19-03-2009   | 2009 | nan         | https://www.imdb.com/title/tt1160368/ | 5.6         | 108            | Action, Crime, Thriller                         | 26828     | Renny Harlin                  | 12 Rounds        | 1\n",
       "3     | 12 Rounds 2: Reloaded | 04-06-2013   | 2013 | nan         | https://www.imdb.com/title/tt2317524/ | 5.3         | 95             | Action, Adventure, Thriller                     | 5141      | Roel Reiné                    | 12 Rounds        | 2\n",
       "4     | 21 Jump Street        | 12-03-2012   | 2012 | nan         | https://www.imdb.com/title/tt1232829/ | 7.2         | 109            | Action, Comedy, Crime                           | 498876    | Christopher Miller, Phil Lord | 21 Jump Street   | 1\n",
       "5     | 22 Jump Street        | 04-06-2014   | 2014 | nan         | https://www.imdb.com/title/tt2294449/ | 7           | 112            | Action, Comedy, Crime                           | 336672    | Christopher Miller, Phil Lord | 21 Jump Street   | 2\n",
       "6     | 28 Days Later...      | 01-11-2002   | 2002 | nan         | https://www.imdb.com/title/tt0289043/ | 7.6         | 113            | Drama, Horror, Sci-Fi, Thriller                 | 366735    | Danny Boyle                   | 28 Days Later... | 1\n",
       "7     | 28 Weeks Later        | 26-04-2007   | 2007 | nan         | https://www.imdb.com/title/tt0463854/ | 7           | 100            | Horror, Sci-Fi                                  | 253260    | Juan Carlos Fresnadillo       | 28 Days Later... | 2\n",
       "9     | 48 Hrs.               | 08-12-1982   | 1982 | nan         | https://www.imdb.com/title/tt0083511/ | 6.9         | 96             | Action, Comedy, Crime, Drama, Thriller          | 66889     | Walter Hill                   | 48 Hrs.          | 1\n",
       "10    | Another 48 Hrs.       | 08-06-1990   | 1990 | nan         | https://www.imdb.com/title/tt0099044/ | 5.9         | 93             | Action, Comedy, Crime, Drama, Mystery, Thriller | 37294     | Walter Hill                   | 48 Hrs.          | 2\n",
       "... (742 rows omitted)"
      ]
     },
     "execution_count": 37,
     "metadata": {},
     "output_type": "execute_result"
    }
   ],
   "source": [
    "only_movie_series_with_sequels_table = movies.where(\"Movie Series\",are.contained_in(movie_series_with_sequels_array))\n",
    "only_movie_series_with_sequels_table"
   ]
  },
  {
   "cell_type": "code",
   "execution_count": 38,
   "id": "081f4eb1",
   "metadata": {},
   "outputs": [],
   "source": [
    "just_the_sequels = only_movie_series_with_sequels_table.where('Order',are.above(1))\n",
    "just_the_og = only_movie_series_with_sequels_table.where('Order',1) #are.equal_to is implied, if \"empty\" input"
   ]
  },
  {
   "cell_type": "code",
   "execution_count": 39,
   "id": "23a8273a",
   "metadata": {},
   "outputs": [
    {
     "data": {
      "text/plain": [
       "752"
      ]
     },
     "execution_count": 39,
     "metadata": {},
     "output_type": "execute_result"
    }
   ],
   "source": [
    "only_movie_series_with_sequels_table.num_rows"
   ]
  },
  {
   "cell_type": "code",
   "execution_count": 41,
   "id": "a33ca6a3",
   "metadata": {},
   "outputs": [
    {
     "name": "stdout",
     "output_type": "stream",
     "text": [
      "490\n",
      "262\n"
     ]
    },
    {
     "data": {
      "text/plain": [
       "752"
      ]
     },
     "execution_count": 41,
     "metadata": {},
     "output_type": "execute_result"
    }
   ],
   "source": [
    "print(just_the_sequels.num_rows)\n",
    "print(just_the_og.num_rows)\n",
    "490 + 262"
   ]
  },
  {
   "cell_type": "code",
   "execution_count": 56,
   "id": "3aaec78d",
   "metadata": {},
   "outputs": [
    {
     "data": {
      "text/plain": [
       "6.1192148760330571"
      ]
     },
     "execution_count": 56,
     "metadata": {},
     "output_type": "execute_result"
    }
   ],
   "source": [
    "sequel_ratings = just_the_sequels.where(\"IMDb Rating\",are.above(0)).column('IMDb Rating')\n",
    "np.average(sequel_ratings)"
   ]
  },
  {
   "cell_type": "code",
   "execution_count": 57,
   "id": "90ce22a9",
   "metadata": {},
   "outputs": [
    {
     "data": {
      "text/plain": [
       "6.8187999999999995"
      ]
     },
     "execution_count": 57,
     "metadata": {},
     "output_type": "execute_result"
    }
   ],
   "source": [
    "og_ratings = just_the_og.where(\"IMDb Rating\",are.above(0)).column('IMDb Rating')\n",
    "np.average(og_ratings)"
   ]
  },
  {
   "cell_type": "code",
   "execution_count": 59,
   "id": "d0cfbea1",
   "metadata": {},
   "outputs": [
    {
     "data": {
      "text/html": [
       "<table border=\"1\" class=\"dataframe\">\n",
       "    <thead>\n",
       "        <tr>\n",
       "            <th>index</th> <th>Title</th> <th>Release Date</th> <th>Year</th> <th>Description</th> <th>URL</th> <th>IMDb Rating</th> <th>Runtime (mins)</th> <th>Genres</th> <th>Num Votes</th> <th>Directors</th> <th>Movie Series</th> <th>Order</th>\n",
       "        </tr>\n",
       "    </thead>\n",
       "    <tbody>\n",
       "        <tr>\n",
       "            <td>675  </td> <td>The Godfather                                    </td> <td>14-03-1972  </td> <td>1972</td> <td>nan        </td> <td>https://www.imdb.com/title/tt0068646/</td> <td>9.2        </td> <td>175           </td> <td>Crime, Drama                      </td> <td>1.55477e+06</td> <td>Francis Ford Coppola           </td> <td>The Godfather        </td> <td>1    </td>\n",
       "        </tr>\n",
       "        <tr>\n",
       "            <td>85   </td> <td>The Dark Knight                                  </td> <td>14-07-2008  </td> <td>2008</td> <td>nan        </td> <td>https://www.imdb.com/title/tt0468569/</td> <td>9          </td> <td>152           </td> <td>Action, Crime, Drama, Thriller    </td> <td>2.22019e+06</td> <td>Christopher Nolan              </td> <td>Batman               </td> <td>6    </td>\n",
       "        </tr>\n",
       "        <tr>\n",
       "            <td>676  </td> <td>The Godfather: Part II                           </td> <td>12-12-1974  </td> <td>1974</td> <td>nan        </td> <td>https://www.imdb.com/title/tt0071562/</td> <td>9          </td> <td>202           </td> <td>Crime, Drama                      </td> <td>1.08663e+06</td> <td>Francis Ford Coppola           </td> <td>The Godfather        </td> <td>2    </td>\n",
       "        </tr>\n",
       "        <tr>\n",
       "            <td>713  </td> <td>The Lord of the Rings: The Return of the King    </td> <td>01-12-2003  </td> <td>2003</td> <td>nan        </td> <td>https://www.imdb.com/title/tt0167260/</td> <td>8.9        </td> <td>201           </td> <td>Adventure, Drama, Fantasy         </td> <td>1.59076e+06</td> <td>Peter Jackson                  </td> <td>The Lord of the Rings</td> <td>3    </td>\n",
       "        </tr>\n",
       "        <tr>\n",
       "            <td>711  </td> <td>The Lord of the Rings: The Fellowship of the Ring</td> <td>10-12-2001  </td> <td>2001</td> <td>nan        </td> <td>https://www.imdb.com/title/tt0120737/</td> <td>8.8        </td> <td>178           </td> <td>Action, Adventure, Drama, Fantasy </td> <td>1.60508e+06</td> <td>Peter Jackson                  </td> <td>The Lord of the Rings</td> <td>1    </td>\n",
       "        </tr>\n",
       "        <tr>\n",
       "            <td>576  </td> <td>Star Wars: Episode V - The Empire Strikes Back   </td> <td>17-05-1980  </td> <td>1980</td> <td>nan        </td> <td>https://www.imdb.com/title/tt0080684/</td> <td>8.7        </td> <td>124           </td> <td>Action, Adventure, Fantasy, Sci-Fi</td> <td>1.12267e+06</td> <td>Irvin Kershner                 </td> <td>Star Wars            </td> <td>2    </td>\n",
       "        </tr>\n",
       "        <tr>\n",
       "            <td>712  </td> <td>The Lord of the Rings: The Two Towers            </td> <td>05-12-2002  </td> <td>2002</td> <td>nan        </td> <td>https://www.imdb.com/title/tt0167261/</td> <td>8.7        </td> <td>179           </td> <td>Adventure, Drama, Fantasy         </td> <td>1.43728e+06</td> <td>Peter Jackson                  </td> <td>The Lord of the Rings</td> <td>2    </td>\n",
       "        </tr>\n",
       "        <tr>\n",
       "            <td>719  </td> <td>The Matrix                                       </td> <td>24-03-1999  </td> <td>1999</td> <td>nan        </td> <td>https://www.imdb.com/title/tt0133093/</td> <td>8.7        </td> <td>136           </td> <td>Action, Sci-Fi                    </td> <td>1.61598e+06</td> <td>Lilly Wachowski, Lana Wachowski</td> <td>The Matrix           </td> <td>1    </td>\n",
       "        </tr>\n",
       "        <tr>\n",
       "            <td>139  </td> <td>Cidade de Deus                                   </td> <td>18-05-2002  </td> <td>2002</td> <td>nan        </td> <td>https://www.imdb.com/title/tt0317248/</td> <td>8.6        </td> <td>130           </td> <td>Crime, Drama                      </td> <td>680822     </td> <td>Kátia Lund, Fernando Meirelles </td> <td>Cidade de Deus       </td> <td>1    </td>\n",
       "        </tr>\n",
       "        <tr>\n",
       "            <td>575  </td> <td>Star Wars                                        </td> <td>25-05-1977  </td> <td>1977</td> <td>nan        </td> <td>https://www.imdb.com/title/tt0076759/</td> <td>8.6        </td> <td>121           </td> <td>Action, Adventure, Fantasy, Sci-Fi</td> <td>1.19505e+06</td> <td>George Lucas                   </td> <td>Star Wars            </td> <td>1    </td>\n",
       "        </tr>\n",
       "    </tbody>\n",
       "</table>\n",
       "<p>... (837 rows omitted)</p>"
      ],
      "text/plain": [
       "index | Title                                             | Release Date | Year | Description | URL                                   | IMDb Rating | Runtime (mins) | Genres                             | Num Votes   | Directors                       | Movie Series          | Order\n",
       "675   | The Godfather                                     | 14-03-1972   | 1972 | nan         | https://www.imdb.com/title/tt0068646/ | 9.2         | 175            | Crime, Drama                       | 1.55477e+06 | Francis Ford Coppola            | The Godfather         | 1\n",
       "85    | The Dark Knight                                   | 14-07-2008   | 2008 | nan         | https://www.imdb.com/title/tt0468569/ | 9           | 152            | Action, Crime, Drama, Thriller     | 2.22019e+06 | Christopher Nolan               | Batman                | 6\n",
       "676   | The Godfather: Part II                            | 12-12-1974   | 1974 | nan         | https://www.imdb.com/title/tt0071562/ | 9           | 202            | Crime, Drama                       | 1.08663e+06 | Francis Ford Coppola            | The Godfather         | 2\n",
       "713   | The Lord of the Rings: The Return of the King     | 01-12-2003   | 2003 | nan         | https://www.imdb.com/title/tt0167260/ | 8.9         | 201            | Adventure, Drama, Fantasy          | 1.59076e+06 | Peter Jackson                   | The Lord of the Rings | 3\n",
       "711   | The Lord of the Rings: The Fellowship of the Ring | 10-12-2001   | 2001 | nan         | https://www.imdb.com/title/tt0120737/ | 8.8         | 178            | Action, Adventure, Drama, Fantasy  | 1.60508e+06 | Peter Jackson                   | The Lord of the Rings | 1\n",
       "576   | Star Wars: Episode V - The Empire Strikes Back    | 17-05-1980   | 1980 | nan         | https://www.imdb.com/title/tt0080684/ | 8.7         | 124            | Action, Adventure, Fantasy, Sci-Fi | 1.12267e+06 | Irvin Kershner                  | Star Wars             | 2\n",
       "712   | The Lord of the Rings: The Two Towers             | 05-12-2002   | 2002 | nan         | https://www.imdb.com/title/tt0167261/ | 8.7         | 179            | Adventure, Drama, Fantasy          | 1.43728e+06 | Peter Jackson                   | The Lord of the Rings | 2\n",
       "719   | The Matrix                                        | 24-03-1999   | 1999 | nan         | https://www.imdb.com/title/tt0133093/ | 8.7         | 136            | Action, Sci-Fi                     | 1.61598e+06 | Lilly Wachowski, Lana Wachowski | The Matrix            | 1\n",
       "139   | Cidade de Deus                                    | 18-05-2002   | 2002 | nan         | https://www.imdb.com/title/tt0317248/ | 8.6         | 130            | Crime, Drama                       | 680822      | Kátia Lund, Fernando Meirelles  | Cidade de Deus        | 1\n",
       "575   | Star Wars                                         | 25-05-1977   | 1977 | nan         | https://www.imdb.com/title/tt0076759/ | 8.6         | 121            | Action, Adventure, Fantasy, Sci-Fi | 1.19505e+06 | George Lucas                    | Star Wars             | 1\n",
       "... (837 rows omitted)"
      ]
     },
     "execution_count": 59,
     "metadata": {},
     "output_type": "execute_result"
    }
   ],
   "source": [
    "movies.where(\"IMDb Rating\",are.above(0)).sort(\"IMDb Rating\",descending=True)"
   ]
  },
  {
   "cell_type": "markdown",
   "id": "ec47c936",
   "metadata": {},
   "source": [
    "## Challenge!"
   ]
  },
  {
   "cell_type": "markdown",
   "id": "be6a86a3",
   "metadata": {},
   "source": [
    "Let's suppose that you had the movies data stored in a USB Drive. You know how computers almost always scream at you for yanking out the USB Drive before you 'eject' it? Usually, nothing happens...\n",
    "\n",
    "But in this situation, let's say it does and you get the following table below: "
   ]
  },
  {
   "cell_type": "code",
   "execution_count": null,
   "id": "c7f3bcd6",
   "metadata": {},
   "outputs": [],
   "source": [
    "challenge_movies = movies.drop('Order','index','Description','URL','Num Votes','Directors','Release Date').sample(movies.num_rows,with_replacement = False)\n",
    "challenge_movies"
   ]
  },
  {
   "cell_type": "code",
   "execution_count": null,
   "id": "ab3a4c50",
   "metadata": {},
   "outputs": [],
   "source": []
  },
  {
   "cell_type": "code",
   "execution_count": null,
   "id": "18eda3d3",
   "metadata": {},
   "outputs": [],
   "source": []
  },
  {
   "cell_type": "markdown",
   "id": "e0ef3e7c",
   "metadata": {},
   "source": [
    "### Question: How can we use our methods to re-order our rows back to their original state? We unfortunately lost the columns for good... :("
   ]
  },
  {
   "cell_type": "code",
   "execution_count": null,
   "id": "68c03b39",
   "metadata": {},
   "outputs": [],
   "source": [
    "..."
   ]
  }
 ],
 "metadata": {
  "kernelspec": {
   "display_name": "Python 3 (ipykernel)",
   "language": "python",
   "name": "python3"
  },
  "language_info": {
   "codemirror_mode": {
    "name": "ipython",
    "version": 3
   },
   "file_extension": ".py",
   "mimetype": "text/x-python",
   "name": "python",
   "nbconvert_exporter": "python",
   "pygments_lexer": "ipython3",
   "version": "3.10.11"
  }
 },
 "nbformat": 4,
 "nbformat_minor": 5
}
