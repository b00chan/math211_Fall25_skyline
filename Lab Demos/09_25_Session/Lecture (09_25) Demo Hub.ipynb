{
 "cells": [
  {
   "cell_type": "markdown",
   "id": "545da080",
   "metadata": {},
   "source": [
    "# [Python Reference Link](http://www.data8.org/sp20/python-reference.html)\n",
    "*Run the cell below so that we can set our modules up*"
   ]
  },
  {
   "cell_type": "code",
   "execution_count": 2,
   "id": "184ab73c",
   "metadata": {},
   "outputs": [],
   "source": [
    "import numpy as np\n",
    "from datascience import *"
   ]
  },
  {
   "cell_type": "code",
   "execution_count": null,
   "id": "d98eb4c8",
   "metadata": {},
   "outputs": [],
   "source": [
    "# These lines set up graphing capabilities.\n",
    "import matplotlib\n",
    "%matplotlib inline\n",
    "import matplotlib.pyplot as plt\n",
    "plt.style.use('fivethirtyeight')\n",
    "import warnings\n",
    "warnings.simplefilter('ignore', FutureWarning)\n",
    "\n",
    "from ipywidgets import interact, interactive, fixed, interact_manual\n",
    "import ipywidgets as widgets"
   ]
  },
  {
   "cell_type": "markdown",
   "id": "6f7d0cb4",
   "metadata": {},
   "source": [
    "# Demo for `tbl.join`\n",
    "<img src=\"table_join.png\" alt=\"drawing\" width=\"1200\"/>"
   ]
  },
  {
   "cell_type": "code",
   "execution_count": null,
   "id": "45c5fe9b",
   "metadata": {},
   "outputs": [],
   "source": [
    "drinks = Table.read_table('drinks.csv')\n",
    "discounts = Table.read_table('discounts.csv')\n",
    "\n",
    "drinks.show()\n",
    "discounts.show()"
   ]
  },
  {
   "cell_type": "code",
   "execution_count": null,
   "id": "475b658e",
   "metadata": {},
   "outputs": [],
   "source": []
  },
  {
   "cell_type": "code",
   "execution_count": null,
   "id": "53a8ce7f",
   "metadata": {},
   "outputs": [],
   "source": []
  },
  {
   "cell_type": "markdown",
   "id": "e85d107d",
   "metadata": {},
   "source": [
    "# Using Pivot Tables to Analyze Credit/Debit Card Statements"
   ]
  },
  {
   "cell_type": "markdown",
   "id": "c25a7ff2",
   "metadata": {},
   "source": [
    "Importing the csv file and storing it in the `spending` table"
   ]
  },
  {
   "cell_type": "code",
   "execution_count": null,
   "id": "452329ef",
   "metadata": {},
   "outputs": [],
   "source": [
    "spending = Table.read_table('...')"
   ]
  },
  {
   "cell_type": "code",
   "execution_count": null,
   "id": "5ded8664",
   "metadata": {},
   "outputs": [],
   "source": [
    "#Take a look at all of your expenses\n",
    "spending.show()"
   ]
  },
  {
   "cell_type": "markdown",
   "id": "2053bd41",
   "metadata": {},
   "source": [
    "Now, let's reformat our transaction dates so that it only reports the month and year. We aim to examine how our spending habits change month-to-month. "
   ]
  },
  {
   "cell_type": "code",
   "execution_count": null,
   "id": "9688d8c0",
   "metadata": {},
   "outputs": [],
   "source": [
    "def extract_month_year(date):\n",
    "    ...\n",
    "    return ..."
   ]
  },
  {
   "cell_type": "markdown",
   "id": "50acfa20",
   "metadata": {},
   "source": [
    "Let's use the function we just created to add a new column to our `spending` table. "
   ]
  },
  {
   "cell_type": "code",
   "execution_count": null,
   "id": "5c1323fc",
   "metadata": {},
   "outputs": [],
   "source": [
    "#creates the array of outputs from our transaction month/year function\n",
    "transaction_month = spending.apply(extract_month_year,'') \n",
    "\n",
    "#Now we add that array to the spending table\n",
    "spending = spending.with_column( '' , transaction_month)"
   ]
  },
  {
   "cell_type": "code",
   "execution_count": null,
   "id": "b2c7352f",
   "metadata": {},
   "outputs": [],
   "source": [
    "#Time to pivot!\n",
    "..."
   ]
  }
 ],
 "metadata": {
  "kernelspec": {
   "display_name": "Python 3 (ipykernel)",
   "language": "python",
   "name": "python3"
  },
  "language_info": {
   "codemirror_mode": {
    "name": "ipython",
    "version": 3
   },
   "file_extension": ".py",
   "mimetype": "text/x-python",
   "name": "python",
   "nbconvert_exporter": "python",
   "pygments_lexer": "ipython3",
   "version": "3.10.11"
  }
 },
 "nbformat": 4,
 "nbformat_minor": 5
}
