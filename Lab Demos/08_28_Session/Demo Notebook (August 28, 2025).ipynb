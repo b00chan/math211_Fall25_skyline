{
 "cells": [
  {
   "cell_type": "markdown",
   "id": "7f85cd2c",
   "metadata": {},
   "source": [
    "# [Python Reference Link](http://www.data8.org/sp20/python-reference.html)\n",
    "*Run the cell below so that we can set our modules up*"
   ]
  },
  {
   "cell_type": "code",
   "execution_count": 1,
   "id": "3b5e82ac",
   "metadata": {},
   "outputs": [],
   "source": [
    "import numpy as np\n",
    "from datascience import *\n",
    "import math"
   ]
  },
  {
   "cell_type": "markdown",
   "id": "c84e299c",
   "metadata": {},
   "source": [
    "# Numbers"
   ]
  },
  {
   "cell_type": "code",
   "execution_count": 2,
   "id": "e3994415",
   "metadata": {},
   "outputs": [
    {
     "data": {
      "text/plain": [
       "3.3333333333333335"
      ]
     },
     "execution_count": 2,
     "metadata": {},
     "output_type": "execute_result"
    }
   ],
   "source": [
    "10/3"
   ]
  },
  {
   "cell_type": "code",
   "execution_count": 3,
   "id": "d654e35c",
   "metadata": {},
   "outputs": [
    {
     "data": {
      "text/plain": [
       "3"
      ]
     },
     "execution_count": 3,
     "metadata": {},
     "output_type": "execute_result"
    }
   ],
   "source": [
    "3"
   ]
  },
  {
   "cell_type": "code",
   "execution_count": 4,
   "id": "f33d1e37",
   "metadata": {},
   "outputs": [
    {
     "data": {
      "text/plain": [
       "3.0"
      ]
     },
     "execution_count": 4,
     "metadata": {},
     "output_type": "execute_result"
    }
   ],
   "source": [
    "3.0"
   ]
  },
  {
   "cell_type": "code",
   "execution_count": 5,
   "id": "2977440d",
   "metadata": {},
   "outputs": [
    {
     "data": {
      "text/plain": [
       "1.3294875692384767"
      ]
     },
     "execution_count": 5,
     "metadata": {},
     "output_type": "execute_result"
    }
   ],
   "source": [
    "1.329487569238476592348765293456293478650234875029438"
   ]
  },
  {
   "cell_type": "code",
   "execution_count": 6,
   "id": "71b03eed",
   "metadata": {},
   "outputs": [
    {
     "data": {
      "text/plain": [
       "1.8838043016463903e+257"
      ]
     },
     "execution_count": 6,
     "metadata": {},
     "output_type": "execute_result"
    }
   ],
   "source": [
    "123.5**123"
   ]
  },
  {
   "cell_type": "markdown",
   "id": "0e47feaa",
   "metadata": {},
   "source": [
    "# Strings"
   ]
  },
  {
   "cell_type": "code",
   "execution_count": 7,
   "id": "5d8b9506",
   "metadata": {},
   "outputs": [
    {
     "data": {
      "text/plain": [
       "'Here is a string'"
      ]
     },
     "execution_count": 7,
     "metadata": {},
     "output_type": "execute_result"
    }
   ],
   "source": [
    "'Here is a string'"
   ]
  },
  {
   "cell_type": "code",
   "execution_count": 8,
   "id": "f13b55d6",
   "metadata": {},
   "outputs": [
    {
     "data": {
      "text/plain": [
       "'Here is a string as well'"
      ]
     },
     "execution_count": 8,
     "metadata": {},
     "output_type": "execute_result"
    }
   ],
   "source": [
    "\"Here is a string as well\""
   ]
  },
  {
   "cell_type": "code",
   "execution_count": 9,
   "id": "0edcb73c",
   "metadata": {},
   "outputs": [],
   "source": [
    "greeting = 'hi, wassup'"
   ]
  },
  {
   "cell_type": "code",
   "execution_count": 10,
   "id": "8d293c9b",
   "metadata": {},
   "outputs": [
    {
     "data": {
      "text/plain": [
       "'hi, wassup'"
      ]
     },
     "execution_count": 10,
     "metadata": {},
     "output_type": "execute_result"
    }
   ],
   "source": [
    "greeting"
   ]
  },
  {
   "cell_type": "code",
   "execution_count": 11,
   "id": "2bd09fe4",
   "metadata": {},
   "outputs": [
    {
     "data": {
      "text/plain": [
       "'hi, wassup class'"
      ]
     },
     "execution_count": 11,
     "metadata": {},
     "output_type": "execute_result"
    }
   ],
   "source": [
    "greeting +' class'"
   ]
  },
  {
   "cell_type": "code",
   "execution_count": 12,
   "id": "27f0b155",
   "metadata": {},
   "outputs": [
    {
     "data": {
      "text/plain": [
       "'muahahahahahahahahahaha'"
      ]
     },
     "execution_count": 12,
     "metadata": {},
     "output_type": "execute_result"
    }
   ],
   "source": [
    "x = 'ha'\n",
    "'mua'+x*10"
   ]
  },
  {
   "cell_type": "markdown",
   "id": "4a9b11a0",
   "metadata": {},
   "source": [
    "# Types"
   ]
  },
  {
   "cell_type": "code",
   "execution_count": 14,
   "id": "844c6c31-b843-43d0-9aa1-ac5f6f2c0707",
   "metadata": {},
   "outputs": [
    {
     "data": {
      "text/plain": [
       "'5678'"
      ]
     },
     "execution_count": 14,
     "metadata": {},
     "output_type": "execute_result"
    }
   ],
   "source": [
    "str(5678)"
   ]
  },
  {
   "cell_type": "code",
   "execution_count": 15,
   "id": "6343c3ee",
   "metadata": {},
   "outputs": [
    {
     "data": {
      "text/plain": [
       "5678.0"
      ]
     },
     "execution_count": 15,
     "metadata": {},
     "output_type": "execute_result"
    }
   ],
   "source": [
    "float(str(5678))"
   ]
  },
  {
   "cell_type": "code",
   "execution_count": 16,
   "id": "bb82bd00",
   "metadata": {},
   "outputs": [
    {
     "data": {
      "text/plain": [
       "str"
      ]
     },
     "execution_count": 16,
     "metadata": {},
     "output_type": "execute_result"
    }
   ],
   "source": [
    "type(greeting)"
   ]
  },
  {
   "cell_type": "code",
   "execution_count": 17,
   "id": "6f2f8ee4",
   "metadata": {},
   "outputs": [
    {
     "data": {
      "text/plain": [
       "\u001b[0;31mSignature:\u001b[0m \u001b[0mabs\u001b[0m\u001b[0;34m(\u001b[0m\u001b[0mx\u001b[0m\u001b[0;34m,\u001b[0m \u001b[0;34m/\u001b[0m\u001b[0;34m)\u001b[0m\u001b[0;34m\u001b[0m\u001b[0;34m\u001b[0m\u001b[0m\n",
       "\u001b[0;31mDocstring:\u001b[0m Return the absolute value of the argument.\n",
       "\u001b[0;31mType:\u001b[0m      builtin_function_or_method"
      ]
     },
     "metadata": {},
     "output_type": "display_data"
    }
   ],
   "source": [
    "abs?"
   ]
  },
  {
   "cell_type": "markdown",
   "id": "82507465",
   "metadata": {},
   "source": [
    "# Looking at the difference between Strings, Ints, and Floats"
   ]
  },
  {
   "cell_type": "code",
   "execution_count": 18,
   "id": "21d07659",
   "metadata": {},
   "outputs": [
    {
     "name": "stdout",
     "output_type": "stream",
     "text": [
      "44\n",
      "8\n"
     ]
    }
   ],
   "source": [
    "print('4'+'4')\n",
    "print(4+4)"
   ]
  },
  {
   "cell_type": "code",
   "execution_count": null,
   "id": "502cc3f5",
   "metadata": {},
   "outputs": [],
   "source": []
  },
  {
   "cell_type": "markdown",
   "id": "48aa2e4c",
   "metadata": {},
   "source": [
    "# Arrays and the [NumPy Module](https://numpy.org/doc/stable/reference/index.html)"
   ]
  },
  {
   "cell_type": "code",
   "execution_count": 19,
   "id": "acf32451",
   "metadata": {},
   "outputs": [],
   "source": [
    "first_four = make_array(1,2,3,4)"
   ]
  },
  {
   "cell_type": "code",
   "execution_count": 20,
   "id": "82acad93",
   "metadata": {},
   "outputs": [
    {
     "data": {
      "text/plain": [
       "array([1, 2, 3, 4])"
      ]
     },
     "execution_count": 20,
     "metadata": {},
     "output_type": "execute_result"
    }
   ],
   "source": [
    "first_four"
   ]
  },
  {
   "cell_type": "code",
   "execution_count": 21,
   "id": "3937a8f4",
   "metadata": {},
   "outputs": [
    {
     "data": {
      "text/plain": [
       "array([ 4,  8, 12, 16])"
      ]
     },
     "execution_count": 21,
     "metadata": {},
     "output_type": "execute_result"
    }
   ],
   "source": [
    "first_four * 4"
   ]
  },
  {
   "cell_type": "code",
   "execution_count": 22,
   "id": "4e94bf1e",
   "metadata": {},
   "outputs": [],
   "source": [
    "random = make_array(1,4,\"this string\")"
   ]
  },
  {
   "cell_type": "code",
   "execution_count": 23,
   "id": "dd0e71c0",
   "metadata": {},
   "outputs": [
    {
     "ename": "TypeError",
     "evalue": "The 'out' kwarg is necessary when using the string multiply ufunc directly. Use numpy.strings.multiply to multiply strings without specifying 'out'.",
     "output_type": "error",
     "traceback": [
      "\u001b[0;31m---------------------------------------------------------------------------\u001b[0m",
      "\u001b[0;31mTypeError\u001b[0m                                 Traceback (most recent call last)",
      "Cell \u001b[0;32mIn[23], line 1\u001b[0m\n\u001b[0;32m----> 1\u001b[0m \u001b[43mrandom\u001b[49m\u001b[38;5;241;43m*\u001b[39;49m\u001b[38;5;241;43m4\u001b[39;49m\n",
      "\u001b[0;31mTypeError\u001b[0m: The 'out' kwarg is necessary when using the string multiply ufunc directly. Use numpy.strings.multiply to multiply strings without specifying 'out'."
     ]
    }
   ],
   "source": [
    "random*4"
   ]
  },
  {
   "cell_type": "markdown",
   "id": "7ed71787",
   "metadata": {},
   "source": [
    "# `np.arange` from the [NumPy](https://numpy.org/doc/stable/reference/generated/numpy.arange.html) module"
   ]
  },
  {
   "cell_type": "code",
   "execution_count": 24,
   "id": "86711421",
   "metadata": {},
   "outputs": [
    {
     "data": {
      "text/plain": [
       "array([0, 1, 2, 3, 4, 5])"
      ]
     },
     "execution_count": 24,
     "metadata": {},
     "output_type": "execute_result"
    }
   ],
   "source": [
    "#np.arange(stop)\n",
    "np.arange(6)"
   ]
  },
  {
   "cell_type": "code",
   "execution_count": 25,
   "id": "9f968709",
   "metadata": {},
   "outputs": [
    {
     "data": {
      "text/plain": [
       "array([6, 7, 8, 9])"
      ]
     },
     "execution_count": 25,
     "metadata": {},
     "output_type": "execute_result"
    }
   ],
   "source": [
    "#np.arange(start,stop)\n",
    "np.arange(6,10)"
   ]
  },
  {
   "cell_type": "code",
   "execution_count": 28,
   "id": "2d8ba938",
   "metadata": {},
   "outputs": [
    {
     "data": {
      "text/plain": [
       "array([2, 5, 8])"
      ]
     },
     "execution_count": 28,
     "metadata": {},
     "output_type": "execute_result"
    }
   ],
   "source": [
    "#np.arange(start,stop,step)\n",
    "np.arange(2,9,3)"
   ]
  },
  {
   "cell_type": "markdown",
   "id": "56802e77",
   "metadata": {},
   "source": [
    "# Table Operations \n",
    "\n",
    "I strongly recommend adding the [Python Reference Page](https://www.data8.org/sp20/python-reference.html) to your bookmarks for reference! It is a sort of cheat sheet for the course! \n",
    "\n",
    "### Importing a Table\n",
    "First, we will start with looking at how to import our data into the notebook:\n",
    "<img src=\"Creating_Table.png\" alt=\"drawing\" width=\"1200\"/>\n",
    "*From the Python reference page"
   ]
  },
  {
   "cell_type": "code",
   "execution_count": 29,
   "id": "c280553c",
   "metadata": {},
   "outputs": [
    {
     "data": {
      "text/html": [
       "<table border=\"1\" class=\"dataframe\">\n",
       "    <thead>\n",
       "        <tr>\n",
       "            <th>track_id</th> <th>track_name</th> <th>track_artist</th> <th>track_popularity</th> <th>track_album_id</th> <th>track_album_name</th> <th>track_album_release_date</th> <th>playlist_name</th> <th>playlist_id</th> <th>playlist_genre</th> <th>playlist_subgenre</th> <th>danceability</th> <th>energy</th> <th>key</th> <th>loudness</th> <th>mode</th> <th>speechiness</th> <th>acousticness</th> <th>instrumentalness</th> <th>liveness</th> <th>valence</th> <th>tempo</th> <th>duration_ms</th>\n",
       "        </tr>\n",
       "    </thead>\n",
       "    <tbody>\n",
       "        <tr>\n",
       "            <td>6f807x0ima9a1j3VPbc7VN</td> <td>I Don't Care (with Justin Bieber) - Loud Luxury Remix</td> <td>Ed Sheeran      </td> <td>66              </td> <td>2oCs0DGTsRO98Gh5ZSl2Cx</td> <td>I Don't Care (with Justin Bieber) [Loud Luxury Remix]</td> <td>2019-06-14              </td> <td>Pop Remix    </td> <td>37i9dQZF1DXcZDD7cfEKhW</td> <td>pop           </td> <td>dance pop        </td> <td>0.748       </td> <td>0.916 </td> <td>6   </td> <td>-2.634  </td> <td>1   </td> <td>0.0583     </td> <td>0.102       </td> <td>0               </td> <td>0.0653  </td> <td>0.518  </td> <td>122.036</td> <td>194754     </td>\n",
       "        </tr>\n",
       "        <tr>\n",
       "            <td>0r7CVbZTWZgbTCYdfa2P31</td> <td>Memories - Dillon Francis Remix                      </td> <td>Maroon 5        </td> <td>67              </td> <td>63rPSO264uRjW1X5E6cWv6</td> <td>Memories (Dillon Francis Remix)                      </td> <td>2019-12-13              </td> <td>Pop Remix    </td> <td>37i9dQZF1DXcZDD7cfEKhW</td> <td>pop           </td> <td>dance pop        </td> <td>0.726       </td> <td>0.815 </td> <td>11  </td> <td>-4.969  </td> <td>1   </td> <td>0.0373     </td> <td>0.0724      </td> <td>0.00421         </td> <td>0.357   </td> <td>0.693  </td> <td>99.972 </td> <td>162600     </td>\n",
       "        </tr>\n",
       "        <tr>\n",
       "            <td>1z1Hg7Vb0AhHDiEmnDE79l</td> <td>All the Time - Don Diablo Remix                      </td> <td>Zara Larsson    </td> <td>70              </td> <td>1HoSmj2eLcsrR0vE9gThr4</td> <td>All the Time (Don Diablo Remix)                      </td> <td>2019-07-05              </td> <td>Pop Remix    </td> <td>37i9dQZF1DXcZDD7cfEKhW</td> <td>pop           </td> <td>dance pop        </td> <td>0.675       </td> <td>0.931 </td> <td>1   </td> <td>-3.432  </td> <td>0   </td> <td>0.0742     </td> <td>0.0794      </td> <td>2.33e-05        </td> <td>0.11    </td> <td>0.613  </td> <td>124.008</td> <td>176616     </td>\n",
       "        </tr>\n",
       "        <tr>\n",
       "            <td>75FpbthrwQmzHlBJLuGdC7</td> <td>Call You Mine - Keanu Silva Remix                    </td> <td>The Chainsmokers</td> <td>60              </td> <td>1nqYsOef1yKKuGOVchbsk6</td> <td>Call You Mine - The Remixes                          </td> <td>2019-07-19              </td> <td>Pop Remix    </td> <td>37i9dQZF1DXcZDD7cfEKhW</td> <td>pop           </td> <td>dance pop        </td> <td>0.718       </td> <td>0.93  </td> <td>7   </td> <td>-3.778  </td> <td>1   </td> <td>0.102      </td> <td>0.0287      </td> <td>9.43e-06        </td> <td>0.204   </td> <td>0.277  </td> <td>121.956</td> <td>169093     </td>\n",
       "        </tr>\n",
       "        <tr>\n",
       "            <td>1e8PAfcKUYoKkxPhrHqw4x</td> <td>Someone You Loved - Future Humans Remix              </td> <td>Lewis Capaldi   </td> <td>69              </td> <td>7m7vv9wlQ4i0LFuJiE2zsQ</td> <td>Someone You Loved (Future Humans Remix)              </td> <td>2019-03-05              </td> <td>Pop Remix    </td> <td>37i9dQZF1DXcZDD7cfEKhW</td> <td>pop           </td> <td>dance pop        </td> <td>0.65        </td> <td>0.833 </td> <td>1   </td> <td>-4.672  </td> <td>1   </td> <td>0.0359     </td> <td>0.0803      </td> <td>0               </td> <td>0.0833  </td> <td>0.725  </td> <td>123.976</td> <td>189052     </td>\n",
       "        </tr>\n",
       "        <tr>\n",
       "            <td>7fvUMiyapMsRRxr07cU8Ef</td> <td>Beautiful People (feat. Khalid) - Jack Wins Remix    </td> <td>Ed Sheeran      </td> <td>67              </td> <td>2yiy9cd2QktrNvWC2EUi0k</td> <td>Beautiful People (feat. Khalid) [Jack Wins Remix]    </td> <td>2019-07-11              </td> <td>Pop Remix    </td> <td>37i9dQZF1DXcZDD7cfEKhW</td> <td>pop           </td> <td>dance pop        </td> <td>0.675       </td> <td>0.919 </td> <td>8   </td> <td>-5.385  </td> <td>1   </td> <td>0.127      </td> <td>0.0799      </td> <td>0               </td> <td>0.143   </td> <td>0.585  </td> <td>124.982</td> <td>163049     </td>\n",
       "        </tr>\n",
       "        <tr>\n",
       "            <td>2OAylPUDDfwRGfe0lYqlCQ</td> <td>Never Really Over - R3HAB Remix                      </td> <td>Katy Perry      </td> <td>62              </td> <td>7INHYSeusaFlyrHSNxm8qH</td> <td>Never Really Over (R3HAB Remix)                      </td> <td>2019-07-26              </td> <td>Pop Remix    </td> <td>37i9dQZF1DXcZDD7cfEKhW</td> <td>pop           </td> <td>dance pop        </td> <td>0.449       </td> <td>0.856 </td> <td>5   </td> <td>-4.788  </td> <td>0   </td> <td>0.0623     </td> <td>0.187       </td> <td>0               </td> <td>0.176   </td> <td>0.152  </td> <td>112.648</td> <td>187675     </td>\n",
       "        </tr>\n",
       "        <tr>\n",
       "            <td>6b1RNvAcJjQH73eZO4BLAB</td> <td>Post Malone (feat. RANI) - GATTÜSO Remix             </td> <td>Sam Feldt       </td> <td>69              </td> <td>6703SRPsLkS4bPtMFFJes1</td> <td>Post Malone (feat. RANI) [GATTÜSO Remix]             </td> <td>2019-08-29              </td> <td>Pop Remix    </td> <td>37i9dQZF1DXcZDD7cfEKhW</td> <td>pop           </td> <td>dance pop        </td> <td>0.542       </td> <td>0.903 </td> <td>4   </td> <td>-2.419  </td> <td>0   </td> <td>0.0434     </td> <td>0.0335      </td> <td>4.83e-06        </td> <td>0.111   </td> <td>0.367  </td> <td>127.936</td> <td>207619     </td>\n",
       "        </tr>\n",
       "        <tr>\n",
       "            <td>7bF6tCO3gFb8INrEDcjNT5</td> <td>Tough Love - Tiësto Remix / Radio Edit               </td> <td>Avicii          </td> <td>68              </td> <td>7CvAfGvq4RlIwEbT9o8Iav</td> <td>Tough Love (Tiësto Remix)                            </td> <td>2019-06-14              </td> <td>Pop Remix    </td> <td>37i9dQZF1DXcZDD7cfEKhW</td> <td>pop           </td> <td>dance pop        </td> <td>0.594       </td> <td>0.935 </td> <td>8   </td> <td>-3.562  </td> <td>1   </td> <td>0.0565     </td> <td>0.0249      </td> <td>3.97e-06        </td> <td>0.637   </td> <td>0.366  </td> <td>127.015</td> <td>193187     </td>\n",
       "        </tr>\n",
       "        <tr>\n",
       "            <td>1IXGILkPm0tOCNeq00kCPa</td> <td>If I Can't Have You - Gryffin Remix                  </td> <td>Shawn Mendes    </td> <td>67              </td> <td>4QxzbfSsVryEQwvPFEV5Iu</td> <td>If I Can't Have You (Gryffin Remix)                  </td> <td>2019-06-20              </td> <td>Pop Remix    </td> <td>37i9dQZF1DXcZDD7cfEKhW</td> <td>pop           </td> <td>dance pop        </td> <td>0.642       </td> <td>0.818 </td> <td>2   </td> <td>-4.552  </td> <td>1   </td> <td>0.032      </td> <td>0.0567      </td> <td>0               </td> <td>0.0919  </td> <td>0.59   </td> <td>124.957</td> <td>253040     </td>\n",
       "        </tr>\n",
       "    </tbody>\n",
       "</table>\n",
       "<p>... (32823 rows omitted)</p>"
      ],
      "text/plain": [
       "track_id               | track_name                                            | track_artist     | track_popularity | track_album_id         | track_album_name                                      | track_album_release_date | playlist_name | playlist_id            | playlist_genre | playlist_subgenre | danceability | energy | key  | loudness | mode | speechiness | acousticness | instrumentalness | liveness | valence | tempo   | duration_ms\n",
       "6f807x0ima9a1j3VPbc7VN | I Don't Care (with Justin Bieber) - Loud Luxury Remix | Ed Sheeran       | 66               | 2oCs0DGTsRO98Gh5ZSl2Cx | I Don't Care (with Justin Bieber) [Loud Luxury Remix] | 2019-06-14               | Pop Remix     | 37i9dQZF1DXcZDD7cfEKhW | pop            | dance pop         | 0.748        | 0.916  | 6    | -2.634   | 1    | 0.0583      | 0.102        | 0                | 0.0653   | 0.518   | 122.036 | 194754\n",
       "0r7CVbZTWZgbTCYdfa2P31 | Memories - Dillon Francis Remix                       | Maroon 5         | 67               | 63rPSO264uRjW1X5E6cWv6 | Memories (Dillon Francis Remix)                       | 2019-12-13               | Pop Remix     | 37i9dQZF1DXcZDD7cfEKhW | pop            | dance pop         | 0.726        | 0.815  | 11   | -4.969   | 1    | 0.0373      | 0.0724       | 0.00421          | 0.357    | 0.693   | 99.972  | 162600\n",
       "1z1Hg7Vb0AhHDiEmnDE79l | All the Time - Don Diablo Remix                       | Zara Larsson     | 70               | 1HoSmj2eLcsrR0vE9gThr4 | All the Time (Don Diablo Remix)                       | 2019-07-05               | Pop Remix     | 37i9dQZF1DXcZDD7cfEKhW | pop            | dance pop         | 0.675        | 0.931  | 1    | -3.432   | 0    | 0.0742      | 0.0794       | 2.33e-05         | 0.11     | 0.613   | 124.008 | 176616\n",
       "75FpbthrwQmzHlBJLuGdC7 | Call You Mine - Keanu Silva Remix                     | The Chainsmokers | 60               | 1nqYsOef1yKKuGOVchbsk6 | Call You Mine - The Remixes                           | 2019-07-19               | Pop Remix     | 37i9dQZF1DXcZDD7cfEKhW | pop            | dance pop         | 0.718        | 0.93   | 7    | -3.778   | 1    | 0.102       | 0.0287       | 9.43e-06         | 0.204    | 0.277   | 121.956 | 169093\n",
       "1e8PAfcKUYoKkxPhrHqw4x | Someone You Loved - Future Humans Remix               | Lewis Capaldi    | 69               | 7m7vv9wlQ4i0LFuJiE2zsQ | Someone You Loved (Future Humans Remix)               | 2019-03-05               | Pop Remix     | 37i9dQZF1DXcZDD7cfEKhW | pop            | dance pop         | 0.65         | 0.833  | 1    | -4.672   | 1    | 0.0359      | 0.0803       | 0                | 0.0833   | 0.725   | 123.976 | 189052\n",
       "7fvUMiyapMsRRxr07cU8Ef | Beautiful People (feat. Khalid) - Jack Wins Remix     | Ed Sheeran       | 67               | 2yiy9cd2QktrNvWC2EUi0k | Beautiful People (feat. Khalid) [Jack Wins Remix]     | 2019-07-11               | Pop Remix     | 37i9dQZF1DXcZDD7cfEKhW | pop            | dance pop         | 0.675        | 0.919  | 8    | -5.385   | 1    | 0.127       | 0.0799       | 0                | 0.143    | 0.585   | 124.982 | 163049\n",
       "2OAylPUDDfwRGfe0lYqlCQ | Never Really Over - R3HAB Remix                       | Katy Perry       | 62               | 7INHYSeusaFlyrHSNxm8qH | Never Really Over (R3HAB Remix)                       | 2019-07-26               | Pop Remix     | 37i9dQZF1DXcZDD7cfEKhW | pop            | dance pop         | 0.449        | 0.856  | 5    | -4.788   | 0    | 0.0623      | 0.187        | 0                | 0.176    | 0.152   | 112.648 | 187675\n",
       "6b1RNvAcJjQH73eZO4BLAB | Post Malone (feat. RANI) - GATTÜSO Remix              | Sam Feldt        | 69               | 6703SRPsLkS4bPtMFFJes1 | Post Malone (feat. RANI) [GATTÜSO Remix]              | 2019-08-29               | Pop Remix     | 37i9dQZF1DXcZDD7cfEKhW | pop            | dance pop         | 0.542        | 0.903  | 4    | -2.419   | 0    | 0.0434      | 0.0335       | 4.83e-06         | 0.111    | 0.367   | 127.936 | 207619\n",
       "7bF6tCO3gFb8INrEDcjNT5 | Tough Love - Tiësto Remix / Radio Edit                | Avicii           | 68               | 7CvAfGvq4RlIwEbT9o8Iav | Tough Love (Tiësto Remix)                             | 2019-06-14               | Pop Remix     | 37i9dQZF1DXcZDD7cfEKhW | pop            | dance pop         | 0.594        | 0.935  | 8    | -3.562   | 1    | 0.0565      | 0.0249       | 3.97e-06         | 0.637    | 0.366   | 127.015 | 193187\n",
       "1IXGILkPm0tOCNeq00kCPa | If I Can't Have You - Gryffin Remix                   | Shawn Mendes     | 67               | 4QxzbfSsVryEQwvPFEV5Iu | If I Can't Have You (Gryffin Remix)                   | 2019-06-20               | Pop Remix     | 37i9dQZF1DXcZDD7cfEKhW | pop            | dance pop         | 0.642        | 0.818  | 2    | -4.552   | 1    | 0.032       | 0.0567       | 0                | 0.0919   | 0.59    | 124.957 | 253040\n",
       "... (32823 rows omitted)"
      ]
     },
     "execution_count": 29,
     "metadata": {},
     "output_type": "execute_result"
    }
   ],
   "source": [
    "spotify = Table().read_table('spotify_songs.csv')\n",
    "spotify"
   ]
  },
  {
   "cell_type": "code",
   "execution_count": 30,
   "id": "4b67fa2a",
   "metadata": {},
   "outputs": [],
   "source": [
    "survey = Table().read_table('Math211_ClassSurvey_1_23_Export.csv')"
   ]
  },
  {
   "cell_type": "code",
   "execution_count": 31,
   "id": "4d6da352",
   "metadata": {},
   "outputs": [
    {
     "data": {
      "text/html": [
       "<table border=\"1\" class=\"dataframe\">\n",
       "    <thead>\n",
       "        <tr>\n",
       "            <th>Do you have a Costco membership?</th> <th>How many cars do you own?</th> <th>Do you prefer personally driving or relying on other transportation?</th> <th>How many siblings do you have?</th> <th>What is your favorite genre of music?</th> <th>Do you prefer online shopping or in person shopping?</th> <th>What type of food do you prefer?</th> <th>Are you lactose intolerant?</th> <th>How many close friends do you have?</th> <th>How many kids do you have?</th> <th>Are you a dog or cat person?</th> <th>What color lightsaber would you pick?</th> <th>What is your starter Pokemon?</th> <th>What is your average daily cellular screen time?</th>\n",
       "        </tr>\n",
       "    </thead>\n",
       "    <tbody>\n",
       "        <tr>\n",
       "            <td>Yes                             </td> <td>1                        </td> <td>driving                                                             </td> <td>0                             </td> <td>electronic                           </td> <td>online shopping                                     </td> <td>Mexican                         </td> <td>No                         </td> <td>5                                  </td> <td>2                         </td> <td>dog                         </td> <td>green blue                           </td> <td>Charmander                   </td> <td>more than 5 hours                               </td>\n",
       "        </tr>\n",
       "        <tr>\n",
       "            <td>No                              </td> <td>1                        </td> <td>driving                                                             </td> <td>2                             </td> <td>pop                                  </td> <td>online shopping                                     </td> <td>Japanese                        </td> <td>No                         </td> <td>12                                 </td> <td>0                         </td> <td>cat                         </td> <td>white                                </td> <td>Bulbasaur                    </td> <td>more than 5 hours                               </td>\n",
       "        </tr>\n",
       "        <tr>\n",
       "            <td>Yes                             </td> <td>1                        </td> <td>driving                                                             </td> <td>1                             </td> <td>Alternative                          </td> <td>online shopping                                     </td> <td>Japanese                        </td> <td>No                         </td> <td>5                                  </td> <td>1                         </td> <td>dog                         </td> <td>purple                               </td> <td>Charmander                   </td> <td>3 - 4 hours                                     </td>\n",
       "        </tr>\n",
       "        <tr>\n",
       "            <td>Yes                             </td> <td>1                        </td> <td>driving                                                             </td> <td>1.5                           </td> <td>Alt                                  </td> <td>online shopping                                     </td> <td>Japanese                        </td> <td>No                         </td> <td>9                                  </td> <td>1                         </td> <td>dog                         </td> <td>orange                               </td> <td>Squirtle                     </td> <td>1 - 2 hours                                     </td>\n",
       "        </tr>\n",
       "        <tr>\n",
       "            <td>Yes                             </td> <td>1                        </td> <td>driving                                                             </td> <td>0                             </td> <td>R & B                                </td> <td>in person shopping                                  </td> <td>Japanese                        </td> <td>No                         </td> <td>8                                  </td> <td>0                         </td> <td>dog                         </td> <td>purple                               </td> <td>Charmander                   </td> <td>more than 5 hours                               </td>\n",
       "        </tr>\n",
       "        <tr>\n",
       "            <td>Yes                             </td> <td>1                        </td> <td>driving                                                             </td> <td>0                             </td> <td>rap                                  </td> <td>online shopping                                     </td> <td>Chinese                         </td> <td>No                         </td> <td>6                                  </td> <td>3                         </td> <td>cat                         </td> <td>purple                               </td> <td>Charmander                   </td> <td>more than 5 hours                               </td>\n",
       "        </tr>\n",
       "        <tr>\n",
       "            <td>Yes                             </td> <td>1                        </td> <td>other transportation                                                </td> <td>1                             </td> <td>pop                                  </td> <td>in person shopping                                  </td> <td>Mexican                         </td> <td>No                         </td> <td>5                                  </td> <td>1                         </td> <td>cat                         </td> <td>purple                               </td> <td>Squirtle                     </td> <td>1 - 2 hours                                     </td>\n",
       "        </tr>\n",
       "        <tr>\n",
       "            <td>Yes                             </td> <td>2                        </td> <td>driving                                                             </td> <td>2                             </td> <td>rap                                  </td> <td>online shopping                                     </td> <td>Mexican                         </td> <td>No                         </td> <td>2                                  </td> <td>0                         </td> <td>dog                         </td> <td>white                                </td> <td>none                         </td> <td>3 - 4 hours                                     </td>\n",
       "        </tr>\n",
       "        <tr>\n",
       "            <td>Yes                             </td> <td>3                        </td> <td>driving                                                             </td> <td>2                             </td> <td>rock                                 </td> <td>online shopping                                     </td> <td>Chinese                         </td> <td>No                         </td> <td>3                                  </td> <td>1                         </td> <td>dog                         </td> <td>black                                </td> <td>Squirtle                     </td> <td>3 - 4 hours                                     </td>\n",
       "        </tr>\n",
       "        <tr>\n",
       "            <td>Yes                             </td> <td>1                        </td> <td>driving                                                             </td> <td>2                             </td> <td>Rock of the Yacht variety            </td> <td>in person shopping                                  </td> <td>Italian                         </td> <td>Yes                        </td> <td>10                                 </td> <td>0                         </td> <td>dog                         </td> <td>green blue                           </td> <td>Charmander                   </td> <td>more than 5 hours                               </td>\n",
       "        </tr>\n",
       "    </tbody>\n",
       "</table>\n",
       "<p>... (104 rows omitted)</p>"
      ],
      "text/plain": [
       "Do you have a Costco membership? | How many cars do you own? | Do you prefer personally driving or relying on other transportation? | How many siblings do you have? | What is your favorite genre of music? | Do you prefer online shopping or in person shopping? | What type of food do you prefer? | Are you lactose intolerant? | How many close friends do you have? | How many kids do you have? | Are you a dog or cat person? | What color lightsaber would you pick? | What is your starter Pokemon? | What is your average daily cellular screen time?\n",
       "Yes                              | 1                         | driving                                                              | 0                              | electronic                            | online shopping                                      | Mexican                          | No                          | 5                                   | 2                          | dog                          | green blue                            | Charmander                    | more than 5 hours\n",
       "No                               | 1                         | driving                                                              | 2                              | pop                                   | online shopping                                      | Japanese                         | No                          | 12                                  | 0                          | cat                          | white                                 | Bulbasaur                     | more than 5 hours\n",
       "Yes                              | 1                         | driving                                                              | 1                              | Alternative                           | online shopping                                      | Japanese                         | No                          | 5                                   | 1                          | dog                          | purple                                | Charmander                    | 3 - 4 hours\n",
       "Yes                              | 1                         | driving                                                              | 1.5                            | Alt                                   | online shopping                                      | Japanese                         | No                          | 9                                   | 1                          | dog                          | orange                                | Squirtle                      | 1 - 2 hours\n",
       "Yes                              | 1                         | driving                                                              | 0                              | R & B                                 | in person shopping                                   | Japanese                         | No                          | 8                                   | 0                          | dog                          | purple                                | Charmander                    | more than 5 hours\n",
       "Yes                              | 1                         | driving                                                              | 0                              | rap                                   | online shopping                                      | Chinese                          | No                          | 6                                   | 3                          | cat                          | purple                                | Charmander                    | more than 5 hours\n",
       "Yes                              | 1                         | other transportation                                                 | 1                              | pop                                   | in person shopping                                   | Mexican                          | No                          | 5                                   | 1                          | cat                          | purple                                | Squirtle                      | 1 - 2 hours\n",
       "Yes                              | 2                         | driving                                                              | 2                              | rap                                   | online shopping                                      | Mexican                          | No                          | 2                                   | 0                          | dog                          | white                                 | none                          | 3 - 4 hours\n",
       "Yes                              | 3                         | driving                                                              | 2                              | rock                                  | online shopping                                      | Chinese                          | No                          | 3                                   | 1                          | dog                          | black                                 | Squirtle                      | 3 - 4 hours\n",
       "Yes                              | 1                         | driving                                                              | 2                              | Rock of the Yacht variety             | in person shopping                                   | Italian                          | Yes                         | 10                                  | 0                          | dog                          | green blue                            | Charmander                    | more than 5 hours\n",
       "... (104 rows omitted)"
      ]
     },
     "execution_count": 31,
     "metadata": {},
     "output_type": "execute_result"
    }
   ],
   "source": [
    "survey"
   ]
  },
  {
   "cell_type": "code",
   "execution_count": 33,
   "id": "36039c72",
   "metadata": {},
   "outputs": [
    {
     "data": {
      "text/html": [
       "<table border=\"1\" class=\"dataframe\">\n",
       "    <thead>\n",
       "        <tr>\n",
       "            <th>track_id</th> <th>track_name</th> <th>track_artist</th> <th>track_popularity</th> <th>track_album_id</th> <th>track_album_name</th> <th>track_album_release_date</th> <th>playlist_name</th> <th>playlist_id</th> <th>playlist_genre</th> <th>playlist_subgenre</th> <th>danceability</th> <th>energy</th> <th>key</th> <th>loudness</th> <th>mode</th> <th>speechiness</th> <th>acousticness</th> <th>instrumentalness</th> <th>liveness</th> <th>valence</th> <th>tempo</th> <th>duration_ms</th>\n",
       "        </tr>\n",
       "    </thead>\n",
       "    <tbody>\n",
       "        <tr>\n",
       "            <td>6f807x0ima9a1j3VPbc7VN</td> <td>I Don't Care (with Justin Bieber) - Loud Luxury Remix</td> <td>Ed Sheeran  </td> <td>66              </td> <td>2oCs0DGTsRO98Gh5ZSl2Cx</td> <td>I Don't Care (with Justin Bieber) [Loud Luxury Remix]</td> <td>2019-06-14              </td> <td>Pop Remix    </td> <td>37i9dQZF1DXcZDD7cfEKhW</td> <td>pop           </td> <td>dance pop        </td> <td>0.748       </td> <td>0.916 </td> <td>6   </td> <td>-2.634  </td> <td>1   </td> <td>0.0583     </td> <td>0.102       </td> <td>0               </td> <td>0.0653  </td> <td>0.518  </td> <td>122.036</td> <td>194754     </td>\n",
       "        </tr>\n",
       "        <tr>\n",
       "            <td>0r7CVbZTWZgbTCYdfa2P31</td> <td>Memories - Dillon Francis Remix                      </td> <td>Maroon 5    </td> <td>67              </td> <td>63rPSO264uRjW1X5E6cWv6</td> <td>Memories (Dillon Francis Remix)                      </td> <td>2019-12-13              </td> <td>Pop Remix    </td> <td>37i9dQZF1DXcZDD7cfEKhW</td> <td>pop           </td> <td>dance pop        </td> <td>0.726       </td> <td>0.815 </td> <td>11  </td> <td>-4.969  </td> <td>1   </td> <td>0.0373     </td> <td>0.0724      </td> <td>0.00421         </td> <td>0.357   </td> <td>0.693  </td> <td>99.972 </td> <td>162600     </td>\n",
       "        </tr>\n",
       "        <tr>\n",
       "            <td>1z1Hg7Vb0AhHDiEmnDE79l</td> <td>All the Time - Don Diablo Remix                      </td> <td>Zara Larsson</td> <td>70              </td> <td>1HoSmj2eLcsrR0vE9gThr4</td> <td>All the Time (Don Diablo Remix)                      </td> <td>2019-07-05              </td> <td>Pop Remix    </td> <td>37i9dQZF1DXcZDD7cfEKhW</td> <td>pop           </td> <td>dance pop        </td> <td>0.675       </td> <td>0.931 </td> <td>1   </td> <td>-3.432  </td> <td>0   </td> <td>0.0742     </td> <td>0.0794      </td> <td>2.33e-05        </td> <td>0.11    </td> <td>0.613  </td> <td>124.008</td> <td>176616     </td>\n",
       "        </tr>\n",
       "    </tbody>\n",
       "</table>\n",
       "<p>... (32830 rows omitted)</p>"
      ],
      "text/plain": [
       "<IPython.core.display.HTML object>"
      ]
     },
     "metadata": {},
     "output_type": "display_data"
    }
   ],
   "source": [
    "spotify.show(3)"
   ]
  },
  {
   "cell_type": "code",
   "execution_count": null,
   "id": "6487c1e5",
   "metadata": {},
   "outputs": [],
   "source": []
  },
  {
   "cell_type": "markdown",
   "id": "10c673ce",
   "metadata": {},
   "source": [
    "### Taking a look at the Table\n",
    "\n",
    "Whenever we want to take a look at the table itself. \n",
    "<img src=\"Table_show.png\" alt=\"drawing\" width=\"1200\"/>"
   ]
  },
  {
   "cell_type": "code",
   "execution_count": 32,
   "id": "773a6a80",
   "metadata": {},
   "outputs": [
    {
     "data": {
      "text/html": [
       "<table border=\"1\" class=\"dataframe\">\n",
       "    <thead>\n",
       "        <tr>\n",
       "            <th>Do you have a Costco membership?</th> <th>How many cars do you own?</th> <th>Do you prefer personally driving or relying on other transportation?</th> <th>How many siblings do you have?</th> <th>What is your favorite genre of music?</th> <th>Do you prefer online shopping or in person shopping?</th> <th>What type of food do you prefer?</th> <th>Are you lactose intolerant?</th> <th>How many close friends do you have?</th> <th>How many kids do you have?</th> <th>Are you a dog or cat person?</th> <th>What color lightsaber would you pick?</th> <th>What is your starter Pokemon?</th> <th>What is your average daily cellular screen time?</th>\n",
       "        </tr>\n",
       "    </thead>\n",
       "    <tbody>\n",
       "        <tr>\n",
       "            <td>Yes                             </td> <td>1                        </td> <td>driving                                                             </td> <td>0                             </td> <td>electronic                           </td> <td>online shopping                                     </td> <td>Mexican                         </td> <td>No                         </td> <td>5                                  </td> <td>2                         </td> <td>dog                         </td> <td>green blue                           </td> <td>Charmander                   </td> <td>more than 5 hours                               </td>\n",
       "        </tr>\n",
       "        <tr>\n",
       "            <td>No                              </td> <td>1                        </td> <td>driving                                                             </td> <td>2                             </td> <td>pop                                  </td> <td>online shopping                                     </td> <td>Japanese                        </td> <td>No                         </td> <td>12                                 </td> <td>0                         </td> <td>cat                         </td> <td>white                                </td> <td>Bulbasaur                    </td> <td>more than 5 hours                               </td>\n",
       "        </tr>\n",
       "        <tr>\n",
       "            <td>Yes                             </td> <td>1                        </td> <td>driving                                                             </td> <td>1                             </td> <td>Alternative                          </td> <td>online shopping                                     </td> <td>Japanese                        </td> <td>No                         </td> <td>5                                  </td> <td>1                         </td> <td>dog                         </td> <td>purple                               </td> <td>Charmander                   </td> <td>3 - 4 hours                                     </td>\n",
       "        </tr>\n",
       "        <tr>\n",
       "            <td>Yes                             </td> <td>1                        </td> <td>driving                                                             </td> <td>1.5                           </td> <td>Alt                                  </td> <td>online shopping                                     </td> <td>Japanese                        </td> <td>No                         </td> <td>9                                  </td> <td>1                         </td> <td>dog                         </td> <td>orange                               </td> <td>Squirtle                     </td> <td>1 - 2 hours                                     </td>\n",
       "        </tr>\n",
       "        <tr>\n",
       "            <td>Yes                             </td> <td>1                        </td> <td>driving                                                             </td> <td>0                             </td> <td>R & B                                </td> <td>in person shopping                                  </td> <td>Japanese                        </td> <td>No                         </td> <td>8                                  </td> <td>0                         </td> <td>dog                         </td> <td>purple                               </td> <td>Charmander                   </td> <td>more than 5 hours                               </td>\n",
       "        </tr>\n",
       "        <tr>\n",
       "            <td>Yes                             </td> <td>1                        </td> <td>driving                                                             </td> <td>0                             </td> <td>rap                                  </td> <td>online shopping                                     </td> <td>Chinese                         </td> <td>No                         </td> <td>6                                  </td> <td>3                         </td> <td>cat                         </td> <td>purple                               </td> <td>Charmander                   </td> <td>more than 5 hours                               </td>\n",
       "        </tr>\n",
       "        <tr>\n",
       "            <td>Yes                             </td> <td>1                        </td> <td>other transportation                                                </td> <td>1                             </td> <td>pop                                  </td> <td>in person shopping                                  </td> <td>Mexican                         </td> <td>No                         </td> <td>5                                  </td> <td>1                         </td> <td>cat                         </td> <td>purple                               </td> <td>Squirtle                     </td> <td>1 - 2 hours                                     </td>\n",
       "        </tr>\n",
       "        <tr>\n",
       "            <td>Yes                             </td> <td>2                        </td> <td>driving                                                             </td> <td>2                             </td> <td>rap                                  </td> <td>online shopping                                     </td> <td>Mexican                         </td> <td>No                         </td> <td>2                                  </td> <td>0                         </td> <td>dog                         </td> <td>white                                </td> <td>none                         </td> <td>3 - 4 hours                                     </td>\n",
       "        </tr>\n",
       "        <tr>\n",
       "            <td>Yes                             </td> <td>3                        </td> <td>driving                                                             </td> <td>2                             </td> <td>rock                                 </td> <td>online shopping                                     </td> <td>Chinese                         </td> <td>No                         </td> <td>3                                  </td> <td>1                         </td> <td>dog                         </td> <td>black                                </td> <td>Squirtle                     </td> <td>3 - 4 hours                                     </td>\n",
       "        </tr>\n",
       "        <tr>\n",
       "            <td>Yes                             </td> <td>1                        </td> <td>driving                                                             </td> <td>2                             </td> <td>Rock of the Yacht variety            </td> <td>in person shopping                                  </td> <td>Italian                         </td> <td>Yes                        </td> <td>10                                 </td> <td>0                         </td> <td>dog                         </td> <td>green blue                           </td> <td>Charmander                   </td> <td>more than 5 hours                               </td>\n",
       "        </tr>\n",
       "        <tr>\n",
       "            <td>Yes                             </td> <td>1                        </td> <td>driving                                                             </td> <td>2                             </td> <td>pop                                  </td> <td>in person shopping                                  </td> <td>Japanese                        </td> <td>Yes                        </td> <td>5                                  </td> <td>0                         </td> <td>dog                         </td> <td>purple                               </td> <td>Charmander                   </td> <td>3 - 4 hours                                     </td>\n",
       "        </tr>\n",
       "        <tr>\n",
       "            <td>Yes                             </td> <td>1                        </td> <td>other transportation                                                </td> <td>3                             </td> <td>Mexican Banda                        </td> <td>in person shopping                                  </td> <td>Japanese                        </td> <td>Yes                        </td> <td>3                                  </td> <td>0                         </td> <td>cat                         </td> <td>yellow                               </td> <td>Squirtle                     </td> <td>3 - 4 hours                                     </td>\n",
       "        </tr>\n",
       "        <tr>\n",
       "            <td>No                              </td> <td>1                        </td> <td>driving                                                             </td> <td>2                             </td> <td>R & B                                </td> <td>in person shopping                                  </td> <td>Mexican                         </td> <td>Yes                        </td> <td>500                                </td> <td>0                         </td> <td>dog                         </td> <td>red                                  </td> <td>none                         </td> <td>3 - 4 hours                                     </td>\n",
       "        </tr>\n",
       "        <tr>\n",
       "            <td>No                              </td> <td>0                        </td> <td>other transportation                                                </td> <td>2                             </td> <td>pop                                  </td> <td>online shopping                                     </td> <td>Italian                         </td> <td>No                         </td> <td>19                                 </td> <td>0                         </td> <td>cat                         </td> <td>purple                               </td> <td>Bulbasaur                    </td> <td>more than 5 hours                               </td>\n",
       "        </tr>\n",
       "        <tr>\n",
       "            <td>Yes                             </td> <td>1                        </td> <td>driving                                                             </td> <td>2                             </td> <td>pop                                  </td> <td>online shopping                                     </td> <td>Chinese                         </td> <td>Yes                        </td> <td>5                                  </td> <td>0                         </td> <td>dog                         </td> <td>purple                               </td> <td>Bulbasaur                    </td> <td>more than 5 hours                               </td>\n",
       "        </tr>\n",
       "        <tr>\n",
       "            <td>No                              </td> <td>1                        </td> <td>driving                                                             </td> <td>0                             </td> <td>R & B                                </td> <td>in person shopping                                  </td> <td>Japanese                        </td> <td>No                         </td> <td>9                                  </td> <td>0                         </td> <td>dog                         </td> <td>purple                               </td> <td>Charmander                   </td> <td>3 - 4 hours                                     </td>\n",
       "        </tr>\n",
       "        <tr>\n",
       "            <td>Yes                             </td> <td>3                        </td> <td>driving                                                             </td> <td>4                             </td> <td>kpop                                 </td> <td>in person shopping                                  </td> <td>Japanese                        </td> <td>No                         </td> <td>5                                  </td> <td>0                         </td> <td>cat                         </td> <td>green blue                           </td> <td>Squirtle                     </td> <td>more than 5 hours                               </td>\n",
       "        </tr>\n",
       "        <tr>\n",
       "            <td>Yes                             </td> <td>1                        </td> <td>driving                                                             </td> <td>1                             </td> <td>R & B                                </td> <td>in person shopping                                  </td> <td>Mexican                         </td> <td>No                         </td> <td>4                                  </td> <td>1                         </td> <td>dog                         </td> <td>purple                               </td> <td>Charmander                   </td> <td>3 - 4 hours                                     </td>\n",
       "        </tr>\n",
       "        <tr>\n",
       "            <td>Yes                             </td> <td>3                        </td> <td>driving                                                             </td> <td>3                             </td> <td>Classic Rock                         </td> <td>online shopping                                     </td> <td>Mexican                         </td> <td>No                         </td> <td>5                                  </td> <td>3                         </td> <td>neither                     </td> <td>green blue                           </td> <td>Charmander                   </td> <td>1 - 2 hours                                     </td>\n",
       "        </tr>\n",
       "        <tr>\n",
       "            <td>No                              </td> <td>0                        </td> <td>driving                                                             </td> <td>0                             </td> <td>R & B                                </td> <td>in person shopping                                  </td> <td>Japanese                        </td> <td>No                         </td> <td>1                                  </td> <td>0                         </td> <td>dog                         </td> <td>yellow                               </td> <td>none                         </td> <td>more than 5 hours                               </td>\n",
       "        </tr>\n",
       "        <tr>\n",
       "            <td>No                              </td> <td>1                        </td> <td>driving                                                             </td> <td>3                             </td> <td>pop                                  </td> <td>in person shopping                                  </td> <td>Japanese                        </td> <td>No                         </td> <td>10                                 </td> <td>0                         </td> <td>dog                         </td> <td>red                                  </td> <td>Charmander                   </td> <td>more than 5 hours                               </td>\n",
       "        </tr>\n",
       "        <tr>\n",
       "            <td>Yes                             </td> <td>0                        </td> <td>other transportation                                                </td> <td>13                            </td> <td>R & B                                </td> <td>online shopping                                     </td> <td>Japanese                        </td> <td>Yes                        </td> <td>5                                  </td> <td>1                         </td> <td>neither                     </td> <td>green blue                           </td> <td>Squirtle                     </td> <td>3 - 4 hours                                     </td>\n",
       "        </tr>\n",
       "        <tr>\n",
       "            <td>No                              </td> <td>1                        </td> <td>other transportation                                                </td> <td>1                             </td> <td>rap                                  </td> <td>online shopping                                     </td> <td>Mexican                         </td> <td>I don't know               </td> <td>10                                 </td> <td>0                         </td> <td>dog                         </td> <td>yellow                               </td> <td>Squirtle                     </td> <td>1 - 2 hours                                     </td>\n",
       "        </tr>\n",
       "        <tr>\n",
       "            <td>Yes                             </td> <td>1                        </td> <td>driving                                                             </td> <td>1                             </td> <td>R & B                                </td> <td>in person shopping                                  </td> <td>Mexican                         </td> <td>No                         </td> <td>4                                  </td> <td>0                         </td> <td>dog                         </td> <td>yellow                               </td> <td>Squirtle                     </td> <td>3 - 4 hours                                     </td>\n",
       "        </tr>\n",
       "        <tr>\n",
       "            <td>No                              </td> <td>2                        </td> <td>other transportation                                                </td> <td>1                             </td> <td>pop                                  </td> <td>online shopping                                     </td> <td>Japanese                        </td> <td>Yes                        </td> <td>5                                  </td> <td>0                         </td> <td>neither                     </td> <td>green blue                           </td> <td>Charmander                   </td> <td>3 - 4 hours                                     </td>\n",
       "        </tr>\n",
       "        <tr>\n",
       "            <td>No                              </td> <td>1                        </td> <td>driving                                                             </td> <td>0                             </td> <td>pop                                  </td> <td>online shopping                                     </td> <td>Mediterranean                   </td> <td>No                         </td> <td>6                                  </td> <td>0                         </td> <td>cat                         </td> <td>green blue                           </td> <td>Charmander                   </td> <td>more than 5 hours                               </td>\n",
       "        </tr>\n",
       "        <tr>\n",
       "            <td>Yes                             </td> <td>1                        </td> <td>driving                                                             </td> <td>0                             </td> <td>Latin                                </td> <td>online shopping                                     </td> <td>Mexican                         </td> <td>No                         </td> <td>3                                  </td> <td>0                         </td> <td>dog                         </td> <td>red                                  </td> <td>Charmander                   </td> <td>more than 5 hours                               </td>\n",
       "        </tr>\n",
       "        <tr>\n",
       "            <td>No                              </td> <td>0                        </td> <td>driving                                                             </td> <td>1                             </td> <td>pop                                  </td> <td>online shopping                                     </td> <td>Mediterranean                   </td> <td>Yes                        </td> <td>1                                  </td> <td>0                         </td> <td>dog                         </td> <td>green blue                           </td> <td>none                         </td> <td>1 - 2 hours                                     </td>\n",
       "        </tr>\n",
       "        <tr>\n",
       "            <td>Yes                             </td> <td>1                        </td> <td>driving                                                             </td> <td>2                             </td> <td>pop                                  </td> <td>online shopping                                     </td> <td>Chinese                         </td> <td>No                         </td> <td>5                                  </td> <td>0                         </td> <td>cat                         </td> <td>orange                               </td> <td>Charmander                   </td> <td>3 - 4 hours                                     </td>\n",
       "        </tr>\n",
       "        <tr>\n",
       "            <td>Yes                             </td> <td>1                        </td> <td>driving                                                             </td> <td>3                             </td> <td>rap                                  </td> <td>in person shopping                                  </td> <td>Italian                         </td> <td>No                         </td> <td>8                                  </td> <td>1                         </td> <td>dog                         </td> <td>black                                </td> <td>Squirtle                     </td> <td>1 - 2 hours                                     </td>\n",
       "        </tr>\n",
       "        <tr>\n",
       "            <td>Yes                             </td> <td>1                        </td> <td>driving                                                             </td> <td>7                             </td> <td>R & B                                </td> <td>in person shopping                                  </td> <td>Mexican                         </td> <td>Yes                        </td> <td>4                                  </td> <td>0                         </td> <td>dog                         </td> <td>purple                               </td> <td>Charmander                   </td> <td>3 - 4 hours                                     </td>\n",
       "        </tr>\n",
       "        <tr>\n",
       "            <td>Yes                             </td> <td>2                        </td> <td>driving                                                             </td> <td>1                             </td> <td>Punk rock                            </td> <td>online shopping                                     </td> <td>Chinese                         </td> <td>No                         </td> <td>6                                  </td> <td>1                         </td> <td>dog                         </td> <td>red                                  </td> <td>Squirtle                     </td> <td>3 - 4 hours                                     </td>\n",
       "        </tr>\n",
       "        <tr>\n",
       "            <td>No                              </td> <td>1                        </td> <td>driving                                                             </td> <td>1                             </td> <td>R & B                                </td> <td>online shopping                                     </td> <td>Japanese                        </td> <td>No                         </td> <td>4                                  </td> <td>1                         </td> <td>dog                         </td> <td>red                                  </td> <td>none                         </td> <td>3 - 4 hours                                     </td>\n",
       "        </tr>\n",
       "        <tr>\n",
       "            <td>Yes                             </td> <td>1                        </td> <td>driving                                                             </td> <td>4                             </td> <td>reggae                               </td> <td>online shopping                                     </td> <td>Chinese                         </td> <td>I don't know               </td> <td>7                                  </td> <td>0                         </td> <td>dog                         </td> <td>purple                               </td> <td>Charmander                   </td> <td>more than 5 hours                               </td>\n",
       "        </tr>\n",
       "        <tr>\n",
       "            <td>Yes                             </td> <td>1                        </td> <td>driving                                                             </td> <td>1                             </td> <td>R & B                                </td> <td>online shopping                                     </td> <td>Mexican                         </td> <td>No                         </td> <td>4                                  </td> <td>0                         </td> <td>dog                         </td> <td>orange                               </td> <td>Charmander                   </td> <td>3 - 4 hours                                     </td>\n",
       "        </tr>\n",
       "        <tr>\n",
       "            <td>Yes                             </td> <td>2                        </td> <td>driving                                                             </td> <td>2                             </td> <td>rap                                  </td> <td>online shopping                                     </td> <td>Japanese                        </td> <td>I don't know               </td> <td>0                                  </td> <td>1                         </td> <td>dog                         </td> <td>white                                </td> <td>Charmander                   </td> <td>1 - 2 hours                                     </td>\n",
       "        </tr>\n",
       "        <tr>\n",
       "            <td>No                              </td> <td>1                        </td> <td>driving                                                             </td> <td>4                             </td> <td>electronic                           </td> <td>online shopping                                     </td> <td>Mexican                         </td> <td>No                         </td> <td>4                                  </td> <td>0                         </td> <td>cat                         </td> <td>purple                               </td> <td>Charmander                   </td> <td>3 - 4 hours                                     </td>\n",
       "        </tr>\n",
       "        <tr>\n",
       "            <td>Yes                             </td> <td>1                        </td> <td>driving                                                             </td> <td>2                             </td> <td>R & B                                </td> <td>online shopping                                     </td> <td>Japanese                        </td> <td>No                         </td> <td>3                                  </td> <td>0                         </td> <td>cat                         </td> <td>green blue                           </td> <td>Charmander                   </td> <td>3 - 4 hours                                     </td>\n",
       "        </tr>\n",
       "        <tr>\n",
       "            <td>No                              </td> <td>2                        </td> <td>driving                                                             </td> <td>1                             </td> <td>Classic rock                         </td> <td>online shopping                                     </td> <td>Japanese                        </td> <td>Yes                        </td> <td>7                                  </td> <td>2                         </td> <td>cat                         </td> <td>green blue                           </td> <td>none                         </td> <td>3 - 4 hours                                     </td>\n",
       "        </tr>\n",
       "        <tr>\n",
       "            <td>No                              </td> <td>1                        </td> <td>driving                                                             </td> <td>1                             </td> <td>rap                                  </td> <td>online shopping                                     </td> <td>Chinese                         </td> <td>No                         </td> <td>8                                  </td> <td>0                         </td> <td>cat                         </td> <td>green blue                           </td> <td>Squirtle                     </td> <td>3 - 4 hours                                     </td>\n",
       "        </tr>\n",
       "        <tr>\n",
       "            <td>Yes                             </td> <td>0                        </td> <td>other transportation                                                </td> <td>2                             </td> <td>R & B                                </td> <td>online shopping                                     </td> <td>Chinese                         </td> <td>Yes                        </td> <td>3                                  </td> <td>0                         </td> <td>cat                         </td> <td>purple                               </td> <td>Bulbasaur                    </td> <td>more than 5 hours                               </td>\n",
       "        </tr>\n",
       "        <tr>\n",
       "            <td>Yes                             </td> <td>2                        </td> <td>driving                                                             </td> <td>5                             </td> <td>pop                                  </td> <td>in person shopping                                  </td> <td>Mexican                         </td> <td>Yes                        </td> <td>5                                  </td> <td>2                         </td> <td>dog                         </td> <td>white                                </td> <td>Squirtle                     </td> <td>3 - 4 hours                                     </td>\n",
       "        </tr>\n",
       "        <tr>\n",
       "            <td>No                              </td> <td>1                        </td> <td>driving                                                             </td> <td>1                             </td> <td>R & B                                </td> <td>in person shopping                                  </td> <td>Japanese                        </td> <td>No                         </td> <td>6                                  </td> <td>0                         </td> <td>cat                         </td> <td>black                                </td> <td>Squirtle                     </td> <td>3 - 4 hours                                     </td>\n",
       "        </tr>\n",
       "        <tr>\n",
       "            <td>Yes                             </td> <td>1                        </td> <td>driving                                                             </td> <td>2                             </td> <td>EDM & Alternative Rock               </td> <td>online shopping                                     </td> <td>Chinese                         </td> <td>No                         </td> <td>10                                 </td> <td>0                         </td> <td>dog                         </td> <td>purple                               </td> <td>Squirtle                     </td> <td>1 - 2 hours                                     </td>\n",
       "        </tr>\n",
       "        <tr>\n",
       "            <td>Yes                             </td> <td>1                        </td> <td>driving                                                             </td> <td>0                             </td> <td>pop                                  </td> <td>online shopping                                     </td> <td>Japanese                        </td> <td>No                         </td> <td>2                                  </td> <td>0                         </td> <td>dog                         </td> <td>purple                               </td> <td>Bulbasaur                    </td> <td>3 - 4 hours                                     </td>\n",
       "        </tr>\n",
       "        <tr>\n",
       "            <td>Yes                             </td> <td>2                        </td> <td>driving                                                             </td> <td>3                             </td> <td>R & B                                </td> <td>online shopping                                     </td> <td>Japanese                        </td> <td>No                         </td> <td>5                                  </td> <td>1                         </td> <td>cat                         </td> <td>white                                </td> <td>Bulbasaur                    </td> <td>3 - 4 hours                                     </td>\n",
       "        </tr>\n",
       "        <tr>\n",
       "            <td>Yes                             </td> <td>5                        </td> <td>other transportation                                                </td> <td>3                             </td> <td>R & B                                </td> <td>in person shopping                                  </td> <td>Japanese                        </td> <td>Yes                        </td> <td>5                                  </td> <td>1                         </td> <td>cat                         </td> <td>orange                               </td> <td>Bulbasaur                    </td> <td>3 - 4 hours                                     </td>\n",
       "        </tr>\n",
       "        <tr>\n",
       "            <td>No                              </td> <td>1                        </td> <td>driving                                                             </td> <td>1                             </td> <td>pop                                  </td> <td>online shopping                                     </td> <td>Mexican                         </td> <td>Yes                        </td> <td>7                                  </td> <td>0                         </td> <td>dog                         </td> <td>purple                               </td> <td>Bulbasaur                    </td> <td>3 - 4 hours                                     </td>\n",
       "        </tr>\n",
       "        <tr>\n",
       "            <td>Yes                             </td> <td>1                        </td> <td>driving                                                             </td> <td>2                             </td> <td>pop                                  </td> <td>online shopping                                     </td> <td>Japanese                        </td> <td>No                         </td> <td>10                                 </td> <td>0                         </td> <td>dog                         </td> <td>green blue                           </td> <td>Squirtle                     </td> <td>more than 5 hours                               </td>\n",
       "        </tr>\n",
       "        <tr>\n",
       "            <td>Yes                             </td> <td>1                        </td> <td>driving                                                             </td> <td>2                             </td> <td>rap                                  </td> <td>online shopping                                     </td> <td>Mexican                         </td> <td>I don't know               </td> <td>5                                  </td> <td>0                         </td> <td>dog                         </td> <td>purple                               </td> <td>Squirtle                     </td> <td>3 - 4 hours                                     </td>\n",
       "        </tr>\n",
       "        <tr>\n",
       "            <td>Yes                             </td> <td>1                        </td> <td>driving                                                             </td> <td>2                             </td> <td>reggae                               </td> <td>in person shopping                                  </td> <td>Mexican                         </td> <td>Yes                        </td> <td>5                                  </td> <td>0                         </td> <td>dog                         </td> <td>red                                  </td> <td>Charmander                   </td> <td>more than 5 hours                               </td>\n",
       "        </tr>\n",
       "        <tr>\n",
       "            <td>Yes                             </td> <td>1                        </td> <td>driving                                                             </td> <td>1                             </td> <td>Rock                                 </td> <td>in person shopping                                  </td> <td>Mexican                         </td> <td>No                         </td> <td>5                                  </td> <td>0                         </td> <td>dog                         </td> <td>purple                               </td> <td>Squirtle                     </td> <td>1 - 2 hours                                     </td>\n",
       "        </tr>\n",
       "        <tr>\n",
       "            <td>Yes                             </td> <td>2                        </td> <td>driving                                                             </td> <td>1                             </td> <td>pop                                  </td> <td>in person shopping                                  </td> <td>Chinese                         </td> <td>No                         </td> <td>4                                  </td> <td>1                         </td> <td>dog                         </td> <td>white                                </td> <td>Charmander                   </td> <td>more than 5 hours                               </td>\n",
       "        </tr>\n",
       "        <tr>\n",
       "            <td>Yes                             </td> <td>2                        </td> <td>driving                                                             </td> <td>4                             </td> <td>R & B                                </td> <td>in person shopping                                  </td> <td>Mexican                         </td> <td>No                         </td> <td>10                                 </td> <td>0                         </td> <td>dog                         </td> <td>green blue                           </td> <td>Charmander                   </td> <td>3 - 4 hours                                     </td>\n",
       "        </tr>\n",
       "        <tr>\n",
       "            <td>Yes                             </td> <td>1                        </td> <td>driving                                                             </td> <td>4                             </td> <td>R & B                                </td> <td>in person shopping                                  </td> <td>Japanese                        </td> <td>No                         </td> <td>6                                  </td> <td>1                         </td> <td>dog                         </td> <td>green blue                           </td> <td>Squirtle                     </td> <td>more than 5 hours                               </td>\n",
       "        </tr>\n",
       "        <tr>\n",
       "            <td>Yes                             </td> <td>1                        </td> <td>driving                                                             </td> <td>4                             </td> <td>indie                                </td> <td>online shopping                                     </td> <td>Japanese                        </td> <td>Yes                        </td> <td>5                                  </td> <td>0                         </td> <td>dog                         </td> <td>white                                </td> <td>Bulbasaur                    </td> <td>3 - 4 hours                                     </td>\n",
       "        </tr>\n",
       "        <tr>\n",
       "            <td>No                              </td> <td>1                        </td> <td>other transportation                                                </td> <td>1                             </td> <td>musicials, electic                   </td> <td>online shopping                                     </td> <td>Mediterranean                   </td> <td>No                         </td> <td>4                                  </td> <td>0                         </td> <td>dog                         </td> <td>green blue                           </td> <td>none                         </td> <td>Less than 1 hour                                </td>\n",
       "        </tr>\n",
       "        <tr>\n",
       "            <td>Yes                             </td> <td>1                        </td> <td>driving                                                             </td> <td>1                             </td> <td>R & B                                </td> <td>online shopping                                     </td> <td>Japanese                        </td> <td>No                         </td> <td>3                                  </td> <td>1                         </td> <td>dog                         </td> <td>white                                </td> <td>Squirtle                     </td> <td>3 - 4 hours                                     </td>\n",
       "        </tr>\n",
       "        <tr>\n",
       "            <td>Yes                             </td> <td>1                        </td> <td>driving                                                             </td> <td>2                             </td> <td>rap                                  </td> <td>in person shopping                                  </td> <td>Japanese                        </td> <td>No                         </td> <td>5                                  </td> <td>0                         </td> <td>dog                         </td> <td>black                                </td> <td>Squirtle                     </td> <td>3 - 4 hours                                     </td>\n",
       "        </tr>\n",
       "        <tr>\n",
       "            <td>Yes                             </td> <td>1                        </td> <td>driving                                                             </td> <td>1                             </td> <td>rap                                  </td> <td>in person shopping                                  </td> <td>Japanese                        </td> <td>No                         </td> <td>3                                  </td> <td>0                         </td> <td>neither                     </td> <td>black                                </td> <td>Bulbasaur                    </td> <td>more than 5 hours                               </td>\n",
       "        </tr>\n",
       "        <tr>\n",
       "            <td>Yes                             </td> <td>2                        </td> <td>driving                                                             </td> <td>2                             </td> <td>R & B                                </td> <td>in person shopping                                  </td> <td>Italian                         </td> <td>No                         </td> <td>5                                  </td> <td>2                         </td> <td>neither                     </td> <td>white                                </td> <td>none                         </td> <td>more than 5 hours                               </td>\n",
       "        </tr>\n",
       "        <tr>\n",
       "            <td>Yes                             </td> <td>1                        </td> <td>driving                                                             </td> <td>1                             </td> <td>electronic                           </td> <td>in person shopping                                  </td> <td>Chinese                         </td> <td>Yes                        </td> <td>20                                 </td> <td>0                         </td> <td>neither                     </td> <td>green blue                           </td> <td>Charmander                   </td> <td>more than 5 hours                               </td>\n",
       "        </tr>\n",
       "        <tr>\n",
       "            <td>Yes                             </td> <td>1                        </td> <td>driving                                                             </td> <td>2                             </td> <td>rap                                  </td> <td>online shopping                                     </td> <td>Mexican                         </td> <td>Yes                        </td> <td>5                                  </td> <td>0                         </td> <td>dog                         </td> <td>green blue                           </td> <td>Charmander                   </td> <td>more than 5 hours                               </td>\n",
       "        </tr>\n",
       "        <tr>\n",
       "            <td>Yes                             </td> <td>2                        </td> <td>driving                                                             </td> <td>3                             </td> <td>country                              </td> <td>online shopping                                     </td> <td>Japanese                        </td> <td>Yes                        </td> <td>10                                 </td> <td>1                         </td> <td>dog                         </td> <td>white                                </td> <td>Bulbasaur                    </td> <td>3 - 4 hours                                     </td>\n",
       "        </tr>\n",
       "        <tr>\n",
       "            <td>Yes                             </td> <td>1                        </td> <td>driving                                                             </td> <td>2                             </td> <td>R & B                                </td> <td>online shopping                                     </td> <td>Japanese                        </td> <td>Yes                        </td> <td>5                                  </td> <td>2                         </td> <td>dog                         </td> <td>purple                               </td> <td>Charmander                   </td> <td>1 - 2 hours                                     </td>\n",
       "        </tr>\n",
       "        <tr>\n",
       "            <td>Yes                             </td> <td>2                        </td> <td>driving                                                             </td> <td>2                             </td> <td>pop                                  </td> <td>online shopping                                     </td> <td>Mexican                         </td> <td>No                         </td> <td>2                                  </td> <td>1                         </td> <td>neither                     </td> <td>red                                  </td> <td>Charmander                   </td> <td>more than 5 hours                               </td>\n",
       "        </tr>\n",
       "        <tr>\n",
       "            <td>Yes                             </td> <td>1                        </td> <td>driving                                                             </td> <td>2                             </td> <td>Metal                                </td> <td>in person shopping                                  </td> <td>Mexican                         </td> <td>No                         </td> <td>3                                  </td> <td>0                         </td> <td>cat                         </td> <td>black                                </td> <td>Charmander                   </td> <td>3 - 4 hours                                     </td>\n",
       "        </tr>\n",
       "        <tr>\n",
       "            <td>Yes                             </td> <td>1                        </td> <td>driving                                                             </td> <td>2                             </td> <td>pop                                  </td> <td>in person shopping                                  </td> <td>Japanese                        </td> <td>Yes                        </td> <td>10                                 </td> <td>0                         </td> <td>dog                         </td> <td>white                                </td> <td>Bulbasaur                    </td> <td>more than 5 hours                               </td>\n",
       "        </tr>\n",
       "        <tr>\n",
       "            <td>Yes                             </td> <td>1                        </td> <td>driving                                                             </td> <td>1                             </td> <td>R & B                                </td> <td>online shopping                                     </td> <td>Chinese                         </td> <td>Yes                        </td> <td>8                                  </td> <td>1                         </td> <td>dog                         </td> <td>purple                               </td> <td>Bulbasaur                    </td> <td>1 - 2 hours                                     </td>\n",
       "        </tr>\n",
       "        <tr>\n",
       "            <td>No                              </td> <td>1                        </td> <td>driving                                                             </td> <td>3                             </td> <td>R & B                                </td> <td>online shopping                                     </td> <td>Japanese                        </td> <td>No                         </td> <td>7                                  </td> <td>0                         </td> <td>dog                         </td> <td>yellow                               </td> <td>Squirtle                     </td> <td>3 - 4 hours                                     </td>\n",
       "        </tr>\n",
       "        <tr>\n",
       "            <td>Yes                             </td> <td>0                        </td> <td>driving                                                             </td> <td>2                             </td> <td>pop                                  </td> <td>in person shopping                                  </td> <td>Japanese                        </td> <td>Yes                        </td> <td>4                                  </td> <td>0                         </td> <td>dog                         </td> <td>purple                               </td> <td>none                         </td> <td>more than 5 hours                               </td>\n",
       "        </tr>\n",
       "        <tr>\n",
       "            <td>Yes                             </td> <td>3                        </td> <td>driving                                                             </td> <td>3                             </td> <td>country                              </td> <td>online shopping                                     </td> <td>Italian                         </td> <td>Yes                        </td> <td>10                                 </td> <td>2                         </td> <td>dog                         </td> <td>purple                               </td> <td>none                         </td> <td>3 - 4 hours                                     </td>\n",
       "        </tr>\n",
       "        <tr>\n",
       "            <td>Yes                             </td> <td>1                        </td> <td>driving                                                             </td> <td>1                             </td> <td>country                              </td> <td>online shopping                                     </td> <td>Mexican                         </td> <td>No                         </td> <td>3                                  </td> <td>0                         </td> <td>dog                         </td> <td>yellow                               </td> <td>Charmander                   </td> <td>more than 5 hours                               </td>\n",
       "        </tr>\n",
       "        <tr>\n",
       "            <td>No                              </td> <td>2                        </td> <td>driving                                                             </td> <td>2                             </td> <td>Metal                                </td> <td>online shopping                                     </td> <td>Mexican                         </td> <td>Yes                        </td> <td>1                                  </td> <td>1                         </td> <td>cat                         </td> <td>purple                               </td> <td>Squirtle                     </td> <td>3 - 4 hours                                     </td>\n",
       "        </tr>\n",
       "        <tr>\n",
       "            <td>No                              </td> <td>1                        </td> <td>driving                                                             </td> <td>2                             </td> <td>country                              </td> <td>online shopping                                     </td> <td>Mexican                         </td> <td>No                         </td> <td>2                                  </td> <td>0                         </td> <td>dog                         </td> <td>green blue                           </td> <td>Charmander                   </td> <td>3 - 4 hours                                     </td>\n",
       "        </tr>\n",
       "        <tr>\n",
       "            <td>Yes                             </td> <td>3                        </td> <td>driving                                                             </td> <td>2                             </td> <td>rap                                  </td> <td>online shopping                                     </td> <td>Italian                         </td> <td>No                         </td> <td>5                                  </td> <td>0                         </td> <td>cat                         </td> <td>white                                </td> <td>Charmander                   </td> <td>more than 5 hours                               </td>\n",
       "        </tr>\n",
       "        <tr>\n",
       "            <td>Yes                             </td> <td>2                        </td> <td>driving                                                             </td> <td>3                             </td> <td>All types                            </td> <td>in person shopping                                  </td> <td>Mexican                         </td> <td>No                         </td> <td>5                                  </td> <td>1                         </td> <td>cat                         </td> <td>purple                               </td> <td>Squirtle                     </td> <td>3 - 4 hours                                     </td>\n",
       "        </tr>\n",
       "        <tr>\n",
       "            <td>Yes                             </td> <td>1                        </td> <td>driving                                                             </td> <td>2                             </td> <td>rap                                  </td> <td>online shopping                                     </td> <td>Italian                         </td> <td>Yes                        </td> <td>7                                  </td> <td>0                         </td> <td>dog                         </td> <td>purple                               </td> <td>Squirtle                     </td> <td>3 - 4 hours                                     </td>\n",
       "        </tr>\n",
       "        <tr>\n",
       "            <td>Yes                             </td> <td>1                        </td> <td>driving                                                             </td> <td>2                             </td> <td>R & B                                </td> <td>online shopping                                     </td> <td>Japanese                        </td> <td>No                         </td> <td>3                                  </td> <td>1                         </td> <td>dog                         </td> <td>black                                </td> <td>Charmander                   </td> <td>1 - 2 hours                                     </td>\n",
       "        </tr>\n",
       "        <tr>\n",
       "            <td>Yes                             </td> <td>2                        </td> <td>driving                                                             </td> <td>1                             </td> <td>electronic                           </td> <td>online shopping                                     </td> <td>Mediterranean                   </td> <td>No                         </td> <td>8                                  </td> <td>0                         </td> <td>cat                         </td> <td>purple                               </td> <td>Squirtle                     </td> <td>3 - 4 hours                                     </td>\n",
       "        </tr>\n",
       "        <tr>\n",
       "            <td>Yes                             </td> <td>3                        </td> <td>driving                                                             </td> <td>3                             </td> <td>R & B                                </td> <td>online shopping                                     </td> <td>Chinese                         </td> <td>Yes                        </td> <td>10                                 </td> <td>2                         </td> <td>dog                         </td> <td>purple                               </td> <td>Squirtle                     </td> <td>1 - 2 hours                                     </td>\n",
       "        </tr>\n",
       "        <tr>\n",
       "            <td>Yes                             </td> <td>1                        </td> <td>driving                                                             </td> <td>0                             </td> <td>rock                                 </td> <td>in person shopping                                  </td> <td>Japanese                        </td> <td>No                         </td> <td>3                                  </td> <td>0                         </td> <td>dog                         </td> <td>orange                               </td> <td>Squirtle                     </td> <td>more than 5 hours                               </td>\n",
       "        </tr>\n",
       "        <tr>\n",
       "            <td>Yes                             </td> <td>1                        </td> <td>driving                                                             </td> <td>3                             </td> <td>R & B                                </td> <td>in person shopping                                  </td> <td>Mexican                         </td> <td>No                         </td> <td>2                                  </td> <td>0                         </td> <td>dog                         </td> <td>purple                               </td> <td>none                         </td> <td>3 - 4 hours                                     </td>\n",
       "        </tr>\n",
       "        <tr>\n",
       "            <td>Yes                             </td> <td>2                        </td> <td>driving                                                             </td> <td>1                             </td> <td>Tuva throat singing                  </td> <td>in person shopping                                  </td> <td>Mediterranean                   </td> <td>Yes                        </td> <td>5                                  </td> <td>0                         </td> <td>neither                     </td> <td>yellow                               </td> <td>Bulbasaur                    </td> <td>more than 5 hours                               </td>\n",
       "        </tr>\n",
       "        <tr>\n",
       "            <td>Yes                             </td> <td>1                        </td> <td>driving                                                             </td> <td>0                             </td> <td>electronic                           </td> <td>online shopping                                     </td> <td>Mexican                         </td> <td>Yes                        </td> <td>5                                  </td> <td>0                         </td> <td>cat                         </td> <td>purple                               </td> <td>Squirtle                     </td> <td>more than 5 hours                               </td>\n",
       "        </tr>\n",
       "        <tr>\n",
       "            <td>No                              </td> <td>2                        </td> <td>driving                                                             </td> <td>3                             </td> <td>country                              </td> <td>online shopping                                     </td> <td>Chinese                         </td> <td>Yes                        </td> <td>20                                 </td> <td>0                         </td> <td>cat                         </td> <td>green blue                           </td> <td>Charmander                   </td> <td>more than 5 hours                               </td>\n",
       "        </tr>\n",
       "        <tr>\n",
       "            <td>Yes                             </td> <td>1                        </td> <td>driving                                                             </td> <td>6                             </td> <td>pop                                  </td> <td>in person shopping                                  </td> <td>Japanese                        </td> <td>No                         </td> <td>2                                  </td> <td>0                         </td> <td>dog                         </td> <td>green blue                           </td> <td>Squirtle                     </td> <td>more than 5 hours                               </td>\n",
       "        </tr>\n",
       "        <tr>\n",
       "            <td>No                              </td> <td>1                        </td> <td>driving                                                             </td> <td>3                             </td> <td>Latin/hip hop                        </td> <td>in person shopping                                  </td> <td>Mexican                         </td> <td>No                         </td> <td>5                                  </td> <td>0                         </td> <td>dog                         </td> <td>orange                               </td> <td>Charmander                   </td> <td>3 - 4 hours                                     </td>\n",
       "        </tr>\n",
       "        <tr>\n",
       "            <td>Yes                             </td> <td>2                        </td> <td>driving                                                             </td> <td>4                             </td> <td>Metal                                </td> <td>online shopping                                     </td> <td>Mediterranean                   </td> <td>No                         </td> <td>4                                  </td> <td>2                         </td> <td>cat                         </td> <td>red                                  </td> <td>none                         </td> <td>3 - 4 hours                                     </td>\n",
       "        </tr>\n",
       "        <tr>\n",
       "            <td>No                              </td> <td>1                        </td> <td>driving                                                             </td> <td>6                             </td> <td>R & B                                </td> <td>in person shopping                                  </td> <td>Japanese                        </td> <td>No                         </td> <td>10                                 </td> <td>0                         </td> <td>neither                     </td> <td>green blue                           </td> <td>none                         </td> <td>3 - 4 hours                                     </td>\n",
       "        </tr>\n",
       "        <tr>\n",
       "            <td>Yes                             </td> <td>2                        </td> <td>driving                                                             </td> <td>0                             </td> <td>electronic                           </td> <td>online shopping                                     </td> <td>Chinese                         </td> <td>No                         </td> <td>10                                 </td> <td>1                         </td> <td>dog                         </td> <td>green blue                           </td> <td>Charmander                   </td> <td>3 - 4 hours                                     </td>\n",
       "        </tr>\n",
       "        <tr>\n",
       "            <td>No                              </td> <td>2                        </td> <td>driving                                                             </td> <td>0                             </td> <td>All                                  </td> <td>online shopping                                     </td> <td>Japanese                        </td> <td>Yes                        </td> <td>3                                  </td> <td>0                         </td> <td>cat                         </td> <td>red                                  </td> <td>Bulbasaur                    </td> <td>more than 5 hours                               </td>\n",
       "        </tr>\n",
       "        <tr>\n",
       "            <td>Yes                             </td> <td>4                        </td> <td>driving                                                             </td> <td>3                             </td> <td>R & B                                </td> <td>online shopping                                     </td> <td>Japanese                        </td> <td>Yes                        </td> <td>4                                  </td> <td>3                         </td> <td>dog                         </td> <td>red                                  </td> <td>Charmander                   </td> <td>more than 5 hours                               </td>\n",
       "        </tr>\n",
       "        <tr>\n",
       "            <td>Yes                             </td> <td>1                        </td> <td>driving                                                             </td> <td>3                             </td> <td>electronic                           </td> <td>online shopping                                     </td> <td>Japanese                        </td> <td>No                         </td> <td>2                                  </td> <td>0                         </td> <td>dog                         </td> <td>white                                </td> <td>Charmander                   </td> <td>3 - 4 hours                                     </td>\n",
       "        </tr>\n",
       "        <tr>\n",
       "            <td>Yes                             </td> <td>1                        </td> <td>driving                                                             </td> <td>2                             </td> <td>R & B                                </td> <td>online shopping                                     </td> <td>Japanese                        </td> <td>Yes                        </td> <td>4                                  </td> <td>0                         </td> <td>dog                         </td> <td>green blue                           </td> <td>Bulbasaur                    </td> <td>3 - 4 hours                                     </td>\n",
       "        </tr>\n",
       "        <tr>\n",
       "            <td>Yes                             </td> <td>1                        </td> <td>driving                                                             </td> <td>1                             </td> <td>rap                                  </td> <td>in person shopping                                  </td> <td>Italian                         </td> <td>No                         </td> <td>4                                  </td> <td>0                         </td> <td>cat                         </td> <td>green blue                           </td> <td>Squirtle                     </td> <td>3 - 4 hours                                     </td>\n",
       "        </tr>\n",
       "        <tr>\n",
       "            <td>No                              </td> <td>1                        </td> <td>driving                                                             </td> <td>4                             </td> <td>pop                                  </td> <td>online shopping                                     </td> <td>Japanese                        </td> <td>No                         </td> <td>4                                  </td> <td>3                         </td> <td>dog                         </td> <td>green blue                           </td> <td>Charmander                   </td> <td>more than 5 hours                               </td>\n",
       "        </tr>\n",
       "        <tr>\n",
       "            <td>Yes                             </td> <td>1                        </td> <td>driving                                                             </td> <td>2                             </td> <td>R & B                                </td> <td>online shopping                                     </td> <td>Japanese                        </td> <td>No                         </td> <td>3                                  </td> <td>0                         </td> <td>dog                         </td> <td>white                                </td> <td>Squirtle                     </td> <td>1 - 2 hours                                     </td>\n",
       "        </tr>\n",
       "        <tr>\n",
       "            <td>Yes                             </td> <td>2                        </td> <td>driving                                                             </td> <td>2                             </td> <td>pop                                  </td> <td>online shopping                                     </td> <td>Japanese                        </td> <td>Yes                        </td> <td>5                                  </td> <td>3                         </td> <td>dog                         </td> <td>red                                  </td> <td>none                         </td> <td>Less than 1 hour                                </td>\n",
       "        </tr>\n",
       "        <tr>\n",
       "            <td>Yes                             </td> <td>2                        </td> <td>driving                                                             </td> <td>2                             </td> <td>R & B                                </td> <td>online shopping                                     </td> <td>Mexican                         </td> <td>No                         </td> <td>5                                  </td> <td>0                         </td> <td>dog                         </td> <td>purple                               </td> <td>Charmander                   </td> <td>more than 5 hours                               </td>\n",
       "        </tr>\n",
       "    </tbody>\n",
       "</table>\n",
       "<p>... (14 rows omitted)</p>"
      ],
      "text/plain": [
       "<IPython.core.display.HTML object>"
      ]
     },
     "metadata": {},
     "output_type": "display_data"
    }
   ],
   "source": [
    "survey.show(100)"
   ]
  },
  {
   "cell_type": "markdown",
   "id": "9e543e00",
   "metadata": {},
   "source": [
    "### Identifying the Dimensions of a Table\n",
    "\n",
    "In other words, the number of rows and columns in a given table.\n",
    "<img src=\"Table_dimensions.png\" alt=\"drawing\" width=\"1200\"/>\n"
   ]
  },
  {
   "cell_type": "code",
   "execution_count": 34,
   "id": "1618c5cf",
   "metadata": {},
   "outputs": [
    {
     "data": {
      "text/plain": [
       "32833"
      ]
     },
     "execution_count": 34,
     "metadata": {},
     "output_type": "execute_result"
    }
   ],
   "source": [
    "spotify.num_rows"
   ]
  },
  {
   "cell_type": "code",
   "execution_count": 35,
   "id": "d86036a4",
   "metadata": {},
   "outputs": [
    {
     "data": {
      "text/plain": [
       "23"
      ]
     },
     "execution_count": 35,
     "metadata": {},
     "output_type": "execute_result"
    }
   ],
   "source": [
    "spotify.num_columns"
   ]
  },
  {
   "cell_type": "markdown",
   "id": "5837812e",
   "metadata": {},
   "source": [
    "### Narrowing down the number of columns from the original table \n",
    "\n",
    "This can be done by choosing which columns to **only include (i.e. 'select')** or which columns to **exclude (i.e. 'drop')** from the original table. \n",
    "\n",
    "<img src=\"Table_select_drop.png\" alt=\"drawing\" width=\"1200\"/>"
   ]
  },
  {
   "cell_type": "code",
   "execution_count": 36,
   "id": "cdaff5d5",
   "metadata": {},
   "outputs": [
    {
     "data": {
      "text/html": [
       "<table border=\"1\" class=\"dataframe\">\n",
       "    <thead>\n",
       "        <tr>\n",
       "            <th>How many cars do you own?</th> <th>How many siblings do you have?</th>\n",
       "        </tr>\n",
       "    </thead>\n",
       "    <tbody>\n",
       "        <tr>\n",
       "            <td>1                        </td> <td>0                             </td>\n",
       "        </tr>\n",
       "        <tr>\n",
       "            <td>1                        </td> <td>2                             </td>\n",
       "        </tr>\n",
       "        <tr>\n",
       "            <td>1                        </td> <td>1                             </td>\n",
       "        </tr>\n",
       "        <tr>\n",
       "            <td>1                        </td> <td>1.5                           </td>\n",
       "        </tr>\n",
       "        <tr>\n",
       "            <td>1                        </td> <td>0                             </td>\n",
       "        </tr>\n",
       "        <tr>\n",
       "            <td>1                        </td> <td>0                             </td>\n",
       "        </tr>\n",
       "        <tr>\n",
       "            <td>1                        </td> <td>1                             </td>\n",
       "        </tr>\n",
       "        <tr>\n",
       "            <td>2                        </td> <td>2                             </td>\n",
       "        </tr>\n",
       "        <tr>\n",
       "            <td>3                        </td> <td>2                             </td>\n",
       "        </tr>\n",
       "        <tr>\n",
       "            <td>1                        </td> <td>2                             </td>\n",
       "        </tr>\n",
       "    </tbody>\n",
       "</table>\n",
       "<p>... (104 rows omitted)</p>"
      ],
      "text/plain": [
       "How many cars do you own? | How many siblings do you have?\n",
       "1                         | 0\n",
       "1                         | 2\n",
       "1                         | 1\n",
       "1                         | 1.5\n",
       "1                         | 0\n",
       "1                         | 0\n",
       "1                         | 1\n",
       "2                         | 2\n",
       "3                         | 2\n",
       "1                         | 2\n",
       "... (104 rows omitted)"
      ]
     },
     "execution_count": 36,
     "metadata": {},
     "output_type": "execute_result"
    }
   ],
   "source": [
    "survey.select(\"How many cars do you own?\",\"How many siblings do you have?\")"
   ]
  },
  {
   "cell_type": "code",
   "execution_count": 37,
   "id": "a2a5e4a1",
   "metadata": {},
   "outputs": [
    {
     "data": {
      "text/html": [
       "<table border=\"1\" class=\"dataframe\">\n",
       "    <thead>\n",
       "        <tr>\n",
       "            <th>track_name</th> <th>track_artist</th> <th>track_popularity</th> <th>track_album_name</th> <th>track_album_release_date</th> <th>playlist_name</th> <th>playlist_genre</th> <th>playlist_subgenre</th> <th>danceability</th> <th>energy</th> <th>key</th> <th>loudness</th> <th>mode</th> <th>speechiness</th> <th>acousticness</th> <th>instrumentalness</th> <th>liveness</th> <th>valence</th> <th>tempo</th> <th>duration_ms</th>\n",
       "        </tr>\n",
       "    </thead>\n",
       "    <tbody>\n",
       "        <tr>\n",
       "            <td>I Don't Care (with Justin Bieber) - Loud Luxury Remix</td> <td>Ed Sheeran      </td> <td>66              </td> <td>I Don't Care (with Justin Bieber) [Loud Luxury Remix]</td> <td>2019-06-14              </td> <td>Pop Remix    </td> <td>pop           </td> <td>dance pop        </td> <td>0.748       </td> <td>0.916 </td> <td>6   </td> <td>-2.634  </td> <td>1   </td> <td>0.0583     </td> <td>0.102       </td> <td>0               </td> <td>0.0653  </td> <td>0.518  </td> <td>122.036</td> <td>194754     </td>\n",
       "        </tr>\n",
       "        <tr>\n",
       "            <td>Memories - Dillon Francis Remix                      </td> <td>Maroon 5        </td> <td>67              </td> <td>Memories (Dillon Francis Remix)                      </td> <td>2019-12-13              </td> <td>Pop Remix    </td> <td>pop           </td> <td>dance pop        </td> <td>0.726       </td> <td>0.815 </td> <td>11  </td> <td>-4.969  </td> <td>1   </td> <td>0.0373     </td> <td>0.0724      </td> <td>0.00421         </td> <td>0.357   </td> <td>0.693  </td> <td>99.972 </td> <td>162600     </td>\n",
       "        </tr>\n",
       "        <tr>\n",
       "            <td>All the Time - Don Diablo Remix                      </td> <td>Zara Larsson    </td> <td>70              </td> <td>All the Time (Don Diablo Remix)                      </td> <td>2019-07-05              </td> <td>Pop Remix    </td> <td>pop           </td> <td>dance pop        </td> <td>0.675       </td> <td>0.931 </td> <td>1   </td> <td>-3.432  </td> <td>0   </td> <td>0.0742     </td> <td>0.0794      </td> <td>2.33e-05        </td> <td>0.11    </td> <td>0.613  </td> <td>124.008</td> <td>176616     </td>\n",
       "        </tr>\n",
       "        <tr>\n",
       "            <td>Call You Mine - Keanu Silva Remix                    </td> <td>The Chainsmokers</td> <td>60              </td> <td>Call You Mine - The Remixes                          </td> <td>2019-07-19              </td> <td>Pop Remix    </td> <td>pop           </td> <td>dance pop        </td> <td>0.718       </td> <td>0.93  </td> <td>7   </td> <td>-3.778  </td> <td>1   </td> <td>0.102      </td> <td>0.0287      </td> <td>9.43e-06        </td> <td>0.204   </td> <td>0.277  </td> <td>121.956</td> <td>169093     </td>\n",
       "        </tr>\n",
       "        <tr>\n",
       "            <td>Someone You Loved - Future Humans Remix              </td> <td>Lewis Capaldi   </td> <td>69              </td> <td>Someone You Loved (Future Humans Remix)              </td> <td>2019-03-05              </td> <td>Pop Remix    </td> <td>pop           </td> <td>dance pop        </td> <td>0.65        </td> <td>0.833 </td> <td>1   </td> <td>-4.672  </td> <td>1   </td> <td>0.0359     </td> <td>0.0803      </td> <td>0               </td> <td>0.0833  </td> <td>0.725  </td> <td>123.976</td> <td>189052     </td>\n",
       "        </tr>\n",
       "        <tr>\n",
       "            <td>Beautiful People (feat. Khalid) - Jack Wins Remix    </td> <td>Ed Sheeran      </td> <td>67              </td> <td>Beautiful People (feat. Khalid) [Jack Wins Remix]    </td> <td>2019-07-11              </td> <td>Pop Remix    </td> <td>pop           </td> <td>dance pop        </td> <td>0.675       </td> <td>0.919 </td> <td>8   </td> <td>-5.385  </td> <td>1   </td> <td>0.127      </td> <td>0.0799      </td> <td>0               </td> <td>0.143   </td> <td>0.585  </td> <td>124.982</td> <td>163049     </td>\n",
       "        </tr>\n",
       "        <tr>\n",
       "            <td>Never Really Over - R3HAB Remix                      </td> <td>Katy Perry      </td> <td>62              </td> <td>Never Really Over (R3HAB Remix)                      </td> <td>2019-07-26              </td> <td>Pop Remix    </td> <td>pop           </td> <td>dance pop        </td> <td>0.449       </td> <td>0.856 </td> <td>5   </td> <td>-4.788  </td> <td>0   </td> <td>0.0623     </td> <td>0.187       </td> <td>0               </td> <td>0.176   </td> <td>0.152  </td> <td>112.648</td> <td>187675     </td>\n",
       "        </tr>\n",
       "        <tr>\n",
       "            <td>Post Malone (feat. RANI) - GATTÜSO Remix             </td> <td>Sam Feldt       </td> <td>69              </td> <td>Post Malone (feat. RANI) [GATTÜSO Remix]             </td> <td>2019-08-29              </td> <td>Pop Remix    </td> <td>pop           </td> <td>dance pop        </td> <td>0.542       </td> <td>0.903 </td> <td>4   </td> <td>-2.419  </td> <td>0   </td> <td>0.0434     </td> <td>0.0335      </td> <td>4.83e-06        </td> <td>0.111   </td> <td>0.367  </td> <td>127.936</td> <td>207619     </td>\n",
       "        </tr>\n",
       "        <tr>\n",
       "            <td>Tough Love - Tiësto Remix / Radio Edit               </td> <td>Avicii          </td> <td>68              </td> <td>Tough Love (Tiësto Remix)                            </td> <td>2019-06-14              </td> <td>Pop Remix    </td> <td>pop           </td> <td>dance pop        </td> <td>0.594       </td> <td>0.935 </td> <td>8   </td> <td>-3.562  </td> <td>1   </td> <td>0.0565     </td> <td>0.0249      </td> <td>3.97e-06        </td> <td>0.637   </td> <td>0.366  </td> <td>127.015</td> <td>193187     </td>\n",
       "        </tr>\n",
       "        <tr>\n",
       "            <td>If I Can't Have You - Gryffin Remix                  </td> <td>Shawn Mendes    </td> <td>67              </td> <td>If I Can't Have You (Gryffin Remix)                  </td> <td>2019-06-20              </td> <td>Pop Remix    </td> <td>pop           </td> <td>dance pop        </td> <td>0.642       </td> <td>0.818 </td> <td>2   </td> <td>-4.552  </td> <td>1   </td> <td>0.032      </td> <td>0.0567      </td> <td>0               </td> <td>0.0919  </td> <td>0.59   </td> <td>124.957</td> <td>253040     </td>\n",
       "        </tr>\n",
       "    </tbody>\n",
       "</table>\n",
       "<p>... (32823 rows omitted)</p>"
      ],
      "text/plain": [
       "track_name                                            | track_artist     | track_popularity | track_album_name                                      | track_album_release_date | playlist_name | playlist_genre | playlist_subgenre | danceability | energy | key  | loudness | mode | speechiness | acousticness | instrumentalness | liveness | valence | tempo   | duration_ms\n",
       "I Don't Care (with Justin Bieber) - Loud Luxury Remix | Ed Sheeran       | 66               | I Don't Care (with Justin Bieber) [Loud Luxury Remix] | 2019-06-14               | Pop Remix     | pop            | dance pop         | 0.748        | 0.916  | 6    | -2.634   | 1    | 0.0583      | 0.102        | 0                | 0.0653   | 0.518   | 122.036 | 194754\n",
       "Memories - Dillon Francis Remix                       | Maroon 5         | 67               | Memories (Dillon Francis Remix)                       | 2019-12-13               | Pop Remix     | pop            | dance pop         | 0.726        | 0.815  | 11   | -4.969   | 1    | 0.0373      | 0.0724       | 0.00421          | 0.357    | 0.693   | 99.972  | 162600\n",
       "All the Time - Don Diablo Remix                       | Zara Larsson     | 70               | All the Time (Don Diablo Remix)                       | 2019-07-05               | Pop Remix     | pop            | dance pop         | 0.675        | 0.931  | 1    | -3.432   | 0    | 0.0742      | 0.0794       | 2.33e-05         | 0.11     | 0.613   | 124.008 | 176616\n",
       "Call You Mine - Keanu Silva Remix                     | The Chainsmokers | 60               | Call You Mine - The Remixes                           | 2019-07-19               | Pop Remix     | pop            | dance pop         | 0.718        | 0.93   | 7    | -3.778   | 1    | 0.102       | 0.0287       | 9.43e-06         | 0.204    | 0.277   | 121.956 | 169093\n",
       "Someone You Loved - Future Humans Remix               | Lewis Capaldi    | 69               | Someone You Loved (Future Humans Remix)               | 2019-03-05               | Pop Remix     | pop            | dance pop         | 0.65         | 0.833  | 1    | -4.672   | 1    | 0.0359      | 0.0803       | 0                | 0.0833   | 0.725   | 123.976 | 189052\n",
       "Beautiful People (feat. Khalid) - Jack Wins Remix     | Ed Sheeran       | 67               | Beautiful People (feat. Khalid) [Jack Wins Remix]     | 2019-07-11               | Pop Remix     | pop            | dance pop         | 0.675        | 0.919  | 8    | -5.385   | 1    | 0.127       | 0.0799       | 0                | 0.143    | 0.585   | 124.982 | 163049\n",
       "Never Really Over - R3HAB Remix                       | Katy Perry       | 62               | Never Really Over (R3HAB Remix)                       | 2019-07-26               | Pop Remix     | pop            | dance pop         | 0.449        | 0.856  | 5    | -4.788   | 0    | 0.0623      | 0.187        | 0                | 0.176    | 0.152   | 112.648 | 187675\n",
       "Post Malone (feat. RANI) - GATTÜSO Remix              | Sam Feldt        | 69               | Post Malone (feat. RANI) [GATTÜSO Remix]              | 2019-08-29               | Pop Remix     | pop            | dance pop         | 0.542        | 0.903  | 4    | -2.419   | 0    | 0.0434      | 0.0335       | 4.83e-06         | 0.111    | 0.367   | 127.936 | 207619\n",
       "Tough Love - Tiësto Remix / Radio Edit                | Avicii           | 68               | Tough Love (Tiësto Remix)                             | 2019-06-14               | Pop Remix     | pop            | dance pop         | 0.594        | 0.935  | 8    | -3.562   | 1    | 0.0565      | 0.0249       | 3.97e-06         | 0.637    | 0.366   | 127.015 | 193187\n",
       "If I Can't Have You - Gryffin Remix                   | Shawn Mendes     | 67               | If I Can't Have You (Gryffin Remix)                   | 2019-06-20               | Pop Remix     | pop            | dance pop         | 0.642        | 0.818  | 2    | -4.552   | 1    | 0.032       | 0.0567       | 0                | 0.0919   | 0.59    | 124.957 | 253040\n",
       "... (32823 rows omitted)"
      ]
     },
     "execution_count": 37,
     "metadata": {},
     "output_type": "execute_result"
    }
   ],
   "source": [
    "spotify = spotify.drop(\"track_id\", \"track_album_id\",\"playlist_id\")\n",
    "spotify"
   ]
  },
  {
   "cell_type": "markdown",
   "id": "88a6843f",
   "metadata": {},
   "source": [
    "### Sorting columns of a table\n",
    "\n",
    "This is our first method (i.e. 'action') that contains an optional argument:\n",
    "<img src=\"Table_sort.png\" alt=\"drawing\" width=\"1200\"/>\n",
    "\n",
    "If you want to sort from small -> large, or A - Z, then we will sort in **ascending** order. <br>\n",
    "If you want to sort from large -> small, or Z - A, then we will sort in **descending** order."
   ]
  },
  {
   "cell_type": "code",
   "execution_count": 40,
   "id": "95654db0",
   "metadata": {},
   "outputs": [
    {
     "data": {
      "text/html": [
       "<table border=\"1\" class=\"dataframe\">\n",
       "    <thead>\n",
       "        <tr>\n",
       "            <th>track_name</th> <th>track_artist</th> <th>track_popularity</th> <th>track_album_name</th> <th>track_album_release_date</th> <th>playlist_name</th> <th>playlist_genre</th> <th>playlist_subgenre</th> <th>danceability</th> <th>energy</th> <th>key</th> <th>loudness</th> <th>mode</th> <th>speechiness</th> <th>acousticness</th> <th>instrumentalness</th> <th>liveness</th> <th>valence</th> <th>tempo</th> <th>duration_ms</th>\n",
       "        </tr>\n",
       "    </thead>\n",
       "    <tbody>\n",
       "        <tr>\n",
       "            <td>Mess Around                          </td> <td>Ray Charles           </td> <td>59              </td> <td>Ray Charles (aka: Hallelujah, I Love Her So)           </td> <td>1957-01-01              </td> <td>The 1950s/1960s/1970s/1980s/1990s/2000s/2010s with pop/r ...</td> <td>r&b           </td> <td>urban contemporary</td> <td>0.565       </td> <td>0.962 </td> <td>8   </td> <td>-2.981  </td> <td>1   </td> <td>0.064      </td> <td>0.437       </td> <td>0               </td> <td>0.056   </td> <td>0.906  </td> <td>148.808</td> <td>160227     </td>\n",
       "        </tr>\n",
       "        <tr>\n",
       "            <td>Long Tall Sally (The Thing)          </td> <td>Little Richard        </td> <td>1               </td> <td>Here's Little Richard [Remastered & Expanded]          </td> <td>1957-03                 </td> <td>Blues Rock                                                  </td> <td>rock          </td> <td>classic rock      </td> <td>0.474       </td> <td>0.598 </td> <td>5   </td> <td>-5.023  </td> <td>1   </td> <td>0.0973     </td> <td>0.768       </td> <td>0               </td> <td>0.0841  </td> <td>0.917  </td> <td>184.484</td> <td>131853     </td>\n",
       "        </tr>\n",
       "        <tr>\n",
       "            <td>Jailhouse Rock                       </td> <td>Elvis Presley         </td> <td>73              </td> <td>Elvis' Golden Records                                  </td> <td>1958-03-21              </td> <td>Blues Rock                                                  </td> <td>rock          </td> <td>classic rock      </td> <td>0.647       </td> <td>0.582 </td> <td>10  </td> <td>-9.538  </td> <td>0   </td> <td>0.0755     </td> <td>0.41        </td> <td>1.93e-06        </td> <td>0.0715  </td> <td>0.915  </td> <td>167.396</td> <td>146480     </td>\n",
       "        </tr>\n",
       "        <tr>\n",
       "            <td>At Last - Single Version             </td> <td>Etta James            </td> <td>25              </td> <td>At Last!                                               </td> <td>1960                    </td> <td>The 1950s/1960s/1970s/1980s/1990s/2000s/2010s with pop/r ...</td> <td>r&b           </td> <td>urban contemporary</td> <td>0.168       </td> <td>0.326 </td> <td>5   </td> <td>-9.981  </td> <td>1   </td> <td>0.0324     </td> <td>0.721       </td> <td>0.0006          </td> <td>0.316   </td> <td>0.322  </td> <td>174.794</td> <td>182400     </td>\n",
       "        </tr>\n",
       "        <tr>\n",
       "            <td>(What A) Wonderful World - Remastered</td> <td>Sam Cooke             </td> <td>13              </td> <td>The Wonderful World Of Sam Cooke (Remastered)          </td> <td>1960                    </td> <td>The 1950s/1960s/1970s/1980s/1990s/2000s/2010s with pop/r ...</td> <td>r&b           </td> <td>urban contemporary</td> <td>0.524       </td> <td>0.543 </td> <td>11  </td> <td>-9.889  </td> <td>1   </td> <td>0.0397     </td> <td>0.734       </td> <td>0               </td> <td>0.275   </td> <td>0.877  </td> <td>128.091</td> <td>125507     </td>\n",
       "        </tr>\n",
       "        <tr>\n",
       "            <td>Jingle Bells                         </td> <td>Ella Fitzgerald       </td> <td>11              </td> <td>Ella Wishes You A Swinging Christmas (Expanded Edition)</td> <td>1960                    </td> <td>Christmas Soul                                              </td> <td>r&b           </td> <td>neo soul          </td> <td>0.688       </td> <td>0.7   </td> <td>7   </td> <td>-6.295  </td> <td>1   </td> <td>0.0757     </td> <td>0.73        </td> <td>0               </td> <td>0.727   </td> <td>0.876  </td> <td>119.117</td> <td>142547     </td>\n",
       "        </tr>\n",
       "        <tr>\n",
       "            <td>At Last - Single Version             </td> <td>Etta James            </td> <td>15              </td> <td>Love Songs                                             </td> <td>1960                    </td> <td>Sexy Soul 2020                                              </td> <td>r&b           </td> <td>neo soul          </td> <td>0.165       </td> <td>0.29  </td> <td>5   </td> <td>-9.881  </td> <td>1   </td> <td>0.0316     </td> <td>0.701       </td> <td>0.00113         </td> <td>0.286   </td> <td>0.241  </td> <td>174.61 </td> <td>179893     </td>\n",
       "        </tr>\n",
       "        <tr>\n",
       "            <td>Paloma Negra                         </td> <td>Chavela Vargas        </td> <td>47              </td> <td>Chavela Vargas                                         </td> <td>1961-10-26              </td> <td>Urban contemporary                                          </td> <td>r&b           </td> <td>urban contemporary</td> <td>0.585       </td> <td>0.036 </td> <td>2   </td> <td>-14.145 </td> <td>1   </td> <td>0.0418     </td> <td>0.859       </td> <td>3.34e-06        </td> <td>0.0908  </td> <td>0.433  </td> <td>151.223</td> <td>198760     </td>\n",
       "        </tr>\n",
       "        <tr>\n",
       "            <td>Green Onions                         </td> <td>Booker T. & the M.G.'s</td> <td>64              </td> <td>Green Onions                                           </td> <td>1962                    </td> <td>Supernatural Classic Rock                                   </td> <td>rock          </td> <td>classic rock      </td> <td>0.816       </td> <td>0.514 </td> <td>10  </td> <td>-8.741  </td> <td>1   </td> <td>0.0339     </td> <td>0.767       </td> <td>0.949           </td> <td>0.0899  </td> <td>0.912  </td> <td>136.837</td> <td>176333     </td>\n",
       "        </tr>\n",
       "        <tr>\n",
       "            <td>Green Onions                         </td> <td>Booker T. & the M.G.'s</td> <td>64              </td> <td>Green Onions                                           </td> <td>1962                    </td> <td>The 1950s/1960s/1970s/1980s/1990s/2000s/2010s with pop/r ...</td> <td>r&b           </td> <td>urban contemporary</td> <td>0.816       </td> <td>0.514 </td> <td>10  </td> <td>-8.741  </td> <td>1   </td> <td>0.0339     </td> <td>0.767       </td> <td>0.949           </td> <td>0.0899  </td> <td>0.912  </td> <td>136.837</td> <td>176333     </td>\n",
       "        </tr>\n",
       "    </tbody>\n",
       "</table>\n",
       "<p>... (32823 rows omitted)</p>"
      ],
      "text/plain": [
       "track_name                            | track_artist           | track_popularity | track_album_name                                        | track_album_release_date | playlist_name                                                | playlist_genre | playlist_subgenre  | danceability | energy | key  | loudness | mode | speechiness | acousticness | instrumentalness | liveness | valence | tempo   | duration_ms\n",
       "Mess Around                           | Ray Charles            | 59               | Ray Charles (aka: Hallelujah, I Love Her So)            | 1957-01-01               | The 1950s/1960s/1970s/1980s/1990s/2000s/2010s with pop/r ... | r&b            | urban contemporary | 0.565        | 0.962  | 8    | -2.981   | 1    | 0.064       | 0.437        | 0                | 0.056    | 0.906   | 148.808 | 160227\n",
       "Long Tall Sally (The Thing)           | Little Richard         | 1                | Here's Little Richard [Remastered & Expanded]           | 1957-03                  | Blues Rock                                                   | rock           | classic rock       | 0.474        | 0.598  | 5    | -5.023   | 1    | 0.0973      | 0.768        | 0                | 0.0841   | 0.917   | 184.484 | 131853\n",
       "Jailhouse Rock                        | Elvis Presley          | 73               | Elvis' Golden Records                                   | 1958-03-21               | Blues Rock                                                   | rock           | classic rock       | 0.647        | 0.582  | 10   | -9.538   | 0    | 0.0755      | 0.41         | 1.93e-06         | 0.0715   | 0.915   | 167.396 | 146480\n",
       "At Last - Single Version              | Etta James             | 25               | At Last!                                                | 1960                     | The 1950s/1960s/1970s/1980s/1990s/2000s/2010s with pop/r ... | r&b            | urban contemporary | 0.168        | 0.326  | 5    | -9.981   | 1    | 0.0324      | 0.721        | 0.0006           | 0.316    | 0.322   | 174.794 | 182400\n",
       "(What A) Wonderful World - Remastered | Sam Cooke              | 13               | The Wonderful World Of Sam Cooke (Remastered)           | 1960                     | The 1950s/1960s/1970s/1980s/1990s/2000s/2010s with pop/r ... | r&b            | urban contemporary | 0.524        | 0.543  | 11   | -9.889   | 1    | 0.0397      | 0.734        | 0                | 0.275    | 0.877   | 128.091 | 125507\n",
       "Jingle Bells                          | Ella Fitzgerald        | 11               | Ella Wishes You A Swinging Christmas (Expanded Edition) | 1960                     | Christmas Soul                                               | r&b            | neo soul           | 0.688        | 0.7    | 7    | -6.295   | 1    | 0.0757      | 0.73         | 0                | 0.727    | 0.876   | 119.117 | 142547\n",
       "At Last - Single Version              | Etta James             | 15               | Love Songs                                              | 1960                     | Sexy Soul 2020                                               | r&b            | neo soul           | 0.165        | 0.29   | 5    | -9.881   | 1    | 0.0316      | 0.701        | 0.00113          | 0.286    | 0.241   | 174.61  | 179893\n",
       "Paloma Negra                          | Chavela Vargas         | 47               | Chavela Vargas                                          | 1961-10-26               | Urban contemporary                                           | r&b            | urban contemporary | 0.585        | 0.036  | 2    | -14.145  | 1    | 0.0418      | 0.859        | 3.34e-06         | 0.0908   | 0.433   | 151.223 | 198760\n",
       "Green Onions                          | Booker T. & the M.G.'s | 64               | Green Onions                                            | 1962                     | Supernatural Classic Rock                                    | rock           | classic rock       | 0.816        | 0.514  | 10   | -8.741   | 1    | 0.0339      | 0.767        | 0.949            | 0.0899   | 0.912   | 136.837 | 176333\n",
       "Green Onions                          | Booker T. & the M.G.'s | 64               | Green Onions                                            | 1962                     | The 1950s/1960s/1970s/1980s/1990s/2000s/2010s with pop/r ... | r&b            | urban contemporary | 0.816        | 0.514  | 10   | -8.741   | 1    | 0.0339      | 0.767        | 0.949            | 0.0899   | 0.912   | 136.837 | 176333\n",
       "... (32823 rows omitted)"
      ]
     },
     "execution_count": 40,
     "metadata": {},
     "output_type": "execute_result"
    }
   ],
   "source": [
    "spotify.sort(\"track_album_release_date\")"
   ]
  },
  {
   "cell_type": "markdown",
   "id": "bd769951",
   "metadata": {},
   "source": [
    "### Filtering our table based upon a condition\n",
    "\n",
    "Sometimes we want to narrow down our list of individuals based upon a status or condition and look at them in their own table. We can do so using the following method: \n",
    "<img src=\"Table_where.png\" alt=\"drawing\" width=\"1200\"/>\n",
    "\n",
    "Note that our condition is defined as a predicate. The table of predicates below: \n",
    "<img src=\"Table_where_predicates.png\" alt=\"drawing\" width=\"1200\"/>"
   ]
  },
  {
   "cell_type": "code",
   "execution_count": 42,
   "id": "bc53047a",
   "metadata": {},
   "outputs": [
    {
     "data": {
      "text/html": [
       "<table border=\"1\" class=\"dataframe\">\n",
       "    <thead>\n",
       "        <tr>\n",
       "            <th>Do you have a Costco membership?</th> <th>How many cars do you own?</th> <th>Do you prefer personally driving or relying on other transportation?</th> <th>How many siblings do you have?</th> <th>What is your favorite genre of music?</th> <th>Do you prefer online shopping or in person shopping?</th> <th>What type of food do you prefer?</th> <th>Are you lactose intolerant?</th> <th>How many close friends do you have?</th> <th>How many kids do you have?</th> <th>Are you a dog or cat person?</th> <th>What color lightsaber would you pick?</th> <th>What is your starter Pokemon?</th> <th>What is your average daily cellular screen time?</th>\n",
       "        </tr>\n",
       "    </thead>\n",
       "    <tbody>\n",
       "        <tr>\n",
       "            <td>Yes                             </td> <td>1                        </td> <td>driving                                                             </td> <td>1.5                           </td> <td>Alt                                  </td> <td>online shopping                                     </td> <td>Japanese                        </td> <td>No                         </td> <td>9                                  </td> <td>1                         </td> <td>dog                         </td> <td>orange                               </td> <td>Squirtle                     </td> <td>1 - 2 hours                                     </td>\n",
       "        </tr>\n",
       "        <tr>\n",
       "            <td>Yes                             </td> <td>1                        </td> <td>other transportation                                                </td> <td>1                             </td> <td>pop                                  </td> <td>in person shopping                                  </td> <td>Mexican                         </td> <td>No                         </td> <td>5                                  </td> <td>1                         </td> <td>cat                         </td> <td>purple                               </td> <td>Squirtle                     </td> <td>1 - 2 hours                                     </td>\n",
       "        </tr>\n",
       "        <tr>\n",
       "            <td>Yes                             </td> <td>3                        </td> <td>driving                                                             </td> <td>2                             </td> <td>rock                                 </td> <td>online shopping                                     </td> <td>Chinese                         </td> <td>No                         </td> <td>3                                  </td> <td>1                         </td> <td>dog                         </td> <td>black                                </td> <td>Squirtle                     </td> <td>3 - 4 hours                                     </td>\n",
       "        </tr>\n",
       "        <tr>\n",
       "            <td>Yes                             </td> <td>1                        </td> <td>other transportation                                                </td> <td>3                             </td> <td>Mexican Banda                        </td> <td>in person shopping                                  </td> <td>Japanese                        </td> <td>Yes                        </td> <td>3                                  </td> <td>0                         </td> <td>cat                         </td> <td>yellow                               </td> <td>Squirtle                     </td> <td>3 - 4 hours                                     </td>\n",
       "        </tr>\n",
       "        <tr>\n",
       "            <td>Yes                             </td> <td>3                        </td> <td>driving                                                             </td> <td>4                             </td> <td>kpop                                 </td> <td>in person shopping                                  </td> <td>Japanese                        </td> <td>No                         </td> <td>5                                  </td> <td>0                         </td> <td>cat                         </td> <td>green blue                           </td> <td>Squirtle                     </td> <td>more than 5 hours                               </td>\n",
       "        </tr>\n",
       "        <tr>\n",
       "            <td>Yes                             </td> <td>0                        </td> <td>other transportation                                                </td> <td>13                            </td> <td>R & B                                </td> <td>online shopping                                     </td> <td>Japanese                        </td> <td>Yes                        </td> <td>5                                  </td> <td>1                         </td> <td>neither                     </td> <td>green blue                           </td> <td>Squirtle                     </td> <td>3 - 4 hours                                     </td>\n",
       "        </tr>\n",
       "        <tr>\n",
       "            <td>No                              </td> <td>1                        </td> <td>other transportation                                                </td> <td>1                             </td> <td>rap                                  </td> <td>online shopping                                     </td> <td>Mexican                         </td> <td>I don't know               </td> <td>10                                 </td> <td>0                         </td> <td>dog                         </td> <td>yellow                               </td> <td>Squirtle                     </td> <td>1 - 2 hours                                     </td>\n",
       "        </tr>\n",
       "        <tr>\n",
       "            <td>Yes                             </td> <td>1                        </td> <td>driving                                                             </td> <td>1                             </td> <td>R & B                                </td> <td>in person shopping                                  </td> <td>Mexican                         </td> <td>No                         </td> <td>4                                  </td> <td>0                         </td> <td>dog                         </td> <td>yellow                               </td> <td>Squirtle                     </td> <td>3 - 4 hours                                     </td>\n",
       "        </tr>\n",
       "        <tr>\n",
       "            <td>Yes                             </td> <td>1                        </td> <td>driving                                                             </td> <td>3                             </td> <td>rap                                  </td> <td>in person shopping                                  </td> <td>Italian                         </td> <td>No                         </td> <td>8                                  </td> <td>1                         </td> <td>dog                         </td> <td>black                                </td> <td>Squirtle                     </td> <td>1 - 2 hours                                     </td>\n",
       "        </tr>\n",
       "        <tr>\n",
       "            <td>Yes                             </td> <td>2                        </td> <td>driving                                                             </td> <td>1                             </td> <td>Punk rock                            </td> <td>online shopping                                     </td> <td>Chinese                         </td> <td>No                         </td> <td>6                                  </td> <td>1                         </td> <td>dog                         </td> <td>red                                  </td> <td>Squirtle                     </td> <td>3 - 4 hours                                     </td>\n",
       "        </tr>\n",
       "    </tbody>\n",
       "</table>\n",
       "<p>... (25 rows omitted)</p>"
      ],
      "text/plain": [
       "Do you have a Costco membership? | How many cars do you own? | Do you prefer personally driving or relying on other transportation? | How many siblings do you have? | What is your favorite genre of music? | Do you prefer online shopping or in person shopping? | What type of food do you prefer? | Are you lactose intolerant? | How many close friends do you have? | How many kids do you have? | Are you a dog or cat person? | What color lightsaber would you pick? | What is your starter Pokemon? | What is your average daily cellular screen time?\n",
       "Yes                              | 1                         | driving                                                              | 1.5                            | Alt                                   | online shopping                                      | Japanese                         | No                          | 9                                   | 1                          | dog                          | orange                                | Squirtle                      | 1 - 2 hours\n",
       "Yes                              | 1                         | other transportation                                                 | 1                              | pop                                   | in person shopping                                   | Mexican                          | No                          | 5                                   | 1                          | cat                          | purple                                | Squirtle                      | 1 - 2 hours\n",
       "Yes                              | 3                         | driving                                                              | 2                              | rock                                  | online shopping                                      | Chinese                          | No                          | 3                                   | 1                          | dog                          | black                                 | Squirtle                      | 3 - 4 hours\n",
       "Yes                              | 1                         | other transportation                                                 | 3                              | Mexican Banda                         | in person shopping                                   | Japanese                         | Yes                         | 3                                   | 0                          | cat                          | yellow                                | Squirtle                      | 3 - 4 hours\n",
       "Yes                              | 3                         | driving                                                              | 4                              | kpop                                  | in person shopping                                   | Japanese                         | No                          | 5                                   | 0                          | cat                          | green blue                            | Squirtle                      | more than 5 hours\n",
       "Yes                              | 0                         | other transportation                                                 | 13                             | R & B                                 | online shopping                                      | Japanese                         | Yes                         | 5                                   | 1                          | neither                      | green blue                            | Squirtle                      | 3 - 4 hours\n",
       "No                               | 1                         | other transportation                                                 | 1                              | rap                                   | online shopping                                      | Mexican                          | I don't know                | 10                                  | 0                          | dog                          | yellow                                | Squirtle                      | 1 - 2 hours\n",
       "Yes                              | 1                         | driving                                                              | 1                              | R & B                                 | in person shopping                                   | Mexican                          | No                          | 4                                   | 0                          | dog                          | yellow                                | Squirtle                      | 3 - 4 hours\n",
       "Yes                              | 1                         | driving                                                              | 3                              | rap                                   | in person shopping                                   | Italian                          | No                          | 8                                   | 1                          | dog                          | black                                 | Squirtle                      | 1 - 2 hours\n",
       "Yes                              | 2                         | driving                                                              | 1                              | Punk rock                             | online shopping                                      | Chinese                          | No                          | 6                                   | 1                          | dog                          | red                                   | Squirtle                      | 3 - 4 hours\n",
       "... (25 rows omitted)"
      ]
     },
     "execution_count": 42,
     "metadata": {},
     "output_type": "execute_result"
    }
   ],
   "source": [
    "survey.where(\"What is your starter Pokemon?\",are.equal_to(\"Squirtle\"))"
   ]
  },
  {
   "cell_type": "markdown",
   "id": "d152edf2",
   "metadata": {},
   "source": [
    "# Building Tables with `tbl.with_column`\n",
    "\n",
    "We can append columns to a table using the following method. \n",
    "<img src=\"tbl.with_column.png\" alt=\"drawing\" width=\"1200\"/>"
   ]
  },
  {
   "cell_type": "code",
   "execution_count": 43,
   "id": "69e35d53",
   "metadata": {},
   "outputs": [
    {
     "data": {
      "text/plain": [
       "array(['Netflix', 'HBO Max', 'Hulu', 'Crunchyroll', 'Spotify', 'DoorDash',\n",
       "       'AmazonPrime', 'Discord Nitro'],\n",
       "      dtype='<U13')"
      ]
     },
     "execution_count": 43,
     "metadata": {},
     "output_type": "execute_result"
    }
   ],
   "source": [
    "subscription = make_array('Netflix','HBO Max','Hulu','Crunchyroll','Spotify','DoorDash','AmazonPrime','Discord Nitro')\n",
    "subscription"
   ]
  },
  {
   "cell_type": "code",
   "execution_count": 44,
   "id": "3df74ba8",
   "metadata": {},
   "outputs": [
    {
     "data": {
      "text/plain": [
       "array([ 19.99      ,  14.99      ,   9.99      ,   9.99      ,\n",
       "         9.99      ,   9.99      ,  10.83333333,  14.16416667])"
      ]
     },
     "execution_count": 44,
     "metadata": {},
     "output_type": "execute_result"
    }
   ],
   "source": [
    "#Amazon and Discord are annual fees\n",
    "month_fee_cost = make_array(19.99,14.99,9.99,9.99,9.99,9.99,(130/12),(169.97/12))\n",
    "month_fee_cost"
   ]
  },
  {
   "cell_type": "code",
   "execution_count": 45,
   "id": "d69ad731",
   "metadata": {},
   "outputs": [
    {
     "data": {
      "text/html": [
       "<table border=\"1\" class=\"dataframe\">\n",
       "    <thead>\n",
       "        <tr>\n",
       "            <th>Subscription</th> <th>$$ per month</th>\n",
       "        </tr>\n",
       "    </thead>\n",
       "    <tbody>\n",
       "        <tr>\n",
       "            <td>Netflix      </td> <td>19.99       </td>\n",
       "        </tr>\n",
       "        <tr>\n",
       "            <td>HBO Max      </td> <td>14.99       </td>\n",
       "        </tr>\n",
       "        <tr>\n",
       "            <td>Hulu         </td> <td>9.99        </td>\n",
       "        </tr>\n",
       "        <tr>\n",
       "            <td>Crunchyroll  </td> <td>9.99        </td>\n",
       "        </tr>\n",
       "        <tr>\n",
       "            <td>Spotify      </td> <td>9.99        </td>\n",
       "        </tr>\n",
       "        <tr>\n",
       "            <td>DoorDash     </td> <td>9.99        </td>\n",
       "        </tr>\n",
       "        <tr>\n",
       "            <td>AmazonPrime  </td> <td>10.8333     </td>\n",
       "        </tr>\n",
       "        <tr>\n",
       "            <td>Discord Nitro</td> <td>14.1642     </td>\n",
       "        </tr>\n",
       "    </tbody>\n",
       "</table>"
      ],
      "text/plain": [
       "Subscription  | $$ per month\n",
       "Netflix       | 19.99\n",
       "HBO Max       | 14.99\n",
       "Hulu          | 9.99\n",
       "Crunchyroll   | 9.99\n",
       "Spotify       | 9.99\n",
       "DoorDash      | 9.99\n",
       "AmazonPrime   | 10.8333\n",
       "Discord Nitro | 14.1642"
      ]
     },
     "execution_count": 45,
     "metadata": {},
     "output_type": "execute_result"
    }
   ],
   "source": [
    "bryans_monthly_subscriptions = Table().with_columns('Subscription',subscription,'$$ per month',month_fee_cost)\n",
    "bryans_monthly_subscriptions"
   ]
  },
  {
   "cell_type": "code",
   "execution_count": 46,
   "id": "b26f0220",
   "metadata": {},
   "outputs": [
    {
     "data": {
      "text/plain": [
       "array([ 239.88,  179.88,  119.88,  119.88,  119.88,  119.88,  130.  ,\n",
       "        169.97])"
      ]
     },
     "execution_count": 46,
     "metadata": {},
     "output_type": "execute_result"
    }
   ],
   "source": [
    "#annual_cost = bryans_monthly_subscriptions.column('$$ per month') * 12\n",
    "#OR, below\n",
    "annual_cost = month_fee_cost *12 \n",
    "annual_cost"
   ]
  },
  {
   "cell_type": "code",
   "execution_count": 47,
   "id": "2708cd00",
   "metadata": {},
   "outputs": [
    {
     "data": {
      "text/html": [
       "<table border=\"1\" class=\"dataframe\">\n",
       "    <thead>\n",
       "        <tr>\n",
       "            <th>Subscription</th> <th>$$ per month</th> <th>$$ each year</th>\n",
       "        </tr>\n",
       "    </thead>\n",
       "    <tbody>\n",
       "        <tr>\n",
       "            <td>Netflix      </td> <td>19.99       </td> <td>239.88      </td>\n",
       "        </tr>\n",
       "        <tr>\n",
       "            <td>HBO Max      </td> <td>14.99       </td> <td>179.88      </td>\n",
       "        </tr>\n",
       "        <tr>\n",
       "            <td>Hulu         </td> <td>9.99        </td> <td>119.88      </td>\n",
       "        </tr>\n",
       "        <tr>\n",
       "            <td>Crunchyroll  </td> <td>9.99        </td> <td>119.88      </td>\n",
       "        </tr>\n",
       "        <tr>\n",
       "            <td>Spotify      </td> <td>9.99        </td> <td>119.88      </td>\n",
       "        </tr>\n",
       "        <tr>\n",
       "            <td>DoorDash     </td> <td>9.99        </td> <td>119.88      </td>\n",
       "        </tr>\n",
       "        <tr>\n",
       "            <td>AmazonPrime  </td> <td>10.8333     </td> <td>130         </td>\n",
       "        </tr>\n",
       "        <tr>\n",
       "            <td>Discord Nitro</td> <td>14.1642     </td> <td>169.97      </td>\n",
       "        </tr>\n",
       "    </tbody>\n",
       "</table>"
      ],
      "text/plain": [
       "Subscription  | $$ per month | $$ each year\n",
       "Netflix       | 19.99        | 239.88\n",
       "HBO Max       | 14.99        | 179.88\n",
       "Hulu          | 9.99         | 119.88\n",
       "Crunchyroll   | 9.99         | 119.88\n",
       "Spotify       | 9.99         | 119.88\n",
       "DoorDash      | 9.99         | 119.88\n",
       "AmazonPrime   | 10.8333      | 130\n",
       "Discord Nitro | 14.1642      | 169.97"
      ]
     },
     "execution_count": 47,
     "metadata": {},
     "output_type": "execute_result"
    }
   ],
   "source": [
    "new_table = bryans_monthly_subscriptions.with_column('$$ each year',annual_cost)#.drop('$$ per month')\n",
    "new_table"
   ]
  },
  {
   "cell_type": "code",
   "execution_count": 48,
   "id": "438ac987",
   "metadata": {},
   "outputs": [
    {
     "data": {
      "text/plain": [
       "1199.25"
      ]
     },
     "execution_count": 48,
     "metadata": {},
     "output_type": "execute_result"
    }
   ],
   "source": [
    "sum(annual_cost)"
   ]
  },
  {
   "cell_type": "code",
   "execution_count": null,
   "id": "042d0aa0-a706-44c0-ab22-048eb8fdc053",
   "metadata": {},
   "outputs": [],
   "source": []
  }
 ],
 "metadata": {
  "kernelspec": {
   "display_name": "Python 3 (ipykernel)",
   "language": "python",
   "name": "python3"
  },
  "language_info": {
   "codemirror_mode": {
    "name": "ipython",
    "version": 3
   },
   "file_extension": ".py",
   "mimetype": "text/x-python",
   "name": "python",
   "nbconvert_exporter": "python",
   "pygments_lexer": "ipython3",
   "version": "3.11.13"
  }
 },
 "nbformat": 4,
 "nbformat_minor": 5
}
